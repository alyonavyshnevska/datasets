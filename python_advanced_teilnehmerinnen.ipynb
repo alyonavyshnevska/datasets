{
  "nbformat": 4,
  "nbformat_minor": 0,
  "metadata": {
    "colab": {
      "name": "python-advanced-teilnehmerinnen.ipynb",
      "provenance": [],
      "collapsed_sections": [
        "bLjwXaxwrDdW",
        "UkQehxharOoC",
        "ChXcstkbP5Rc",
        "g1QzbxNWRmwA"
      ],
      "toc_visible": true
    },
    "kernelspec": {
      "name": "python3",
      "display_name": "Python 3"
    }
  },
  "cells": [
    {
      "cell_type": "code",
      "metadata": {
        "id": "CVWSM4pVqhC7"
      },
      "source": [
        "import pandas as pd\n",
        "import numpy as np\n",
        "import matplotlib.pyplot as plt\n",
        "np.random.seed(1)\n",
        "\n",
        "# get datasets\n",
        "!wget -q https://raw.githubusercontent.com/alyonavyshnevska/datasets/main/wahlbeteiligung.csv\n",
        "!wget -q https://raw.githubusercontent.com/alyonavyshnevska/datasets/main/Humidity.csv\n",
        "!wget -q https://raw.githubusercontent.com/alyonavyshnevska/datasets/main/Temperature.csv"
      ],
      "execution_count": 1,
      "outputs": []
    },
    {
      "cell_type": "markdown",
      "metadata": {
        "id": "bLjwXaxwrDdW"
      },
      "source": [
        "# Grundlagen (Manuel)\n",
        "\n",
        "In diesen Kapitel wollen wir mit euch alle Grundlagen üben, auf denen dann spätere Aufgaben aufbauen.\n"
      ]
    },
    {
      "cell_type": "markdown",
      "metadata": {
        "id": "ewsaj9nbxcxs"
      },
      "source": [
        "## Array Splitting"
      ]
    },
    {
      "cell_type": "code",
      "metadata": {
        "id": "JKj9VA4qxmtA"
      },
      "source": [
        "D1_arr = [0,1,2,3,4,5,6,7,8,9,10]\n",
        "D2_arr = [[0,1,2,3,4,5,6,7,8,9,10],\n",
        "          [0,1,2,3,4,5,6,7,8,9,10],\n",
        "          [0,1,2,3,4,5,6,7,8,9,10],\n",
        "          [0,1,2,3,4,5,6,7,8,9,10],]"
      ],
      "execution_count": null,
      "outputs": []
    },
    {
      "cell_type": "code",
      "metadata": {
        "colab": {
          "base_uri": "https://localhost:8080/"
        },
        "id": "IaHJbmczyN4Y",
        "outputId": "8d7ca2c3-283c-42b3-c6d7-845add3f486b"
      },
      "source": [
        "# Auf ein Element in der ersten Dimension zugreifen:\n",
        "first_element1 = D1_arr[0]\n",
        "first_element2 = D2_arr[0]\n",
        "print(f'Zugriff auf 1D Array: {first_element1}')\n",
        "print(f'Zugriff auf 2D Array: {first_element2}')"
      ],
      "execution_count": null,
      "outputs": [
        {
          "output_type": "stream",
          "text": [
            "Zugriff auf 1D Array: 0\n",
            "Zugriff auf 2D Array: [1, 2, 3, 4, 5, 6, 7, 8, 9, 10]\n"
          ],
          "name": "stdout"
        }
      ]
    },
    {
      "cell_type": "code",
      "metadata": {
        "colab": {
          "base_uri": "https://localhost:8080/"
        },
        "id": "gsTU3v-Zyk1E",
        "outputId": "8c13d547-2952-43c4-9deb-75e36577d250"
      },
      "source": [
        "# Auf das erste Element des ersten Arrays zugreifen:\n",
        "first_element2 = D2_arr[0][0]\n",
        "first_element2"
      ],
      "execution_count": null,
      "outputs": [
        {
          "output_type": "execute_result",
          "data": {
            "text/plain": [
              "0"
            ]
          },
          "metadata": {
            "tags": []
          },
          "execution_count": 12
        }
      ]
    },
    {
      "cell_type": "markdown",
      "metadata": {
        "id": "GhR_OgECy1ke"
      },
      "source": [
        "## Array Splitting mit Numpy\n",
        "Für sehr interessierte hier noch ein teschnicher Unterschied von Numpy Array zu normalen Python Arrays: [Unterschied](https://stackoverflow.com/questions/35825802/what-is-the-difference-between-numpy-array-and-simple-python-array#:~:text=1%20Answer&text=Numpy%20arrays%20is%20a%20typed,a%20homogenous%2C%20densely%20packed%20numbers.&text=While%20numpy%20array%20can%20be,you%20can%20code%20with%20list.)\n",
        "\n",
        "Als erstes Erstellen wir ein Numpy Array aus einem normalen python Liste. Hier gibt es zwei Möglichkeiten:\n",
        "1. np.asarray: Falls der Parameter schon ein ndarray (Numpy Array) ist, wird hier **keine** Kopie erstellt.\n",
        "2. np.array: Falls der Parameter schon ein ndarray (Numpy Array) ist, wird hier **eine** Kopie erstellt. (Neuer Speicherplatz)"
      ]
    },
    {
      "cell_type": "code",
      "metadata": {
        "colab": {
          "base_uri": "https://localhost:8080/"
        },
        "id": "jL-ioZcmz8zs",
        "outputId": "9daded20-f637-46b1-81f6-8eb70b2b1c43"
      },
      "source": [
        "# erstellen eines Numpy Arrays\n",
        "D2_arr = [[i + 10*j for i in range(1, 11)] for j in range(0, 10)]\n",
        "np_array1 = np.array(D1_arr)\n",
        "np_array2 = np.asarray(D2_arr)\n",
        "print(np_array1)\n",
        "print(np_array2)"
      ],
      "execution_count": null,
      "outputs": [
        {
          "output_type": "stream",
          "text": [
            "[ 0  1  2  3  4  5  6  7  8  9 10]\n",
            "[[  1   2   3   4   5   6   7   8   9  10]\n",
            " [ 11  12  13  14  15  16  17  18  19  20]\n",
            " [ 21  22  23  24  25  26  27  28  29  30]\n",
            " [ 31  32  33  34  35  36  37  38  39  40]\n",
            " [ 41  42  43  44  45  46  47  48  49  50]\n",
            " [ 51  52  53  54  55  56  57  58  59  60]\n",
            " [ 61  62  63  64  65  66  67  68  69  70]\n",
            " [ 71  72  73  74  75  76  77  78  79  80]\n",
            " [ 81  82  83  84  85  86  87  88  89  90]\n",
            " [ 91  92  93  94  95  96  97  98  99 100]]\n"
          ],
          "name": "stdout"
        }
      ]
    },
    {
      "cell_type": "code",
      "metadata": {
        "colab": {
          "base_uri": "https://localhost:8080/"
        },
        "id": "7ZS1dFj14NSN",
        "outputId": "123efcc1-0cc1-4c77-a561-86d68b5c4d35"
      },
      "source": [
        "# Splitting für 1D\n",
        "a = 1 # Startindex erste Dimension\n",
        "b = 7# Endintex erste Dimension (Exclusive)\n",
        "c = 1# Schrittweite erste Dimension\n",
        "split = np_array1[a:b:c]\n",
        "print(split)"
      ],
      "execution_count": null,
      "outputs": [
        {
          "output_type": "stream",
          "text": [
            "[1 2 3 4 5 6]\n"
          ],
          "name": "stdout"
        }
      ]
    },
    {
      "cell_type": "code",
      "metadata": {
        "colab": {
          "base_uri": "https://localhost:8080/"
        },
        "id": "L5XS0puX1oFw",
        "outputId": "f0b9a5db-d7f3-4fe6-efcf-17b4e608e5c4"
      },
      "source": [
        "# Splitting für 2D\n",
        "a = 1 # Startindex erste Dimension\n",
        "b = 7# Endintex erste Dimension(Exclusive)\n",
        "c = 1# Schrittweite erste Dimension\n",
        "\n",
        "d = 1# Startindex zweite Dimension\n",
        "e = 10# Endindex zweite Dimension(Exclusive)\n",
        "f = 2# Schrittweite zweite Dimension\n",
        "split = np_array2[a:b:c, d:e:f]\n",
        "print(split)"
      ],
      "execution_count": null,
      "outputs": [
        {
          "output_type": "stream",
          "text": [
            "[[12 14 16 18 20]\n",
            " [22 24 26 28 30]\n",
            " [32 34 36 38 40]\n",
            " [42 44 46 48 50]\n",
            " [52 54 56 58 60]\n",
            " [62 64 66 68 70]]\n"
          ],
          "name": "stdout"
        }
      ]
    },
    {
      "cell_type": "markdown",
      "metadata": {
        "id": "BeqTszFJ45wi"
      },
      "source": [
        "## Verschiedene nützliche Numpy Funktionen"
      ]
    },
    {
      "cell_type": "code",
      "metadata": {
        "colab": {
          "base_uri": "https://localhost:8080/"
        },
        "id": "8GxT0Jv749Aw",
        "outputId": "20ed5303-a456-4e53-fe74-c768f93b6f10"
      },
      "source": [
        "# linspace\n",
        "\n",
        "start = 0 # inklusive\n",
        "stop = 10 # inklusive\n",
        "num_elem = 11\n",
        "np_array = np.linspace(start, stop, num_elem) # [ 0.  1.  2.  3.  4.  5.  6.  7.  8.  9. 10.]\n",
        "print(np_array)"
      ],
      "execution_count": null,
      "outputs": [
        {
          "output_type": "stream",
          "text": [
            "[ 0.  1.  2.  3.  4.  5.  6.  7.  8.  9. 10.]\n"
          ],
          "name": "stdout"
        }
      ]
    },
    {
      "cell_type": "code",
      "metadata": {
        "colab": {
          "base_uri": "https://localhost:8080/"
        },
        "id": "v8ASXpRA5B4N",
        "outputId": "f199fd94-8885-4664-8e6c-e52103ad2c89"
      },
      "source": [
        "# arange\n",
        "\n",
        "start = 0 # inklusive\n",
        "stop = 11 # exklusive\n",
        "step_size = 1\n",
        "np_array = np.arange(start, stop, step_size) # [ 0.  1.  2.  3.  4.  5.  6.  7.  8.  9. 10.]\n",
        "print(np_array)"
      ],
      "execution_count": null,
      "outputs": [
        {
          "output_type": "stream",
          "text": [
            "[ 0  1  2  3  4  5  6  7  8  9 10]\n"
          ],
          "name": "stdout"
        }
      ]
    },
    {
      "cell_type": "code",
      "metadata": {
        "colab": {
          "base_uri": "https://localhost:8080/"
        },
        "id": "zvcZ9S6b5E53",
        "outputId": "a2021320-8458-4086-e40c-300f1fc49bee"
      },
      "source": [
        "# zeros\n",
        "\n",
        "zeros = np.zeros(5) # [0. 0. 0. 0. 0.]\n",
        "print(zeros)\n",
        "\n",
        "zeros = np.zeros((2,2)) # [[0. 0.]\n",
        "                        #  [0. 0.]]\n",
        "print(zeros)"
      ],
      "execution_count": null,
      "outputs": [
        {
          "output_type": "stream",
          "text": [
            "[0. 0. 0. 0. 0.]\n",
            "[[0. 0.]\n",
            " [0. 0.]]\n"
          ],
          "name": "stdout"
        }
      ]
    },
    {
      "cell_type": "code",
      "metadata": {
        "colab": {
          "base_uri": "https://localhost:8080/"
        },
        "id": "jLDg3QOz5GYW",
        "outputId": "9df6303c-0031-48a5-a0b1-420b3362499b"
      },
      "source": [
        "# np.fill\n",
        "\n",
        "a = np.array([1, 2, 3, 4])\n",
        "a.fill(5) # a == [5, 5, 5, 5]\n",
        "print(a)"
      ],
      "execution_count": null,
      "outputs": [
        {
          "output_type": "stream",
          "text": [
            "[5 5 5 5]\n"
          ],
          "name": "stdout"
        }
      ]
    },
    {
      "cell_type": "code",
      "metadata": {
        "colab": {
          "base_uri": "https://localhost:8080/"
        },
        "id": "Fe_uDfAM5InR",
        "outputId": "869ea306-6a81-4cf6-f9bf-9879cce6d35a"
      },
      "source": [
        "# np.full\n",
        "\n",
        "np_array = np.full((2,2), 3.1415) #[[3.1415 3.1415]\n",
        "                                  # [3.1415 3.1415]]\n",
        "print(np_array)"
      ],
      "execution_count": null,
      "outputs": [
        {
          "output_type": "stream",
          "text": [
            "[[3.1415 3.1415]\n",
            " [3.1415 3.1415]]\n"
          ],
          "name": "stdout"
        }
      ]
    },
    {
      "cell_type": "markdown",
      "metadata": {
        "id": "HBNIbYxy5hek"
      },
      "source": [
        "Erklärung auf Folien"
      ]
    },
    {
      "cell_type": "code",
      "metadata": {
        "colab": {
          "base_uri": "https://localhost:8080/"
        },
        "id": "L64O2HQn5KWx",
        "outputId": "94598203-f9df-4727-aa96-97880d57c59c"
      },
      "source": [
        "# Mittelwert\n",
        "\n",
        "mean = np.mean([1,2,3,4,5,6,7,8,9,10]) # 5.5\n",
        "print(mean)"
      ],
      "execution_count": null,
      "outputs": [
        {
          "output_type": "stream",
          "text": [
            "5.5\n"
          ],
          "name": "stdout"
        }
      ]
    },
    {
      "cell_type": "code",
      "metadata": {
        "colab": {
          "base_uri": "https://localhost:8080/"
        },
        "id": "daa5sSny5M5q",
        "outputId": "6a8b5802-78f0-43e5-ff49-00f5d03906be"
      },
      "source": [
        "# Standartabweichung\n",
        "\n",
        "std = np.std([1, 2, 3, 4, 5, 6, 7, 8, 9, 10]) # 2.87\n",
        "print(std)"
      ],
      "execution_count": null,
      "outputs": [
        {
          "output_type": "stream",
          "text": [
            "2.8722813232690143\n"
          ],
          "name": "stdout"
        }
      ]
    },
    {
      "cell_type": "code",
      "metadata": {
        "colab": {
          "base_uri": "https://localhost:8080/"
        },
        "id": "lsYZi7af5R3m",
        "outputId": "2cf75ef6-24d8-42f3-a470-f27e35d298ee"
      },
      "source": [
        "# Varianz\n",
        "\n",
        "var = np.var([1, 2, 3, 4, 5, 6, 7, 8, 9, 10]) # 8.25\n",
        "print(var)"
      ],
      "execution_count": null,
      "outputs": [
        {
          "output_type": "stream",
          "text": [
            "8.25\n"
          ],
          "name": "stdout"
        }
      ]
    },
    {
      "cell_type": "markdown",
      "metadata": {
        "id": "7WVbS5WsJnhb"
      },
      "source": [
        "## Aufgaben\n",
        "Bevor mit Daten gearbeitet werden kann, müssen diese erstmal dem Programm zugänglich gemacht werden. Normalerweise liegen Daten in textueller form (CSV, TSV etc.) vor welche durch Variablen dem Programm zugänglich gemacht werden.\n",
        "\n",
        "Im Folgenden wollen wir die Wahlbeteiligung aller Bundestagswahlen (1949-2017) analysieren. Die Daten entsten aus folgendem Wikipedia Artikel: [Wahlbeteiligung Detuschland](https://de.wikipedia.org/wiki/Wahlbeteiligung#Bundestagswahlen).\n",
        "\n",
        "Um diese Daten analysieren zu können, müssen wir diese als erstes einlesen. Benutze dafür die numpy methode `genfromtxt('Pfad_zur_datei', delimiter=',')` Um die erste Zeile (Titel der Spalten) auszuschließen kann der Parameter `skip_header=1` verwendet werden, welches die angegebene Anzahl an ersten Zeilen überspringt.\n",
        "\n",
        "Tipp: Gebe die Daten anschließend aus um zu sehen wie sie aufgebaut sind.\n",
        "\n",
        "Der Pfad zur Datei ist `wahlbeteiligung.csv`.\n",
        "\n"
      ]
    },
    {
      "cell_type": "code",
      "metadata": {
        "id": "QYXHwMFsrDGB",
        "colab": {
          "base_uri": "https://localhost:8080/"
        },
        "outputId": "726a23e6-f4b6-4d9e-c783-82e866b7674f"
      },
      "source": [
        "data = np.genfromtxt('wahlbeteiligung.csv', delimiter=',', skip_header=1)\n",
        "data"
      ],
      "execution_count": null,
      "outputs": [
        {
          "output_type": "execute_result",
          "data": {
            "text/plain": [
              "array([[1949. ,   78.5],\n",
              "       [1953. ,   86. ],\n",
              "       [1957. ,   87.8],\n",
              "       [1961. ,   87.7],\n",
              "       [1965. ,   86.8],\n",
              "       [1969. ,   86.7],\n",
              "       [1972. ,   91.1],\n",
              "       [1976. ,   90.7],\n",
              "       [1980. ,   88.6],\n",
              "       [1983. ,   89.1],\n",
              "       [1987. ,   84.3],\n",
              "       [1990. ,   77.8],\n",
              "       [1994. ,   79. ],\n",
              "       [1998. ,   82.2],\n",
              "       [2002. ,   79.1],\n",
              "       [2005. ,   77.7],\n",
              "       [2009. ,   70.8],\n",
              "       [2013. ,   71.5],\n",
              "       [2017. ,   76.2]])"
            ]
          },
          "metadata": {
            "tags": []
          },
          "execution_count": 39
        }
      ]
    },
    {
      "cell_type": "markdown",
      "metadata": {
        "id": "LaKOjIdpOlTa"
      },
      "source": [
        "Als nächstes möchten wir zwei verschiedene Listen (Arrays) erstellen. Das Erste enthält die Jahre, in denen eine Bundestagswahl stattgefunden hat. Die Zweite Liste enthält alle Wahlbeteiligungen. Versuche dies ohne Schleifen umzusetzen (Array Splitting) und die Reinfolge beizuhalten. Wir möchten im Anschluss zwei 1D Numpy Arrays erhalten.\n",
        "\n",
        "Tipp: Schaue dir den Aufbau der Daten an und das Kapitel Array Splitting mit Numpy. Um aus einer Dimension alle Werte zu nehmen, verwende `:,` für diese Dimension. Um Aus einer Dimension ein Element zu bekommen, muss einfach der Index in die jeweilige Stelle geschrieben werden. Bsp:\n",
        "\n",
        "```\n",
        "# Zugriff auf Index 4 in der Zweiten Dimension\n",
        "split = D3_arr[:, 4, :]\n",
        "```\n",
        "\n",
        "Das Beispiel betrachtet alle Elemente der ersten Dimension, dann nur das 5te Element aus der Zweiten Dimension und wieder alle Elemente aus der dritten Dimension.\n",
        "\n",
        "\n",
        "\n"
      ]
    },
    {
      "cell_type": "code",
      "metadata": {
        "colab": {
          "base_uri": "https://localhost:8080/"
        },
        "id": "3o470CVwOkfG",
        "outputId": "11a81705-6d8d-47c8-83dd-4bb0305f7f72"
      },
      "source": [
        "voter_turnout = data[:,1]\n",
        "election_year = data[:,0]\n",
        "print(voter_turnout)\n",
        "print(election_year)"
      ],
      "execution_count": null,
      "outputs": [
        {
          "output_type": "stream",
          "text": [
            "[78.5 86.  87.8 87.7 86.8 86.7 91.1 90.7 88.6 89.1 84.3 77.8 79.  82.2\n",
            " 79.1 77.7 70.8 71.5 76.2]\n",
            "[1949. 1953. 1957. 1961. 1965. 1969. 1972. 1976. 1980. 1983. 1987. 1990.\n",
            " 1994. 1998. 2002. 2005. 2009. 2013. 2017.]\n"
          ],
          "name": "stdout"
        }
      ]
    },
    {
      "cell_type": "markdown",
      "metadata": {
        "id": "p7fyGyAWPoYO"
      },
      "source": [
        "Da nun die Daten zugänglich gemacht wurden, können wir anfangen diese zu analysieren. Berechne zunächst die durchschnittliche Wahlbeteiligung sowie die Standartabweichung. Anschließend gebe die maximale und minimale Wahlbeteiligung aus. Dies kannst du jeweil in einer Zeile mit numpy erledigen. Runde das ergebnis jeweils auf eine Nachkommastelle.\n",
        "\n",
        "Tipp: \n",
        "\n",
        "* Durchschnitt mit Numpy: [mean](https://numpy.org/doc/stable/reference/generated/numpy.mean.html)\n",
        "* Standartabweichung mit Numpy: [std](https://numpy.org/doc/stable/reference/generated/numpy.std.html)\n",
        "* Maximum mit Numpy: [max](https://numpy.org/doc/stable/reference/generated/numpy.ndarray.max.html)\n",
        "* Minimum mit Numpy: [min](https://numpy.org/doc/stable/reference/generated/numpy.ndarray.min.html)\n",
        "* Runden: [round](https://www.tutorialspoint.com/python/number_round.htm)\n"
      ]
    },
    {
      "cell_type": "code",
      "metadata": {
        "colab": {
          "base_uri": "https://localhost:8080/"
        },
        "id": "Yb9TfC3zQNC0",
        "outputId": "2a3395b1-9c25-48ff-f391-b01e03f1bf73"
      },
      "source": [
        "mean_turnout = round(np.mean(voter_turnout),1)\n",
        "std_turnout = round(np.std(voter_turnout),1)\n",
        "max_turnout = round(np.max(voter_turnout),1)\n",
        "min_turnout = round(np.min(voter_turnout),1)\n",
        "\n",
        "print(mean_turnout)\n",
        "print(std_turnout)\n",
        "print(max_turnout)\n",
        "print(min_turnout)"
      ],
      "execution_count": null,
      "outputs": [
        {
          "output_type": "stream",
          "text": [
            "82.7\n",
            "6.1\n",
            "91.1\n",
            "70.8\n"
          ],
          "name": "stdout"
        }
      ]
    },
    {
      "cell_type": "markdown",
      "metadata": {
        "id": "3G007L1jRJK0"
      },
      "source": [
        "Finde nun (mithilfe von Numpy) anhand der beiden Listen das Jahr mit der minimalen und maximalen Wahlbeteiligung. Tipp: Hierfür kann die Methode argmax bzw argmin verwendet werden, die den Index des maximalen bzw. minimalen Elementes wiedergibt.\n",
        "\n",
        "Die Elemente der Liste werden als float abgespeichert. Da Jahre nur Ganzzahlig existieren, sollte ein cast zu int durchgeführt werden: `int(...)`.\n",
        "\n",
        "Tipp: \n",
        "* [argmax](https://numpy.org/doc/stable/reference/generated/numpy.argmax.html)\n",
        "* [argmin](https://numpy.org/doc/stable/reference/generated/numpy.argmin.html)\n"
      ]
    },
    {
      "cell_type": "code",
      "metadata": {
        "colab": {
          "base_uri": "https://localhost:8080/"
        },
        "id": "5KNZ7DmxRimm",
        "outputId": "02c6578a-db8a-4cc2-b487-6f1bca78292b"
      },
      "source": [
        "max_year = int(election_year[np.argmax(voter_turnout)])\n",
        "min_year = int(election_year[np.argmin(voter_turnout)])\n",
        "print(max_year)\n",
        "print(min_year)"
      ],
      "execution_count": null,
      "outputs": [
        {
          "output_type": "stream",
          "text": [
            "1972\n",
            "2009\n"
          ],
          "name": "stdout"
        }
      ]
    },
    {
      "cell_type": "markdown",
      "metadata": {
        "id": "2q3eNXX7SUpi"
      },
      "source": [
        "Nun können wir uns unsere kleine Analyse zusammenfassen.\n"
      ]
    },
    {
      "cell_type": "code",
      "metadata": {
        "colab": {
          "base_uri": "https://localhost:8080/"
        },
        "id": "6K83VCqkSafs",
        "outputId": "9c205943-51fc-42f4-f802-7b312a5b0d44"
      },
      "source": [
        "print(f'Im folgenden wird die Wahlbeteiligung von {int(np.min(election_year))} bis {int(np.max(election_year))} analysiert:\\n\\n\\\n",
        "Die durchschnittliche Wahlbeteiligung liegt bei {mean_turnout}% mit einer höchsten Wahlbeteiligung von {max_turnout}% in {max_year} und \\\n",
        "einer niedrigsten Wahlbeteiligung von {min_turnout}% in {min_year}.')"
      ],
      "execution_count": null,
      "outputs": [
        {
          "output_type": "stream",
          "text": [
            "Im folgenden wird die Wahlbeteiligung von 1949 bis 2017 analysiert:\n",
            "\n",
            "Die durchschnittliche Wahlbeteiligung liegt bei 82.7% mit einer höchsten Wahlbeteiligung von 91.1% in 1972 und einer niedrigsten Wahlbeteiligung von 70.8% in 2009.\n"
          ],
          "name": "stdout"
        }
      ]
    },
    {
      "cell_type": "markdown",
      "metadata": {
        "id": "d5OE7nUmTZR-"
      },
      "source": [
        "Wir nehmen für die nächste Aufgabe an, dass die Wahlbeteiligung Gaussverteilt ist. Um weiterführende Analysen durchzuführen, soll eine Normalverteilung auf die Wahlbeteiligung angepasst werden. Überlege dir, welche Parameter werden dafür benötigt und was sagen diese aus. Hierbei kann die numpy funktion `random.normal` verwendet werden [doku](https://numpy.org/doc/stable/reference/random/generated/numpy.random.normal.html). Diese gibt zufällig ausgewählte Punkte einer Normalverteilung zurück. Hierbei gibt der Parameter `size` die Anzahl an zufällig ausgewählten Wahlbeteiligungen in Abhängigkeit der Verteilung an. Spiele mit diesem Parameter gerne etwas rum um den Zusammenhang zwischen der Anzahl an Ziehungen und der Genauigkeit der Verteilung zu verstehen.\n",
        "\n",
        "Tipp: mit `loc=` kann der Erwartungswert (mean) und mit `scale=` kann die Varianz der Verteilung angegeben werden. Diese haben wir oben berechnet.\n",
        "\n"
      ]
    },
    {
      "cell_type": "code",
      "metadata": {
        "id": "F4l0mWGrT5_t"
      },
      "source": [
        "gauss_distribution = np.random.normal(loc=mean_turnout, scale=std_turnout,size=10000)"
      ],
      "execution_count": null,
      "outputs": []
    },
    {
      "cell_type": "markdown",
      "metadata": {
        "id": "RFdH0nGGV2Nn"
      },
      "source": [
        "Um sich die Verteilung anzeigen zu lassen, führe den unten stehenden Codabschnitt aus. Was ist ein klarer Fehler der Verteilung in Bezug auf die Wahlbeteiligung?"
      ]
    },
    {
      "cell_type": "code",
      "metadata": {
        "colab": {
          "base_uri": "https://localhost:8080/",
          "height": 265
        },
        "id": "88Q46HFHV1eb",
        "outputId": "ca2ffcb6-17c2-40e1-ef9d-57fc669660aa"
      },
      "source": [
        "def gauss(mu, sigma, x):\n",
        "  # Formel der Gaussverteilung\n",
        "  return 1/(sigma * np.sqrt(2 * np.pi)) *np.exp( - (x - mu)**2 / (2 * sigma**2) )\n",
        "\n",
        "# Dieser Code ist nicht Teil des Grundlagenkapitels und muss nicht zwangsläufig verstanden werden\n",
        "count, bins, _ = plt.hist(gauss_distribution, 30, density=True)\n",
        "plt.plot(bins, [gauss(np.mean(gauss_distribution), np.std(gauss_distribution), x) for x in bins])\n",
        "plt.show()"
      ],
      "execution_count": null,
      "outputs": [
        {
          "output_type": "display_data",
          "data": {
            "image/png": "[encoded data removed]",
            "text/plain": [
              "<Figure size 432x288 with 1 Axes>"
            ]
          },
          "metadata": {
            "tags": [],
            "needs_background": "light"
          }
        }
      ]
    },
    {
      "cell_type": "markdown",
      "metadata": {
        "id": "1gkH8ZtZZw_4"
      },
      "source": [
        "Weiterführend wollen wir noch einige numpyfunktionen ausprobieren:\n",
        "\n",
        "Tipp: Dies sind die selben Funktionen wie vorhin vorgestellt."
      ]
    },
    {
      "cell_type": "code",
      "metadata": {
        "id": "wZGw8o_TZwFx"
      },
      "source": [
        "# Speichere alle Zahlen zwischen 0 und 15 in 0.3er Schritte in einer Liste ab\n",
        "arr = np.arange(0, 15.1, 0.3)\n",
        "# Teile den Bereich zwischen 0 und 15 in 17 Teile ein und speichere diese Zahlen in einer Liste und runde auf zwei Nachkommastellen.\n",
        "arr = np.round(np.linspace(0.15, 15, 17), 2)\n",
        "# Erstelle eine Liste mit 5 Zeilen und 3 Spalten, die nur aus Nullen besteht.\n",
        "arr = np.zeros((5, 3))\n",
        "# Verändere nun diese Liste, sodass überall die Zahl 5 steht. Erstelle dazu keine neue liste, sonder benutze dafür die eben erstellte.\n",
        "arr.fill(5)\n",
        "# erstelle nun eine neue Liste mit einem Eintrag einer Zahl deiner Wahl\n",
        "arr = np.full(1, 1)"
      ],
      "execution_count": null,
      "outputs": []
    },
    {
      "cell_type": "markdown",
      "metadata": {
        "id": "UkQehxharOoC"
      },
      "source": [
        "# Pandas (Manuel)"
      ]
    },
    {
      "cell_type": "markdown",
      "metadata": {
        "id": "cU56DmYQekKi"
      },
      "source": [
        "### Dataframe aus CSV erstellen\n",
        "\n",
        "Um Beispieldaten zu generieren, lesen wir wieder als Erstes die CSV Datei von Grundlagen ein."
      ]
    },
    {
      "cell_type": "code",
      "metadata": {
        "colab": {
          "base_uri": "https://localhost:8080/",
          "height": 638
        },
        "id": "tl2pHjHYeyyO",
        "outputId": "b383d96b-bc35-43d8-c4f0-b70cbd122fe2"
      },
      "source": [
        "df = pd.read_csv('wahlbeteiligung.csv')  \n",
        "df"
      ],
      "execution_count": null,
      "outputs": [
        {
          "output_type": "execute_result",
          "data": {
            "text/html": [
              "<div>\n",
              "<style scoped>\n",
              "    .dataframe tbody tr th:only-of-type {\n",
              "        vertical-align: middle;\n",
              "    }\n",
              "\n",
              "    .dataframe tbody tr th {\n",
              "        vertical-align: top;\n",
              "    }\n",
              "\n",
              "    .dataframe thead th {\n",
              "        text-align: right;\n",
              "    }\n",
              "</style>\n",
              "<table border=\"1\" class=\"dataframe\">\n",
              "  <thead>\n",
              "    <tr style=\"text-align: right;\">\n",
              "      <th></th>\n",
              "      <th>Jahr</th>\n",
              "      <th>Wahlbeteiligung</th>\n",
              "    </tr>\n",
              "  </thead>\n",
              "  <tbody>\n",
              "    <tr>\n",
              "      <th>0</th>\n",
              "      <td>1949</td>\n",
              "      <td>78.5</td>\n",
              "    </tr>\n",
              "    <tr>\n",
              "      <th>1</th>\n",
              "      <td>1953</td>\n",
              "      <td>86.0</td>\n",
              "    </tr>\n",
              "    <tr>\n",
              "      <th>2</th>\n",
              "      <td>1957</td>\n",
              "      <td>87.8</td>\n",
              "    </tr>\n",
              "    <tr>\n",
              "      <th>3</th>\n",
              "      <td>1961</td>\n",
              "      <td>87.7</td>\n",
              "    </tr>\n",
              "    <tr>\n",
              "      <th>4</th>\n",
              "      <td>1965</td>\n",
              "      <td>86.8</td>\n",
              "    </tr>\n",
              "    <tr>\n",
              "      <th>5</th>\n",
              "      <td>1969</td>\n",
              "      <td>86.7</td>\n",
              "    </tr>\n",
              "    <tr>\n",
              "      <th>6</th>\n",
              "      <td>1972</td>\n",
              "      <td>91.1</td>\n",
              "    </tr>\n",
              "    <tr>\n",
              "      <th>7</th>\n",
              "      <td>1976</td>\n",
              "      <td>90.7</td>\n",
              "    </tr>\n",
              "    <tr>\n",
              "      <th>8</th>\n",
              "      <td>1980</td>\n",
              "      <td>88.6</td>\n",
              "    </tr>\n",
              "    <tr>\n",
              "      <th>9</th>\n",
              "      <td>1983</td>\n",
              "      <td>89.1</td>\n",
              "    </tr>\n",
              "    <tr>\n",
              "      <th>10</th>\n",
              "      <td>1987</td>\n",
              "      <td>84.3</td>\n",
              "    </tr>\n",
              "    <tr>\n",
              "      <th>11</th>\n",
              "      <td>1990</td>\n",
              "      <td>77.8</td>\n",
              "    </tr>\n",
              "    <tr>\n",
              "      <th>12</th>\n",
              "      <td>1994</td>\n",
              "      <td>79.0</td>\n",
              "    </tr>\n",
              "    <tr>\n",
              "      <th>13</th>\n",
              "      <td>1998</td>\n",
              "      <td>82.2</td>\n",
              "    </tr>\n",
              "    <tr>\n",
              "      <th>14</th>\n",
              "      <td>2002</td>\n",
              "      <td>79.1</td>\n",
              "    </tr>\n",
              "    <tr>\n",
              "      <th>15</th>\n",
              "      <td>2005</td>\n",
              "      <td>77.7</td>\n",
              "    </tr>\n",
              "    <tr>\n",
              "      <th>16</th>\n",
              "      <td>2009</td>\n",
              "      <td>70.8</td>\n",
              "    </tr>\n",
              "    <tr>\n",
              "      <th>17</th>\n",
              "      <td>2013</td>\n",
              "      <td>71.5</td>\n",
              "    </tr>\n",
              "    <tr>\n",
              "      <th>18</th>\n",
              "      <td>2017</td>\n",
              "      <td>76.2</td>\n",
              "    </tr>\n",
              "  </tbody>\n",
              "</table>\n",
              "</div>"
            ],
            "text/plain": [
              "    Jahr  Wahlbeteiligung\n",
              "0   1949             78.5\n",
              "1   1953             86.0\n",
              "2   1957             87.8\n",
              "3   1961             87.7\n",
              "4   1965             86.8\n",
              "5   1969             86.7\n",
              "6   1972             91.1\n",
              "7   1976             90.7\n",
              "8   1980             88.6\n",
              "9   1983             89.1\n",
              "10  1987             84.3\n",
              "11  1990             77.8\n",
              "12  1994             79.0\n",
              "13  1998             82.2\n",
              "14  2002             79.1\n",
              "15  2005             77.7\n",
              "16  2009             70.8\n",
              "17  2013             71.5\n",
              "18  2017             76.2"
            ]
          },
          "metadata": {
            "tags": []
          },
          "execution_count": 61
        }
      ]
    },
    {
      "cell_type": "markdown",
      "metadata": {
        "id": "bEx4FIE9fEnF"
      },
      "source": [
        "Damit nicht alle Daten angezeigt werden, können wir uns die ersten 5 mit `head()` anzeigen sowie die letzten 5 mit `tail()`"
      ]
    },
    {
      "cell_type": "code",
      "metadata": {
        "colab": {
          "base_uri": "https://localhost:8080/",
          "height": 204
        },
        "id": "pejUCRrffTD8",
        "outputId": "6de12080-906d-4197-a19d-41060b667e65"
      },
      "source": [
        "df.head()"
      ],
      "execution_count": null,
      "outputs": [
        {
          "output_type": "execute_result",
          "data": {
            "text/html": [
              "<div>\n",
              "<style scoped>\n",
              "    .dataframe tbody tr th:only-of-type {\n",
              "        vertical-align: middle;\n",
              "    }\n",
              "\n",
              "    .dataframe tbody tr th {\n",
              "        vertical-align: top;\n",
              "    }\n",
              "\n",
              "    .dataframe thead th {\n",
              "        text-align: right;\n",
              "    }\n",
              "</style>\n",
              "<table border=\"1\" class=\"dataframe\">\n",
              "  <thead>\n",
              "    <tr style=\"text-align: right;\">\n",
              "      <th></th>\n",
              "      <th>Jahr</th>\n",
              "      <th>Wahlbeteiligung</th>\n",
              "    </tr>\n",
              "  </thead>\n",
              "  <tbody>\n",
              "    <tr>\n",
              "      <th>0</th>\n",
              "      <td>1949</td>\n",
              "      <td>78.5</td>\n",
              "    </tr>\n",
              "    <tr>\n",
              "      <th>1</th>\n",
              "      <td>1953</td>\n",
              "      <td>86.0</td>\n",
              "    </tr>\n",
              "    <tr>\n",
              "      <th>2</th>\n",
              "      <td>1957</td>\n",
              "      <td>87.8</td>\n",
              "    </tr>\n",
              "    <tr>\n",
              "      <th>3</th>\n",
              "      <td>1961</td>\n",
              "      <td>87.7</td>\n",
              "    </tr>\n",
              "    <tr>\n",
              "      <th>4</th>\n",
              "      <td>1965</td>\n",
              "      <td>86.8</td>\n",
              "    </tr>\n",
              "  </tbody>\n",
              "</table>\n",
              "</div>"
            ],
            "text/plain": [
              "   Jahr  Wahlbeteiligung\n",
              "0  1949             78.5\n",
              "1  1953             86.0\n",
              "2  1957             87.8\n",
              "3  1961             87.7\n",
              "4  1965             86.8"
            ]
          },
          "metadata": {
            "tags": []
          },
          "execution_count": 62
        }
      ]
    },
    {
      "cell_type": "code",
      "metadata": {
        "colab": {
          "base_uri": "https://localhost:8080/",
          "height": 204
        },
        "id": "IBW5sa7dfWmM",
        "outputId": "b606248e-b35a-4479-82b1-c5ef2a42c088"
      },
      "source": [
        "df.tail()"
      ],
      "execution_count": null,
      "outputs": [
        {
          "output_type": "execute_result",
          "data": {
            "text/html": [
              "<div>\n",
              "<style scoped>\n",
              "    .dataframe tbody tr th:only-of-type {\n",
              "        vertical-align: middle;\n",
              "    }\n",
              "\n",
              "    .dataframe tbody tr th {\n",
              "        vertical-align: top;\n",
              "    }\n",
              "\n",
              "    .dataframe thead th {\n",
              "        text-align: right;\n",
              "    }\n",
              "</style>\n",
              "<table border=\"1\" class=\"dataframe\">\n",
              "  <thead>\n",
              "    <tr style=\"text-align: right;\">\n",
              "      <th></th>\n",
              "      <th>Jahr</th>\n",
              "      <th>Wahlbeteiligung</th>\n",
              "    </tr>\n",
              "  </thead>\n",
              "  <tbody>\n",
              "    <tr>\n",
              "      <th>14</th>\n",
              "      <td>2002</td>\n",
              "      <td>79.1</td>\n",
              "    </tr>\n",
              "    <tr>\n",
              "      <th>15</th>\n",
              "      <td>2005</td>\n",
              "      <td>77.7</td>\n",
              "    </tr>\n",
              "    <tr>\n",
              "      <th>16</th>\n",
              "      <td>2009</td>\n",
              "      <td>70.8</td>\n",
              "    </tr>\n",
              "    <tr>\n",
              "      <th>17</th>\n",
              "      <td>2013</td>\n",
              "      <td>71.5</td>\n",
              "    </tr>\n",
              "    <tr>\n",
              "      <th>18</th>\n",
              "      <td>2017</td>\n",
              "      <td>76.2</td>\n",
              "    </tr>\n",
              "  </tbody>\n",
              "</table>\n",
              "</div>"
            ],
            "text/plain": [
              "    Jahr  Wahlbeteiligung\n",
              "14  2002             79.1\n",
              "15  2005             77.7\n",
              "16  2009             70.8\n",
              "17  2013             71.5\n",
              "18  2017             76.2"
            ]
          },
          "metadata": {
            "tags": []
          },
          "execution_count": 63
        }
      ]
    },
    {
      "cell_type": "markdown",
      "metadata": {
        "id": "OVuHMWQCfayt"
      },
      "source": [
        "### Indexing\n",
        "Es gibt zwei Möglichkeiten die Tabelle zu durchsuchen. Als erstes kann man die entsprechende **Spalte** auswählen.` head()` wurde nur hinzugefügt, dass nicht alle Ergebnisse angezeigt werden."
      ]
    },
    {
      "cell_type": "code",
      "metadata": {
        "colab": {
          "base_uri": "https://localhost:8080/"
        },
        "id": "imWnVDJgfpLG",
        "outputId": "58772e53-347b-4048-dbf4-6933460e6208"
      },
      "source": [
        "df['Jahr'].head()"
      ],
      "execution_count": null,
      "outputs": [
        {
          "output_type": "execute_result",
          "data": {
            "text/plain": [
              "0    1949\n",
              "1    1953\n",
              "2    1957\n",
              "3    1961\n",
              "4    1965\n",
              "Name: Jahr, dtype: int64"
            ]
          },
          "metadata": {
            "tags": []
          },
          "execution_count": 13
        }
      ]
    },
    {
      "cell_type": "markdown",
      "metadata": {
        "id": "eO7Qvm2vgxwK"
      },
      "source": [
        "Nun können wir hierauf wie auf einem normalen Array arbeiten und indexen."
      ]
    },
    {
      "cell_type": "code",
      "metadata": {
        "colab": {
          "base_uri": "https://localhost:8080/"
        },
        "id": "10mJpHj6g2q0",
        "outputId": "f014fea1-f510-4f6c-ef24-2fc3626bfb2e"
      },
      "source": [
        "df['Jahr'][0]"
      ],
      "execution_count": null,
      "outputs": [
        {
          "output_type": "execute_result",
          "data": {
            "text/plain": [
              "1949"
            ]
          },
          "metadata": {
            "tags": []
          },
          "execution_count": 14
        }
      ]
    },
    {
      "cell_type": "markdown",
      "metadata": {
        "id": "Y7ld3vWwI52s"
      },
      "source": [
        "### (Über-)Schreiben, Löschen von Werten, Zeilen, Spalten\n",
        "\n",
        "Um einzelne Elemente gegeben ihrem Wert zu überschreiben, kann die Funktion ```replace([Werte die ersetzt werden sollen], mit diesem Wert wird ersetzt)``` verwendet werden.\n",
        "\n"
      ]
    },
    {
      "cell_type": "code",
      "metadata": {
        "colab": {
          "base_uri": "https://localhost:8080/",
          "height": 204
        },
        "id": "nvIhDUp-JG4a",
        "outputId": "25c67581-ebd7-4abe-beea-3354ea6a3cb9"
      },
      "source": [
        "# überschreibe ein Element gegeben dem Wert und der Spalte\n",
        "df['Jahr'] = df['Jahr'].replace([1949],2021)\n",
        "df.head()"
      ],
      "execution_count": null,
      "outputs": [
        {
          "output_type": "execute_result",
          "data": {
            "text/html": [
              "<div>\n",
              "<style scoped>\n",
              "    .dataframe tbody tr th:only-of-type {\n",
              "        vertical-align: middle;\n",
              "    }\n",
              "\n",
              "    .dataframe tbody tr th {\n",
              "        vertical-align: top;\n",
              "    }\n",
              "\n",
              "    .dataframe thead th {\n",
              "        text-align: right;\n",
              "    }\n",
              "</style>\n",
              "<table border=\"1\" class=\"dataframe\">\n",
              "  <thead>\n",
              "    <tr style=\"text-align: right;\">\n",
              "      <th></th>\n",
              "      <th>Jahr</th>\n",
              "      <th>Wahlbeteiligung</th>\n",
              "    </tr>\n",
              "  </thead>\n",
              "  <tbody>\n",
              "    <tr>\n",
              "      <th>0</th>\n",
              "      <td>2021</td>\n",
              "      <td>78.5</td>\n",
              "    </tr>\n",
              "    <tr>\n",
              "      <th>1</th>\n",
              "      <td>1953</td>\n",
              "      <td>86.0</td>\n",
              "    </tr>\n",
              "    <tr>\n",
              "      <th>2</th>\n",
              "      <td>1957</td>\n",
              "      <td>87.8</td>\n",
              "    </tr>\n",
              "    <tr>\n",
              "      <th>3</th>\n",
              "      <td>1961</td>\n",
              "      <td>87.7</td>\n",
              "    </tr>\n",
              "    <tr>\n",
              "      <th>4</th>\n",
              "      <td>1965</td>\n",
              "      <td>86.8</td>\n",
              "    </tr>\n",
              "  </tbody>\n",
              "</table>\n",
              "</div>"
            ],
            "text/plain": [
              "   Jahr  Wahlbeteiligung\n",
              "0  2021             78.5\n",
              "1  1953             86.0\n",
              "2  1957             87.8\n",
              "3  1961             87.7\n",
              "4  1965             86.8"
            ]
          },
          "metadata": {
            "tags": []
          },
          "execution_count": 64
        }
      ]
    },
    {
      "cell_type": "markdown",
      "metadata": {
        "id": "xfw7m4ZrKw-9"
      },
      "source": [
        "Um ein Bestimmten index zu erstetzten verwendet die Funktion `df.loc[indices,'Column']`:"
      ]
    },
    {
      "cell_type": "code",
      "metadata": {
        "colab": {
          "base_uri": "https://localhost:8080/",
          "height": 204
        },
        "id": "A08jdYc1LCAr",
        "outputId": "45702cef-9f92-4710-93b1-13e2cb7c8cc8"
      },
      "source": [
        "# überschreibe ein Wert gegeben des Indexes und der Spalte\n",
        "df.loc[0,'Jahr'] = 1949\n",
        "df.head()"
      ],
      "execution_count": null,
      "outputs": [
        {
          "output_type": "execute_result",
          "data": {
            "text/html": [
              "<div>\n",
              "<style scoped>\n",
              "    .dataframe tbody tr th:only-of-type {\n",
              "        vertical-align: middle;\n",
              "    }\n",
              "\n",
              "    .dataframe tbody tr th {\n",
              "        vertical-align: top;\n",
              "    }\n",
              "\n",
              "    .dataframe thead th {\n",
              "        text-align: right;\n",
              "    }\n",
              "</style>\n",
              "<table border=\"1\" class=\"dataframe\">\n",
              "  <thead>\n",
              "    <tr style=\"text-align: right;\">\n",
              "      <th></th>\n",
              "      <th>Jahr</th>\n",
              "      <th>Wahlbeteiligung</th>\n",
              "    </tr>\n",
              "  </thead>\n",
              "  <tbody>\n",
              "    <tr>\n",
              "      <th>0</th>\n",
              "      <td>1949</td>\n",
              "      <td>78.5</td>\n",
              "    </tr>\n",
              "    <tr>\n",
              "      <th>1</th>\n",
              "      <td>1953</td>\n",
              "      <td>86.0</td>\n",
              "    </tr>\n",
              "    <tr>\n",
              "      <th>2</th>\n",
              "      <td>1957</td>\n",
              "      <td>87.8</td>\n",
              "    </tr>\n",
              "    <tr>\n",
              "      <th>3</th>\n",
              "      <td>1961</td>\n",
              "      <td>87.7</td>\n",
              "    </tr>\n",
              "    <tr>\n",
              "      <th>4</th>\n",
              "      <td>1965</td>\n",
              "      <td>86.8</td>\n",
              "    </tr>\n",
              "  </tbody>\n",
              "</table>\n",
              "</div>"
            ],
            "text/plain": [
              "   Jahr  Wahlbeteiligung\n",
              "0  1949             78.5\n",
              "1  1953             86.0\n",
              "2  1957             87.8\n",
              "3  1961             87.7\n",
              "4  1965             86.8"
            ]
          },
          "metadata": {
            "tags": []
          },
          "execution_count": 65
        }
      ]
    },
    {
      "cell_type": "markdown",
      "metadata": {
        "id": "pncwVKGHLLYh"
      },
      "source": [
        "Um Eine ganze Spalte zu ersätzen gibt es mehrere Möglichkeiten. \n",
        "\n",
        "**Möglichkeit 1** ist die Spalte zu löschen und sie erneut mit neuen Daten hinzuzufügen:"
      ]
    },
    {
      "cell_type": "code",
      "metadata": {
        "colab": {
          "base_uri": "https://localhost:8080/",
          "height": 204
        },
        "id": "qIipKnt5LSmD",
        "outputId": "77ba092b-8ec6-478f-9c8c-0d91a21b5894"
      },
      "source": [
        "# Lösche Spalte\n",
        "df.drop(labels=[\"Jahr\"], axis=\"columns\", inplace=True)\n",
        "df.head()"
      ],
      "execution_count": null,
      "outputs": [
        {
          "output_type": "execute_result",
          "data": {
            "text/html": [
              "<div>\n",
              "<style scoped>\n",
              "    .dataframe tbody tr th:only-of-type {\n",
              "        vertical-align: middle;\n",
              "    }\n",
              "\n",
              "    .dataframe tbody tr th {\n",
              "        vertical-align: top;\n",
              "    }\n",
              "\n",
              "    .dataframe thead th {\n",
              "        text-align: right;\n",
              "    }\n",
              "</style>\n",
              "<table border=\"1\" class=\"dataframe\">\n",
              "  <thead>\n",
              "    <tr style=\"text-align: right;\">\n",
              "      <th></th>\n",
              "      <th>Wahlbeteiligung</th>\n",
              "    </tr>\n",
              "  </thead>\n",
              "  <tbody>\n",
              "    <tr>\n",
              "      <th>0</th>\n",
              "      <td>78.5</td>\n",
              "    </tr>\n",
              "    <tr>\n",
              "      <th>1</th>\n",
              "      <td>86.0</td>\n",
              "    </tr>\n",
              "    <tr>\n",
              "      <th>2</th>\n",
              "      <td>87.8</td>\n",
              "    </tr>\n",
              "    <tr>\n",
              "      <th>3</th>\n",
              "      <td>87.7</td>\n",
              "    </tr>\n",
              "    <tr>\n",
              "      <th>4</th>\n",
              "      <td>86.8</td>\n",
              "    </tr>\n",
              "  </tbody>\n",
              "</table>\n",
              "</div>"
            ],
            "text/plain": [
              "   Wahlbeteiligung\n",
              "0             78.5\n",
              "1             86.0\n",
              "2             87.8\n",
              "3             87.7\n",
              "4             86.8"
            ]
          },
          "metadata": {
            "tags": []
          },
          "execution_count": 66
        }
      ]
    },
    {
      "cell_type": "code",
      "metadata": {
        "colab": {
          "base_uri": "https://localhost:8080/",
          "height": 204
        },
        "id": "anPqggo3MY5K",
        "outputId": "2b752ce4-5eae-4d60-8961-60fa67b0bac2"
      },
      "source": [
        "# Und füge sie mit den richtigen Daten wieder hinzu.\n",
        "df['Jahr'] = [int(year) for year in election_year]\n",
        "df.head()"
      ],
      "execution_count": null,
      "outputs": [
        {
          "output_type": "execute_result",
          "data": {
            "text/html": [
              "<div>\n",
              "<style scoped>\n",
              "    .dataframe tbody tr th:only-of-type {\n",
              "        vertical-align: middle;\n",
              "    }\n",
              "\n",
              "    .dataframe tbody tr th {\n",
              "        vertical-align: top;\n",
              "    }\n",
              "\n",
              "    .dataframe thead th {\n",
              "        text-align: right;\n",
              "    }\n",
              "</style>\n",
              "<table border=\"1\" class=\"dataframe\">\n",
              "  <thead>\n",
              "    <tr style=\"text-align: right;\">\n",
              "      <th></th>\n",
              "      <th>Wahlbeteiligung</th>\n",
              "      <th>Jahr</th>\n",
              "    </tr>\n",
              "  </thead>\n",
              "  <tbody>\n",
              "    <tr>\n",
              "      <th>0</th>\n",
              "      <td>78.5</td>\n",
              "      <td>1949</td>\n",
              "    </tr>\n",
              "    <tr>\n",
              "      <th>1</th>\n",
              "      <td>86.0</td>\n",
              "      <td>1953</td>\n",
              "    </tr>\n",
              "    <tr>\n",
              "      <th>2</th>\n",
              "      <td>87.8</td>\n",
              "      <td>1957</td>\n",
              "    </tr>\n",
              "    <tr>\n",
              "      <th>3</th>\n",
              "      <td>87.7</td>\n",
              "      <td>1961</td>\n",
              "    </tr>\n",
              "    <tr>\n",
              "      <th>4</th>\n",
              "      <td>86.8</td>\n",
              "      <td>1965</td>\n",
              "    </tr>\n",
              "  </tbody>\n",
              "</table>\n",
              "</div>"
            ],
            "text/plain": [
              "   Wahlbeteiligung  Jahr\n",
              "0             78.5  1949\n",
              "1             86.0  1953\n",
              "2             87.8  1957\n",
              "3             87.7  1961\n",
              "4             86.8  1965"
            ]
          },
          "metadata": {
            "tags": []
          },
          "execution_count": 67
        }
      ]
    },
    {
      "cell_type": "markdown",
      "metadata": {
        "id": "Rqg2fEhmNmEp"
      },
      "source": [
        "Möglichkeit 2: Ersetze alle oder nur bestimme werte explizit:"
      ]
    },
    {
      "cell_type": "code",
      "metadata": {
        "colab": {
          "base_uri": "https://localhost:8080/",
          "height": 204
        },
        "id": "7ymO3wknNw6g",
        "outputId": "d29a46c0-11b1-4b70-b7a5-876990df7f67"
      },
      "source": [
        "new_val = [1, 2, 3, 4, 5, 6, 7, 8, 9, 10, 11, 12, 13, 14, 15, 16, 17, 18]\n",
        "df[\"Jahr\"] = df[\"Jahr\"].replace({a: b for a, b in zip(df[\"Jahr\"], new_val)})\n",
        "df.head()"
      ],
      "execution_count": null,
      "outputs": [
        {
          "output_type": "execute_result",
          "data": {
            "text/html": [
              "<div>\n",
              "<style scoped>\n",
              "    .dataframe tbody tr th:only-of-type {\n",
              "        vertical-align: middle;\n",
              "    }\n",
              "\n",
              "    .dataframe tbody tr th {\n",
              "        vertical-align: top;\n",
              "    }\n",
              "\n",
              "    .dataframe thead th {\n",
              "        text-align: right;\n",
              "    }\n",
              "</style>\n",
              "<table border=\"1\" class=\"dataframe\">\n",
              "  <thead>\n",
              "    <tr style=\"text-align: right;\">\n",
              "      <th></th>\n",
              "      <th>Wahlbeteiligung</th>\n",
              "      <th>Jahr</th>\n",
              "    </tr>\n",
              "  </thead>\n",
              "  <tbody>\n",
              "    <tr>\n",
              "      <th>0</th>\n",
              "      <td>78.5</td>\n",
              "      <td>1</td>\n",
              "    </tr>\n",
              "    <tr>\n",
              "      <th>1</th>\n",
              "      <td>86.0</td>\n",
              "      <td>2</td>\n",
              "    </tr>\n",
              "    <tr>\n",
              "      <th>2</th>\n",
              "      <td>87.8</td>\n",
              "      <td>3</td>\n",
              "    </tr>\n",
              "    <tr>\n",
              "      <th>3</th>\n",
              "      <td>87.7</td>\n",
              "      <td>4</td>\n",
              "    </tr>\n",
              "    <tr>\n",
              "      <th>4</th>\n",
              "      <td>86.8</td>\n",
              "      <td>5</td>\n",
              "    </tr>\n",
              "  </tbody>\n",
              "</table>\n",
              "</div>"
            ],
            "text/plain": [
              "   Wahlbeteiligung  Jahr\n",
              "0             78.5     1\n",
              "1             86.0     2\n",
              "2             87.8     3\n",
              "3             87.7     4\n",
              "4             86.8     5"
            ]
          },
          "metadata": {
            "tags": []
          },
          "execution_count": 68
        }
      ]
    },
    {
      "cell_type": "code",
      "metadata": {
        "id": "lm0Eo0IwRN70"
      },
      "source": [
        "df.drop(labels=[\"Jahr\"], axis=\"columns\", inplace=True)\n",
        "df['Jahr'] = [int(year) for year in election_year]"
      ],
      "execution_count": null,
      "outputs": []
    },
    {
      "cell_type": "markdown",
      "metadata": {
        "id": "ORPjwYJKhIf7"
      },
      "source": [
        "### Beschriftungen Ausgeben\n",
        "\n",
        "Um herauszufinden, wie die Indexe (Zeilennamen) oder Attribute(Spaltennamen) benannt sind, gibt es die Attribute ```df.columns``` und ```df.index``` der DataFrame Klasse."
      ]
    },
    {
      "cell_type": "code",
      "metadata": {
        "colab": {
          "base_uri": "https://localhost:8080/"
        },
        "id": "BZQTIwHQhGKr",
        "outputId": "26c27756-e8c9-46b4-d580-94ed209c26c5"
      },
      "source": [
        "df.columns"
      ],
      "execution_count": null,
      "outputs": [
        {
          "output_type": "execute_result",
          "data": {
            "text/plain": [
              "Index(['Wahlbeteiligung', 'Jahr'], dtype='object')"
            ]
          },
          "metadata": {
            "tags": []
          },
          "execution_count": 70
        }
      ]
    },
    {
      "cell_type": "code",
      "metadata": {
        "colab": {
          "base_uri": "https://localhost:8080/"
        },
        "id": "Dx7qUtFxhoxI",
        "outputId": "e505c235-3ff7-4376-9290-1d8dfe8885ae"
      },
      "source": [
        "df.index"
      ],
      "execution_count": null,
      "outputs": [
        {
          "output_type": "execute_result",
          "data": {
            "text/plain": [
              "RangeIndex(start=0, stop=19, step=1)"
            ]
          },
          "metadata": {
            "tags": []
          },
          "execution_count": 71
        }
      ]
    },
    {
      "cell_type": "markdown",
      "metadata": {
        "id": "LR8DqWPniE_6"
      },
      "source": [
        "### Dataframe aus Array erstellen\n",
        "\n",
        "Um aus einem Array einen Dataframe zu erstellen, kann ein 2D Array erstellt werden."
      ]
    },
    {
      "cell_type": "code",
      "metadata": {
        "colab": {
          "base_uri": "https://localhost:8080/",
          "height": 142
        },
        "id": "-CdEWJvriPTl",
        "outputId": "6d34a6b8-8500-45c6-b340-f60bf4820128"
      },
      "source": [
        "df_arr = [[\"S0Z0\", \"S1Z0\", \"S2Z0\"], \n",
        "          [\"S0Z1\", \"S1Z1\", \"S2Z1\"], \n",
        "          [\"S0Z2\", \"S1Z2\", \"S2Z2\"]]\n",
        "df_example = pd.DataFrame(df_arr, columns=[\"Spalte 0\", \"Spalte 1\", \"Spalte 2\"], index=[\"Zeile 0\", \"Zeile 1\", \"Zeile 2\"])\n",
        "df_example"
      ],
      "execution_count": null,
      "outputs": [
        {
          "output_type": "execute_result",
          "data": {
            "text/html": [
              "<div>\n",
              "<style scoped>\n",
              "    .dataframe tbody tr th:only-of-type {\n",
              "        vertical-align: middle;\n",
              "    }\n",
              "\n",
              "    .dataframe tbody tr th {\n",
              "        vertical-align: top;\n",
              "    }\n",
              "\n",
              "    .dataframe thead th {\n",
              "        text-align: right;\n",
              "    }\n",
              "</style>\n",
              "<table border=\"1\" class=\"dataframe\">\n",
              "  <thead>\n",
              "    <tr style=\"text-align: right;\">\n",
              "      <th></th>\n",
              "      <th>Spalte 0</th>\n",
              "      <th>Spalte 1</th>\n",
              "      <th>Spalte 2</th>\n",
              "    </tr>\n",
              "  </thead>\n",
              "  <tbody>\n",
              "    <tr>\n",
              "      <th>Zeile 0</th>\n",
              "      <td>S0Z0</td>\n",
              "      <td>S1Z0</td>\n",
              "      <td>S2Z0</td>\n",
              "    </tr>\n",
              "    <tr>\n",
              "      <th>Zeile 1</th>\n",
              "      <td>S0Z1</td>\n",
              "      <td>S1Z1</td>\n",
              "      <td>S2Z1</td>\n",
              "    </tr>\n",
              "    <tr>\n",
              "      <th>Zeile 2</th>\n",
              "      <td>S0Z2</td>\n",
              "      <td>S1Z2</td>\n",
              "      <td>S2Z2</td>\n",
              "    </tr>\n",
              "  </tbody>\n",
              "</table>\n",
              "</div>"
            ],
            "text/plain": [
              "        Spalte 0 Spalte 1 Spalte 2\n",
              "Zeile 0     S0Z0     S1Z0     S2Z0\n",
              "Zeile 1     S0Z1     S1Z1     S2Z1\n",
              "Zeile 2     S0Z2     S1Z2     S2Z2"
            ]
          },
          "metadata": {
            "tags": []
          },
          "execution_count": 72
        }
      ]
    },
    {
      "cell_type": "markdown",
      "metadata": {
        "id": "__KFm_MkjAHl"
      },
      "source": [
        "#### Hinzufügen einer Zeile\n",
        "Wir können leicht Elemente hinzufügen, indem wir z. B. einen neuen DataFrame erstellen und die Daten an den alten DataFrame hängen.\n"
      ]
    },
    {
      "cell_type": "code",
      "metadata": {
        "colab": {
          "base_uri": "https://localhost:8080/",
          "height": 173
        },
        "id": "ysTUwjxjjVDL",
        "outputId": "1a992a71-5b68-40c8-affb-8c73231c69e0"
      },
      "source": [
        "df_arr_plus = [[\"S0Z3\", \"S1Z3\", \"S2Z3\"]]\n",
        "df_plus = pd.DataFrame(df_arr_plus, columns=[\"Spalte 0\", \"Spalte 1\", \"Spalte 2\"], index=[\"Zeile 3\"])\n",
        "df_example = df_example.append(df_plus)\n",
        "df_example"
      ],
      "execution_count": null,
      "outputs": [
        {
          "output_type": "execute_result",
          "data": {
            "text/html": [
              "<div>\n",
              "<style scoped>\n",
              "    .dataframe tbody tr th:only-of-type {\n",
              "        vertical-align: middle;\n",
              "    }\n",
              "\n",
              "    .dataframe tbody tr th {\n",
              "        vertical-align: top;\n",
              "    }\n",
              "\n",
              "    .dataframe thead th {\n",
              "        text-align: right;\n",
              "    }\n",
              "</style>\n",
              "<table border=\"1\" class=\"dataframe\">\n",
              "  <thead>\n",
              "    <tr style=\"text-align: right;\">\n",
              "      <th></th>\n",
              "      <th>Spalte 0</th>\n",
              "      <th>Spalte 1</th>\n",
              "      <th>Spalte 2</th>\n",
              "    </tr>\n",
              "  </thead>\n",
              "  <tbody>\n",
              "    <tr>\n",
              "      <th>Zeile 0</th>\n",
              "      <td>S0Z0</td>\n",
              "      <td>S1Z0</td>\n",
              "      <td>S2Z0</td>\n",
              "    </tr>\n",
              "    <tr>\n",
              "      <th>Zeile 1</th>\n",
              "      <td>S0Z1</td>\n",
              "      <td>S1Z1</td>\n",
              "      <td>S2Z1</td>\n",
              "    </tr>\n",
              "    <tr>\n",
              "      <th>Zeile 2</th>\n",
              "      <td>S0Z2</td>\n",
              "      <td>S1Z2</td>\n",
              "      <td>S2Z2</td>\n",
              "    </tr>\n",
              "    <tr>\n",
              "      <th>Zeile 3</th>\n",
              "      <td>S0Z3</td>\n",
              "      <td>S1Z3</td>\n",
              "      <td>S2Z3</td>\n",
              "    </tr>\n",
              "  </tbody>\n",
              "</table>\n",
              "</div>"
            ],
            "text/plain": [
              "        Spalte 0 Spalte 1 Spalte 2\n",
              "Zeile 0     S0Z0     S1Z0     S2Z0\n",
              "Zeile 1     S0Z1     S1Z1     S2Z1\n",
              "Zeile 2     S0Z2     S1Z2     S2Z2\n",
              "Zeile 3     S0Z3     S1Z3     S2Z3"
            ]
          },
          "metadata": {
            "tags": []
          },
          "execution_count": 73
        }
      ]
    },
    {
      "cell_type": "markdown",
      "metadata": {
        "id": "bezdzQ7wHsUL"
      },
      "source": [
        "#### Hinzufügen einer Spalte\n",
        "Genauso können wir neue Spalten hinzufügen. Hierzu addressieren wir einfach die Spalte und setzten sie mit einem array."
      ]
    },
    {
      "cell_type": "code",
      "metadata": {
        "colab": {
          "base_uri": "https://localhost:8080/",
          "height": 173
        },
        "id": "z9SyJdd4INyR",
        "outputId": "ecb11b2a-c92a-4160-8d01-2ce06ab64241"
      },
      "source": [
        "df_example['Spalte 4'] = [\"S4Z0\", \"S4Z1\", \"S4Z2\", \"S4Z3\"]\n",
        "df_example"
      ],
      "execution_count": null,
      "outputs": [
        {
          "output_type": "execute_result",
          "data": {
            "text/html": [
              "<div>\n",
              "<style scoped>\n",
              "    .dataframe tbody tr th:only-of-type {\n",
              "        vertical-align: middle;\n",
              "    }\n",
              "\n",
              "    .dataframe tbody tr th {\n",
              "        vertical-align: top;\n",
              "    }\n",
              "\n",
              "    .dataframe thead th {\n",
              "        text-align: right;\n",
              "    }\n",
              "</style>\n",
              "<table border=\"1\" class=\"dataframe\">\n",
              "  <thead>\n",
              "    <tr style=\"text-align: right;\">\n",
              "      <th></th>\n",
              "      <th>Spalte 0</th>\n",
              "      <th>Spalte 1</th>\n",
              "      <th>Spalte 2</th>\n",
              "      <th>Spalte 4</th>\n",
              "    </tr>\n",
              "  </thead>\n",
              "  <tbody>\n",
              "    <tr>\n",
              "      <th>Zeile 0</th>\n",
              "      <td>S0Z0</td>\n",
              "      <td>S1Z0</td>\n",
              "      <td>S2Z0</td>\n",
              "      <td>S4Z0</td>\n",
              "    </tr>\n",
              "    <tr>\n",
              "      <th>Zeile 1</th>\n",
              "      <td>S0Z1</td>\n",
              "      <td>S1Z1</td>\n",
              "      <td>S2Z1</td>\n",
              "      <td>S4Z1</td>\n",
              "    </tr>\n",
              "    <tr>\n",
              "      <th>Zeile 2</th>\n",
              "      <td>S0Z2</td>\n",
              "      <td>S1Z2</td>\n",
              "      <td>S2Z2</td>\n",
              "      <td>S4Z2</td>\n",
              "    </tr>\n",
              "    <tr>\n",
              "      <th>Zeile 3</th>\n",
              "      <td>S0Z3</td>\n",
              "      <td>S1Z3</td>\n",
              "      <td>S2Z3</td>\n",
              "      <td>S4Z3</td>\n",
              "    </tr>\n",
              "  </tbody>\n",
              "</table>\n",
              "</div>"
            ],
            "text/plain": [
              "        Spalte 0 Spalte 1 Spalte 2 Spalte 4\n",
              "Zeile 0     S0Z0     S1Z0     S2Z0     S4Z0\n",
              "Zeile 1     S0Z1     S1Z1     S2Z1     S4Z1\n",
              "Zeile 2     S0Z2     S1Z2     S2Z2     S4Z2\n",
              "Zeile 3     S0Z3     S1Z3     S2Z3     S4Z3"
            ]
          },
          "metadata": {
            "tags": []
          },
          "execution_count": 75
        }
      ]
    },
    {
      "cell_type": "markdown",
      "metadata": {
        "id": "urkRzBfIb2bh"
      },
      "source": [
        "### Mathematische Operationen mit DataFrame\n",
        "Es ist Möglich mit Spalten aus DataFrames zu rechnen, sodass eine mathematische Operation auf die gesamte Spalte des Dataframes angewand wird.\n",
        "Folgende Operationen Sind möglich:"
      ]
    },
    {
      "cell_type": "code",
      "metadata": {
        "colab": {
          "base_uri": "https://localhost:8080/",
          "height": 204
        },
        "id": "Xdh15xOecQvl",
        "outputId": "efe50217-7923-4131-be2d-b068aae5ff3d"
      },
      "source": [
        "df_math = pd.DataFrame(data=[[i for i in range(5)] for i in range(5)])\n",
        "df_math"
      ],
      "execution_count": null,
      "outputs": [
        {
          "output_type": "execute_result",
          "data": {
            "text/html": [
              "<div>\n",
              "<style scoped>\n",
              "    .dataframe tbody tr th:only-of-type {\n",
              "        vertical-align: middle;\n",
              "    }\n",
              "\n",
              "    .dataframe tbody tr th {\n",
              "        vertical-align: top;\n",
              "    }\n",
              "\n",
              "    .dataframe thead th {\n",
              "        text-align: right;\n",
              "    }\n",
              "</style>\n",
              "<table border=\"1\" class=\"dataframe\">\n",
              "  <thead>\n",
              "    <tr style=\"text-align: right;\">\n",
              "      <th></th>\n",
              "      <th>0</th>\n",
              "      <th>1</th>\n",
              "      <th>2</th>\n",
              "      <th>3</th>\n",
              "      <th>4</th>\n",
              "    </tr>\n",
              "  </thead>\n",
              "  <tbody>\n",
              "    <tr>\n",
              "      <th>0</th>\n",
              "      <td>0</td>\n",
              "      <td>1</td>\n",
              "      <td>2</td>\n",
              "      <td>3</td>\n",
              "      <td>4</td>\n",
              "    </tr>\n",
              "    <tr>\n",
              "      <th>1</th>\n",
              "      <td>0</td>\n",
              "      <td>1</td>\n",
              "      <td>2</td>\n",
              "      <td>3</td>\n",
              "      <td>4</td>\n",
              "    </tr>\n",
              "    <tr>\n",
              "      <th>2</th>\n",
              "      <td>0</td>\n",
              "      <td>1</td>\n",
              "      <td>2</td>\n",
              "      <td>3</td>\n",
              "      <td>4</td>\n",
              "    </tr>\n",
              "    <tr>\n",
              "      <th>3</th>\n",
              "      <td>0</td>\n",
              "      <td>1</td>\n",
              "      <td>2</td>\n",
              "      <td>3</td>\n",
              "      <td>4</td>\n",
              "    </tr>\n",
              "    <tr>\n",
              "      <th>4</th>\n",
              "      <td>0</td>\n",
              "      <td>1</td>\n",
              "      <td>2</td>\n",
              "      <td>3</td>\n",
              "      <td>4</td>\n",
              "    </tr>\n",
              "  </tbody>\n",
              "</table>\n",
              "</div>"
            ],
            "text/plain": [
              "   0  1  2  3  4\n",
              "0  0  1  2  3  4\n",
              "1  0  1  2  3  4\n",
              "2  0  1  2  3  4\n",
              "3  0  1  2  3  4\n",
              "4  0  1  2  3  4"
            ]
          },
          "metadata": {
            "tags": []
          },
          "execution_count": 82
        }
      ]
    },
    {
      "cell_type": "code",
      "metadata": {
        "colab": {
          "base_uri": "https://localhost:8080/",
          "height": 204
        },
        "id": "reCsnnWuchjW",
        "outputId": "a4356eec-a479-4af1-c427-ee54b7f0997e"
      },
      "source": [
        "df_math[1] = df_math[1] + 2 # genauso mit -, *, /\n",
        "df_math"
      ],
      "execution_count": null,
      "outputs": [
        {
          "output_type": "execute_result",
          "data": {
            "text/html": [
              "<div>\n",
              "<style scoped>\n",
              "    .dataframe tbody tr th:only-of-type {\n",
              "        vertical-align: middle;\n",
              "    }\n",
              "\n",
              "    .dataframe tbody tr th {\n",
              "        vertical-align: top;\n",
              "    }\n",
              "\n",
              "    .dataframe thead th {\n",
              "        text-align: right;\n",
              "    }\n",
              "</style>\n",
              "<table border=\"1\" class=\"dataframe\">\n",
              "  <thead>\n",
              "    <tr style=\"text-align: right;\">\n",
              "      <th></th>\n",
              "      <th>0</th>\n",
              "      <th>1</th>\n",
              "      <th>2</th>\n",
              "      <th>3</th>\n",
              "      <th>4</th>\n",
              "    </tr>\n",
              "  </thead>\n",
              "  <tbody>\n",
              "    <tr>\n",
              "      <th>0</th>\n",
              "      <td>0</td>\n",
              "      <td>5</td>\n",
              "      <td>2</td>\n",
              "      <td>3</td>\n",
              "      <td>4</td>\n",
              "    </tr>\n",
              "    <tr>\n",
              "      <th>1</th>\n",
              "      <td>0</td>\n",
              "      <td>5</td>\n",
              "      <td>2</td>\n",
              "      <td>3</td>\n",
              "      <td>4</td>\n",
              "    </tr>\n",
              "    <tr>\n",
              "      <th>2</th>\n",
              "      <td>0</td>\n",
              "      <td>5</td>\n",
              "      <td>2</td>\n",
              "      <td>3</td>\n",
              "      <td>4</td>\n",
              "    </tr>\n",
              "    <tr>\n",
              "      <th>3</th>\n",
              "      <td>0</td>\n",
              "      <td>5</td>\n",
              "      <td>2</td>\n",
              "      <td>3</td>\n",
              "      <td>4</td>\n",
              "    </tr>\n",
              "    <tr>\n",
              "      <th>4</th>\n",
              "      <td>0</td>\n",
              "      <td>5</td>\n",
              "      <td>2</td>\n",
              "      <td>3</td>\n",
              "      <td>4</td>\n",
              "    </tr>\n",
              "  </tbody>\n",
              "</table>\n",
              "</div>"
            ],
            "text/plain": [
              "   0  1  2  3  4\n",
              "0  0  5  2  3  4\n",
              "1  0  5  2  3  4\n",
              "2  0  5  2  3  4\n",
              "3  0  5  2  3  4\n",
              "4  0  5  2  3  4"
            ]
          },
          "metadata": {
            "tags": []
          },
          "execution_count": 78
        }
      ]
    },
    {
      "cell_type": "markdown",
      "metadata": {
        "id": "_Q9mYLkHdYMe"
      },
      "source": [
        "Um auf einmal die operation auf jede Spalte anzuwenden, kann ein Array verwendet werden."
      ]
    },
    {
      "cell_type": "code",
      "metadata": {
        "colab": {
          "base_uri": "https://localhost:8080/",
          "height": 204
        },
        "id": "q9VmXEJNdEzg",
        "outputId": "02815d12-4bd7-47b1-d4f6-01f0d8bed234"
      },
      "source": [
        "df_math = df_math - [1, 2, 1, 1, 1] # genauso mit -,*,/; gibt Skalar für jede Spalte an\n",
        "df_math"
      ],
      "execution_count": null,
      "outputs": [
        {
          "output_type": "execute_result",
          "data": {
            "text/html": [
              "<div>\n",
              "<style scoped>\n",
              "    .dataframe tbody tr th:only-of-type {\n",
              "        vertical-align: middle;\n",
              "    }\n",
              "\n",
              "    .dataframe tbody tr th {\n",
              "        vertical-align: top;\n",
              "    }\n",
              "\n",
              "    .dataframe thead th {\n",
              "        text-align: right;\n",
              "    }\n",
              "</style>\n",
              "<table border=\"1\" class=\"dataframe\">\n",
              "  <thead>\n",
              "    <tr style=\"text-align: right;\">\n",
              "      <th></th>\n",
              "      <th>0</th>\n",
              "      <th>1</th>\n",
              "      <th>2</th>\n",
              "      <th>3</th>\n",
              "      <th>4</th>\n",
              "    </tr>\n",
              "  </thead>\n",
              "  <tbody>\n",
              "    <tr>\n",
              "      <th>0</th>\n",
              "      <td>-1</td>\n",
              "      <td>3</td>\n",
              "      <td>1</td>\n",
              "      <td>2</td>\n",
              "      <td>3</td>\n",
              "    </tr>\n",
              "    <tr>\n",
              "      <th>1</th>\n",
              "      <td>-1</td>\n",
              "      <td>3</td>\n",
              "      <td>1</td>\n",
              "      <td>2</td>\n",
              "      <td>3</td>\n",
              "    </tr>\n",
              "    <tr>\n",
              "      <th>2</th>\n",
              "      <td>-1</td>\n",
              "      <td>3</td>\n",
              "      <td>1</td>\n",
              "      <td>2</td>\n",
              "      <td>3</td>\n",
              "    </tr>\n",
              "    <tr>\n",
              "      <th>3</th>\n",
              "      <td>-1</td>\n",
              "      <td>3</td>\n",
              "      <td>1</td>\n",
              "      <td>2</td>\n",
              "      <td>3</td>\n",
              "    </tr>\n",
              "    <tr>\n",
              "      <th>4</th>\n",
              "      <td>-1</td>\n",
              "      <td>3</td>\n",
              "      <td>1</td>\n",
              "      <td>2</td>\n",
              "      <td>3</td>\n",
              "    </tr>\n",
              "  </tbody>\n",
              "</table>\n",
              "</div>"
            ],
            "text/plain": [
              "   0  1  2  3  4\n",
              "0 -1  3  1  2  3\n",
              "1 -1  3  1  2  3\n",
              "2 -1  3  1  2  3\n",
              "3 -1  3  1  2  3\n",
              "4 -1  3  1  2  3"
            ]
          },
          "metadata": {
            "tags": []
          },
          "execution_count": 79
        }
      ]
    },
    {
      "cell_type": "markdown",
      "metadata": {
        "id": "rodlIPmXdk51"
      },
      "source": [
        "Für modulu kann die methode `.mod(df or scalar)` verwendet werden. Hierbei kann als Parameter ein Skalar oder ein DataFrame übergeben werden."
      ]
    },
    {
      "cell_type": "code",
      "metadata": {
        "colab": {
          "base_uri": "https://localhost:8080/",
          "height": 204
        },
        "id": "iJQDrys5dx2s",
        "outputId": "42832b6b-6b8f-46cf-b8cc-6c598ecc914a"
      },
      "source": [
        "df_math = pd.DataFrame(data=[[i for i in range(5)] for i in range(5)])\n",
        "df_math[2] = df_math[4].mod(df_math[2])\n",
        "df_math"
      ],
      "execution_count": null,
      "outputs": [
        {
          "output_type": "execute_result",
          "data": {
            "text/html": [
              "<div>\n",
              "<style scoped>\n",
              "    .dataframe tbody tr th:only-of-type {\n",
              "        vertical-align: middle;\n",
              "    }\n",
              "\n",
              "    .dataframe tbody tr th {\n",
              "        vertical-align: top;\n",
              "    }\n",
              "\n",
              "    .dataframe thead th {\n",
              "        text-align: right;\n",
              "    }\n",
              "</style>\n",
              "<table border=\"1\" class=\"dataframe\">\n",
              "  <thead>\n",
              "    <tr style=\"text-align: right;\">\n",
              "      <th></th>\n",
              "      <th>0</th>\n",
              "      <th>1</th>\n",
              "      <th>2</th>\n",
              "      <th>3</th>\n",
              "      <th>4</th>\n",
              "    </tr>\n",
              "  </thead>\n",
              "  <tbody>\n",
              "    <tr>\n",
              "      <th>0</th>\n",
              "      <td>0</td>\n",
              "      <td>1</td>\n",
              "      <td>0</td>\n",
              "      <td>3</td>\n",
              "      <td>4</td>\n",
              "    </tr>\n",
              "    <tr>\n",
              "      <th>1</th>\n",
              "      <td>0</td>\n",
              "      <td>1</td>\n",
              "      <td>0</td>\n",
              "      <td>3</td>\n",
              "      <td>4</td>\n",
              "    </tr>\n",
              "    <tr>\n",
              "      <th>2</th>\n",
              "      <td>0</td>\n",
              "      <td>1</td>\n",
              "      <td>0</td>\n",
              "      <td>3</td>\n",
              "      <td>4</td>\n",
              "    </tr>\n",
              "    <tr>\n",
              "      <th>3</th>\n",
              "      <td>0</td>\n",
              "      <td>1</td>\n",
              "      <td>0</td>\n",
              "      <td>3</td>\n",
              "      <td>4</td>\n",
              "    </tr>\n",
              "    <tr>\n",
              "      <th>4</th>\n",
              "      <td>0</td>\n",
              "      <td>1</td>\n",
              "      <td>0</td>\n",
              "      <td>3</td>\n",
              "      <td>4</td>\n",
              "    </tr>\n",
              "  </tbody>\n",
              "</table>\n",
              "</div>"
            ],
            "text/plain": [
              "   0  1  2  3  4\n",
              "0  0  1  0  3  4\n",
              "1  0  1  0  3  4\n",
              "2  0  1  0  3  4\n",
              "3  0  1  0  3  4\n",
              "4  0  1  0  3  4"
            ]
          },
          "metadata": {
            "tags": []
          },
          "execution_count": 83
        }
      ]
    },
    {
      "cell_type": "markdown",
      "metadata": {
        "id": "ChXcstkbP5Rc"
      },
      "source": [
        "### Sortieren\n",
        "Um die Daten zu sortiern verwenden wir die Funktion `df.sort_values(by=['col1'])`. Standartmäßig wird mit der kleinsten Zahl angefangen und dann immer größer werdend sortiert (ascending in Englisch). Wenn man mehrere Spalten angibt, so wird erst nach der ersten Spalte die angegeben wurde sortiert. Sollten hier Werte gleich sein, wird nach der zweiten Spalte sortiert und so weiter..."
      ]
    },
    {
      "cell_type": "code",
      "metadata": {
        "colab": {
          "base_uri": "https://localhost:8080/",
          "height": 204
        },
        "id": "h0fCDpALPqtk",
        "outputId": "a7788602-8f3a-4e73-a4e6-2677b615abee"
      },
      "source": [
        "df_asc = df.sort_values(by=['Wahlbeteiligung'])\n",
        "df_asc.head()"
      ],
      "execution_count": null,
      "outputs": [
        {
          "output_type": "execute_result",
          "data": {
            "text/html": [
              "<div>\n",
              "<style scoped>\n",
              "    .dataframe tbody tr th:only-of-type {\n",
              "        vertical-align: middle;\n",
              "    }\n",
              "\n",
              "    .dataframe tbody tr th {\n",
              "        vertical-align: top;\n",
              "    }\n",
              "\n",
              "    .dataframe thead th {\n",
              "        text-align: right;\n",
              "    }\n",
              "</style>\n",
              "<table border=\"1\" class=\"dataframe\">\n",
              "  <thead>\n",
              "    <tr style=\"text-align: right;\">\n",
              "      <th></th>\n",
              "      <th>Wahlbeteiligung</th>\n",
              "      <th>Jahr</th>\n",
              "    </tr>\n",
              "  </thead>\n",
              "  <tbody>\n",
              "    <tr>\n",
              "      <th>16</th>\n",
              "      <td>70.8</td>\n",
              "      <td>2009</td>\n",
              "    </tr>\n",
              "    <tr>\n",
              "      <th>17</th>\n",
              "      <td>71.5</td>\n",
              "      <td>2013</td>\n",
              "    </tr>\n",
              "    <tr>\n",
              "      <th>18</th>\n",
              "      <td>76.2</td>\n",
              "      <td>2017</td>\n",
              "    </tr>\n",
              "    <tr>\n",
              "      <th>15</th>\n",
              "      <td>77.7</td>\n",
              "      <td>2005</td>\n",
              "    </tr>\n",
              "    <tr>\n",
              "      <th>11</th>\n",
              "      <td>77.8</td>\n",
              "      <td>1990</td>\n",
              "    </tr>\n",
              "  </tbody>\n",
              "</table>\n",
              "</div>"
            ],
            "text/plain": [
              "    Wahlbeteiligung  Jahr\n",
              "16             70.8  2009\n",
              "17             71.5  2013\n",
              "18             76.2  2017\n",
              "15             77.7  2005\n",
              "11             77.8  1990"
            ]
          },
          "metadata": {
            "tags": []
          },
          "execution_count": 42
        }
      ]
    },
    {
      "cell_type": "markdown",
      "metadata": {
        "id": "9jq8wiVAQY0U"
      },
      "source": [
        "Um descending zu Sortieren, also von der größten zur kleinten Zahl, muss man das Attribut ``` ascending=False ``` setzten:\n",
        "\n"
      ]
    },
    {
      "cell_type": "code",
      "metadata": {
        "colab": {
          "base_uri": "https://localhost:8080/",
          "height": 204
        },
        "id": "svE2Y8k7Qm4g",
        "outputId": "bb637a94-1b3c-4373-c9f2-5a026781aac0"
      },
      "source": [
        "df_desc = df.sort_values(by=['Wahlbeteiligung'], ascending=False)\n",
        "df_desc.head()"
      ],
      "execution_count": null,
      "outputs": [
        {
          "output_type": "execute_result",
          "data": {
            "text/html": [
              "<div>\n",
              "<style scoped>\n",
              "    .dataframe tbody tr th:only-of-type {\n",
              "        vertical-align: middle;\n",
              "    }\n",
              "\n",
              "    .dataframe tbody tr th {\n",
              "        vertical-align: top;\n",
              "    }\n",
              "\n",
              "    .dataframe thead th {\n",
              "        text-align: right;\n",
              "    }\n",
              "</style>\n",
              "<table border=\"1\" class=\"dataframe\">\n",
              "  <thead>\n",
              "    <tr style=\"text-align: right;\">\n",
              "      <th></th>\n",
              "      <th>Wahlbeteiligung</th>\n",
              "      <th>Jahr</th>\n",
              "    </tr>\n",
              "  </thead>\n",
              "  <tbody>\n",
              "    <tr>\n",
              "      <th>6</th>\n",
              "      <td>91.1</td>\n",
              "      <td>1972</td>\n",
              "    </tr>\n",
              "    <tr>\n",
              "      <th>7</th>\n",
              "      <td>90.7</td>\n",
              "      <td>1976</td>\n",
              "    </tr>\n",
              "    <tr>\n",
              "      <th>9</th>\n",
              "      <td>89.1</td>\n",
              "      <td>1983</td>\n",
              "    </tr>\n",
              "    <tr>\n",
              "      <th>8</th>\n",
              "      <td>88.6</td>\n",
              "      <td>1980</td>\n",
              "    </tr>\n",
              "    <tr>\n",
              "      <th>2</th>\n",
              "      <td>87.8</td>\n",
              "      <td>1957</td>\n",
              "    </tr>\n",
              "  </tbody>\n",
              "</table>\n",
              "</div>"
            ],
            "text/plain": [
              "   Wahlbeteiligung  Jahr\n",
              "6             91.1  1972\n",
              "7             90.7  1976\n",
              "9             89.1  1983\n",
              "8             88.6  1980\n",
              "2             87.8  1957"
            ]
          },
          "metadata": {
            "tags": []
          },
          "execution_count": 43
        }
      ]
    },
    {
      "cell_type": "markdown",
      "metadata": {
        "id": "g1QzbxNWRmwA"
      },
      "source": [
        "### Filtern der Zeilen und Spalten\n",
        "Filtern bedeutet, einen neuen DataFrame zu erzeugen, der nur die Werte enthält, die der Filterbedingung entsprechen.\n",
        "\n",
        "Um nur bestimmte Coloumns auszuwählen (werden nicht gelöscht):"
      ]
    },
    {
      "cell_type": "code",
      "metadata": {
        "colab": {
          "base_uri": "https://localhost:8080/",
          "height": 204
        },
        "id": "X5DUwljURzD5",
        "outputId": "af986798-2fee-4673-8cb5-e52e989891c6"
      },
      "source": [
        "df_small = df.filter(items=['Jahr'])\n",
        "# df ist unverändert\n",
        "df.head()"
      ],
      "execution_count": null,
      "outputs": [
        {
          "output_type": "execute_result",
          "data": {
            "text/html": [
              "<div>\n",
              "<style scoped>\n",
              "    .dataframe tbody tr th:only-of-type {\n",
              "        vertical-align: middle;\n",
              "    }\n",
              "\n",
              "    .dataframe tbody tr th {\n",
              "        vertical-align: top;\n",
              "    }\n",
              "\n",
              "    .dataframe thead th {\n",
              "        text-align: right;\n",
              "    }\n",
              "</style>\n",
              "<table border=\"1\" class=\"dataframe\">\n",
              "  <thead>\n",
              "    <tr style=\"text-align: right;\">\n",
              "      <th></th>\n",
              "      <th>Wahlbeteiligung</th>\n",
              "      <th>Jahr</th>\n",
              "    </tr>\n",
              "  </thead>\n",
              "  <tbody>\n",
              "    <tr>\n",
              "      <th>0</th>\n",
              "      <td>78.5</td>\n",
              "      <td>1949</td>\n",
              "    </tr>\n",
              "    <tr>\n",
              "      <th>1</th>\n",
              "      <td>86.0</td>\n",
              "      <td>1953</td>\n",
              "    </tr>\n",
              "    <tr>\n",
              "      <th>2</th>\n",
              "      <td>87.8</td>\n",
              "      <td>1957</td>\n",
              "    </tr>\n",
              "    <tr>\n",
              "      <th>3</th>\n",
              "      <td>87.7</td>\n",
              "      <td>1961</td>\n",
              "    </tr>\n",
              "    <tr>\n",
              "      <th>4</th>\n",
              "      <td>86.8</td>\n",
              "      <td>1965</td>\n",
              "    </tr>\n",
              "  </tbody>\n",
              "</table>\n",
              "</div>"
            ],
            "text/plain": [
              "   Wahlbeteiligung  Jahr\n",
              "0             78.5  1949\n",
              "1             86.0  1953\n",
              "2             87.8  1957\n",
              "3             87.7  1961\n",
              "4             86.8  1965"
            ]
          },
          "metadata": {
            "tags": []
          },
          "execution_count": 44
        }
      ]
    },
    {
      "cell_type": "code",
      "metadata": {
        "colab": {
          "base_uri": "https://localhost:8080/",
          "height": 204
        },
        "id": "j_rZR2BuSG8Q",
        "outputId": "58e65072-e5dc-4739-99ea-3e17a5d5706d"
      },
      "source": [
        "# aber df_small hat nur eine Spalte\n",
        "df_small.head()"
      ],
      "execution_count": null,
      "outputs": [
        {
          "output_type": "execute_result",
          "data": {
            "text/html": [
              "<div>\n",
              "<style scoped>\n",
              "    .dataframe tbody tr th:only-of-type {\n",
              "        vertical-align: middle;\n",
              "    }\n",
              "\n",
              "    .dataframe tbody tr th {\n",
              "        vertical-align: top;\n",
              "    }\n",
              "\n",
              "    .dataframe thead th {\n",
              "        text-align: right;\n",
              "    }\n",
              "</style>\n",
              "<table border=\"1\" class=\"dataframe\">\n",
              "  <thead>\n",
              "    <tr style=\"text-align: right;\">\n",
              "      <th></th>\n",
              "      <th>Jahr</th>\n",
              "    </tr>\n",
              "  </thead>\n",
              "  <tbody>\n",
              "    <tr>\n",
              "      <th>0</th>\n",
              "      <td>1949</td>\n",
              "    </tr>\n",
              "    <tr>\n",
              "      <th>1</th>\n",
              "      <td>1953</td>\n",
              "    </tr>\n",
              "    <tr>\n",
              "      <th>2</th>\n",
              "      <td>1957</td>\n",
              "    </tr>\n",
              "    <tr>\n",
              "      <th>3</th>\n",
              "      <td>1961</td>\n",
              "    </tr>\n",
              "    <tr>\n",
              "      <th>4</th>\n",
              "      <td>1965</td>\n",
              "    </tr>\n",
              "  </tbody>\n",
              "</table>\n",
              "</div>"
            ],
            "text/plain": [
              "   Jahr\n",
              "0  1949\n",
              "1  1953\n",
              "2  1957\n",
              "3  1961\n",
              "4  1965"
            ]
          },
          "metadata": {
            "tags": []
          },
          "execution_count": 104
        }
      ]
    },
    {
      "cell_type": "markdown",
      "metadata": {
        "id": "XSplU7XsSWcB"
      },
      "source": [
        "Wenn man viele Spaltennamen hat, kann es sein, dass man nur die Spaltennamen auswählen möchten, die (eine) bestimmte Buchstaben(folge) haben. Hierzu können [Relguläre Ausdrücke](https://www.webmasterpro.de/coding/article/regex-syntax.html) verwendet werden:"
      ]
    },
    {
      "cell_type": "code",
      "metadata": {
        "colab": {
          "base_uri": "https://localhost:8080/",
          "height": 204
        },
        "id": "lYXVUVtBSpth",
        "outputId": "6898c4ae-dd74-42a4-a34f-a7314e639570"
      },
      "source": [
        "df_start_with_W = df.filter(regex='W+', axis=1) # alle Spaltennamen bei denen W mindestens ein mal vorkommt\n",
        "df_start_with_W.head()"
      ],
      "execution_count": null,
      "outputs": [
        {
          "output_type": "execute_result",
          "data": {
            "text/html": [
              "<div>\n",
              "<style scoped>\n",
              "    .dataframe tbody tr th:only-of-type {\n",
              "        vertical-align: middle;\n",
              "    }\n",
              "\n",
              "    .dataframe tbody tr th {\n",
              "        vertical-align: top;\n",
              "    }\n",
              "\n",
              "    .dataframe thead th {\n",
              "        text-align: right;\n",
              "    }\n",
              "</style>\n",
              "<table border=\"1\" class=\"dataframe\">\n",
              "  <thead>\n",
              "    <tr style=\"text-align: right;\">\n",
              "      <th></th>\n",
              "      <th>Wahlbeteiligung</th>\n",
              "    </tr>\n",
              "  </thead>\n",
              "  <tbody>\n",
              "    <tr>\n",
              "      <th>0</th>\n",
              "      <td>78.5</td>\n",
              "    </tr>\n",
              "    <tr>\n",
              "      <th>1</th>\n",
              "      <td>86.0</td>\n",
              "    </tr>\n",
              "    <tr>\n",
              "      <th>2</th>\n",
              "      <td>87.8</td>\n",
              "    </tr>\n",
              "    <tr>\n",
              "      <th>3</th>\n",
              "      <td>87.7</td>\n",
              "    </tr>\n",
              "    <tr>\n",
              "      <th>4</th>\n",
              "      <td>86.8</td>\n",
              "    </tr>\n",
              "  </tbody>\n",
              "</table>\n",
              "</div>"
            ],
            "text/plain": [
              "   Wahlbeteiligung\n",
              "0             78.5\n",
              "1             86.0\n",
              "2             87.8\n",
              "3             87.7\n",
              "4             86.8"
            ]
          },
          "metadata": {
            "tags": []
          },
          "execution_count": 113
        }
      ]
    },
    {
      "cell_type": "markdown",
      "metadata": {
        "id": "g6nDGm5PVzUn"
      },
      "source": [
        "Wenn alle Zeilen oder Spalten eine feste Sequenz an Buchstaben beinhalten sollen, so kann auch das Attribut `like='sequenz'` verwendet werden: \n",
        "\n",
        "W**ah**lbeteiligung und J**ah**r"
      ]
    },
    {
      "cell_type": "code",
      "metadata": {
        "colab": {
          "base_uri": "https://localhost:8080/",
          "height": 204
        },
        "id": "s2g5WOBOTRQZ",
        "outputId": "f6127730-0d26-45f1-b45b-fc98f75454f1"
      },
      "source": [
        "df_word = df.filter(like='ah')\n",
        "df_word.head()"
      ],
      "execution_count": null,
      "outputs": [
        {
          "output_type": "execute_result",
          "data": {
            "text/html": [
              "<div>\n",
              "<style scoped>\n",
              "    .dataframe tbody tr th:only-of-type {\n",
              "        vertical-align: middle;\n",
              "    }\n",
              "\n",
              "    .dataframe tbody tr th {\n",
              "        vertical-align: top;\n",
              "    }\n",
              "\n",
              "    .dataframe thead th {\n",
              "        text-align: right;\n",
              "    }\n",
              "</style>\n",
              "<table border=\"1\" class=\"dataframe\">\n",
              "  <thead>\n",
              "    <tr style=\"text-align: right;\">\n",
              "      <th></th>\n",
              "      <th>Wahlbeteiligung</th>\n",
              "      <th>Jahr</th>\n",
              "    </tr>\n",
              "  </thead>\n",
              "  <tbody>\n",
              "    <tr>\n",
              "      <th>0</th>\n",
              "      <td>78.5</td>\n",
              "      <td>1949</td>\n",
              "    </tr>\n",
              "    <tr>\n",
              "      <th>1</th>\n",
              "      <td>86.0</td>\n",
              "      <td>1953</td>\n",
              "    </tr>\n",
              "    <tr>\n",
              "      <th>2</th>\n",
              "      <td>87.8</td>\n",
              "      <td>1957</td>\n",
              "    </tr>\n",
              "    <tr>\n",
              "      <th>3</th>\n",
              "      <td>87.7</td>\n",
              "      <td>1961</td>\n",
              "    </tr>\n",
              "    <tr>\n",
              "      <th>4</th>\n",
              "      <td>86.8</td>\n",
              "      <td>1965</td>\n",
              "    </tr>\n",
              "  </tbody>\n",
              "</table>\n",
              "</div>"
            ],
            "text/plain": [
              "   Wahlbeteiligung  Jahr\n",
              "0             78.5  1949\n",
              "1             86.0  1953\n",
              "2             87.8  1957\n",
              "3             87.7  1961\n",
              "4             86.8  1965"
            ]
          },
          "metadata": {
            "tags": []
          },
          "execution_count": 45
        }
      ]
    },
    {
      "cell_type": "markdown",
      "metadata": {
        "id": "Qtm9fKZSWTgQ"
      },
      "source": [
        "### Filtern gegeben der Werte\n",
        "\n",
        "Um nach speziellen Werten zu Filtern, kann ein beliebig komplexer Filter ([Boolsche Operationen](https://de.wikipedia.org/wiki/Boolesche_Algebra)) mit Folgendem Schema gebaut werden:\n",
        "\n",
        "Verwende **&** für eine **Verundung** und **|** für eine **Verorderung** sowie **~** für eine **Verneinung**:\n",
        "\n",
        "`df[(cond1) & (cond2) | (cond3)]`"
      ]
    },
    {
      "cell_type": "code",
      "metadata": {
        "colab": {
          "base_uri": "https://localhost:8080/",
          "height": 204
        },
        "id": "Qoh2sAWsWWAu",
        "outputId": "b82b95ca-a670-40af-da7e-506a18af9dbb"
      },
      "source": [
        "df_greater = df[(df['Jahr'] > 2000)]\n",
        "df_greater"
      ],
      "execution_count": null,
      "outputs": [
        {
          "output_type": "execute_result",
          "data": {
            "text/html": [
              "<div>\n",
              "<style scoped>\n",
              "    .dataframe tbody tr th:only-of-type {\n",
              "        vertical-align: middle;\n",
              "    }\n",
              "\n",
              "    .dataframe tbody tr th {\n",
              "        vertical-align: top;\n",
              "    }\n",
              "\n",
              "    .dataframe thead th {\n",
              "        text-align: right;\n",
              "    }\n",
              "</style>\n",
              "<table border=\"1\" class=\"dataframe\">\n",
              "  <thead>\n",
              "    <tr style=\"text-align: right;\">\n",
              "      <th></th>\n",
              "      <th>Wahlbeteiligung</th>\n",
              "      <th>Jahr</th>\n",
              "    </tr>\n",
              "  </thead>\n",
              "  <tbody>\n",
              "    <tr>\n",
              "      <th>14</th>\n",
              "      <td>79.1</td>\n",
              "      <td>2002</td>\n",
              "    </tr>\n",
              "    <tr>\n",
              "      <th>15</th>\n",
              "      <td>77.7</td>\n",
              "      <td>2005</td>\n",
              "    </tr>\n",
              "    <tr>\n",
              "      <th>16</th>\n",
              "      <td>70.8</td>\n",
              "      <td>2009</td>\n",
              "    </tr>\n",
              "    <tr>\n",
              "      <th>17</th>\n",
              "      <td>71.5</td>\n",
              "      <td>2013</td>\n",
              "    </tr>\n",
              "    <tr>\n",
              "      <th>18</th>\n",
              "      <td>76.2</td>\n",
              "      <td>2017</td>\n",
              "    </tr>\n",
              "  </tbody>\n",
              "</table>\n",
              "</div>"
            ],
            "text/plain": [
              "    Wahlbeteiligung  Jahr\n",
              "14             79.1  2002\n",
              "15             77.7  2005\n",
              "16             70.8  2009\n",
              "17             71.5  2013\n",
              "18             76.2  2017"
            ]
          },
          "metadata": {
            "tags": []
          },
          "execution_count": 84
        }
      ]
    },
    {
      "cell_type": "code",
      "metadata": {
        "colab": {
          "base_uri": "https://localhost:8080/",
          "height": 80
        },
        "id": "UIbj22p9ZWaf",
        "outputId": "d1be49ed-12db-40f4-f767-f8b45b95f34c"
      },
      "source": [
        "df_greater = df[(df['Jahr'] > 2000) & (df['Jahr'].mod(2) == 0) ]\n",
        "df_greater"
      ],
      "execution_count": null,
      "outputs": [
        {
          "output_type": "execute_result",
          "data": {
            "text/html": [
              "<div>\n",
              "<style scoped>\n",
              "    .dataframe tbody tr th:only-of-type {\n",
              "        vertical-align: middle;\n",
              "    }\n",
              "\n",
              "    .dataframe tbody tr th {\n",
              "        vertical-align: top;\n",
              "    }\n",
              "\n",
              "    .dataframe thead th {\n",
              "        text-align: right;\n",
              "    }\n",
              "</style>\n",
              "<table border=\"1\" class=\"dataframe\">\n",
              "  <thead>\n",
              "    <tr style=\"text-align: right;\">\n",
              "      <th></th>\n",
              "      <th>Wahlbeteiligung</th>\n",
              "      <th>Jahr</th>\n",
              "    </tr>\n",
              "  </thead>\n",
              "  <tbody>\n",
              "    <tr>\n",
              "      <th>14</th>\n",
              "      <td>79.1</td>\n",
              "      <td>2002</td>\n",
              "    </tr>\n",
              "  </tbody>\n",
              "</table>\n",
              "</div>"
            ],
            "text/plain": [
              "    Wahlbeteiligung  Jahr\n",
              "14             79.1  2002"
            ]
          },
          "metadata": {
            "tags": []
          },
          "execution_count": 85
        }
      ]
    },
    {
      "cell_type": "code",
      "metadata": {
        "colab": {
          "base_uri": "https://localhost:8080/",
          "height": 390
        },
        "id": "qHlvqR95ZbJu",
        "outputId": "51cf6881-d733-4544-e6b7-b1c7987afcfd"
      },
      "source": [
        "df_greater = df[(df['Jahr'] > 2000) | (df['Jahr'].mod(2) == 0) ]\n",
        "df_greater"
      ],
      "execution_count": null,
      "outputs": [
        {
          "output_type": "execute_result",
          "data": {
            "text/html": [
              "<div>\n",
              "<style scoped>\n",
              "    .dataframe tbody tr th:only-of-type {\n",
              "        vertical-align: middle;\n",
              "    }\n",
              "\n",
              "    .dataframe tbody tr th {\n",
              "        vertical-align: top;\n",
              "    }\n",
              "\n",
              "    .dataframe thead th {\n",
              "        text-align: right;\n",
              "    }\n",
              "</style>\n",
              "<table border=\"1\" class=\"dataframe\">\n",
              "  <thead>\n",
              "    <tr style=\"text-align: right;\">\n",
              "      <th></th>\n",
              "      <th>Wahlbeteiligung</th>\n",
              "      <th>Jahr</th>\n",
              "    </tr>\n",
              "  </thead>\n",
              "  <tbody>\n",
              "    <tr>\n",
              "      <th>6</th>\n",
              "      <td>91.1</td>\n",
              "      <td>1972</td>\n",
              "    </tr>\n",
              "    <tr>\n",
              "      <th>7</th>\n",
              "      <td>90.7</td>\n",
              "      <td>1976</td>\n",
              "    </tr>\n",
              "    <tr>\n",
              "      <th>8</th>\n",
              "      <td>88.6</td>\n",
              "      <td>1980</td>\n",
              "    </tr>\n",
              "    <tr>\n",
              "      <th>11</th>\n",
              "      <td>77.8</td>\n",
              "      <td>1990</td>\n",
              "    </tr>\n",
              "    <tr>\n",
              "      <th>12</th>\n",
              "      <td>79.0</td>\n",
              "      <td>1994</td>\n",
              "    </tr>\n",
              "    <tr>\n",
              "      <th>13</th>\n",
              "      <td>82.2</td>\n",
              "      <td>1998</td>\n",
              "    </tr>\n",
              "    <tr>\n",
              "      <th>14</th>\n",
              "      <td>79.1</td>\n",
              "      <td>2002</td>\n",
              "    </tr>\n",
              "    <tr>\n",
              "      <th>15</th>\n",
              "      <td>77.7</td>\n",
              "      <td>2005</td>\n",
              "    </tr>\n",
              "    <tr>\n",
              "      <th>16</th>\n",
              "      <td>70.8</td>\n",
              "      <td>2009</td>\n",
              "    </tr>\n",
              "    <tr>\n",
              "      <th>17</th>\n",
              "      <td>71.5</td>\n",
              "      <td>2013</td>\n",
              "    </tr>\n",
              "    <tr>\n",
              "      <th>18</th>\n",
              "      <td>76.2</td>\n",
              "      <td>2017</td>\n",
              "    </tr>\n",
              "  </tbody>\n",
              "</table>\n",
              "</div>"
            ],
            "text/plain": [
              "    Wahlbeteiligung  Jahr\n",
              "6              91.1  1972\n",
              "7              90.7  1976\n",
              "8              88.6  1980\n",
              "11             77.8  1990\n",
              "12             79.0  1994\n",
              "13             82.2  1998\n",
              "14             79.1  2002\n",
              "15             77.7  2005\n",
              "16             70.8  2009\n",
              "17             71.5  2013\n",
              "18             76.2  2017"
            ]
          },
          "metadata": {
            "tags": []
          },
          "execution_count": 86
        }
      ]
    },
    {
      "cell_type": "markdown",
      "metadata": {
        "id": "Zr5583AXSyhx"
      },
      "source": [
        "## Joints\n",
        "\n",
        "Die Beispiele sind dem Voliensatz von Prof. Dr. Carsten Binning (Informationsmanagement 2020)\n"
      ]
    },
    {
      "cell_type": "code",
      "metadata": {
        "id": "AnaPAOOUrEox",
        "colab": {
          "base_uri": "https://localhost:8080/",
          "height": 142
        },
        "outputId": "dc4c6472-f2d5-4e18-dbc6-7292ab4e5964"
      },
      "source": [
        "student_arr = [[26120, \"Fichte\", 10], [27550, \"Schopenhauer\", 6], [222, \"Unbekannt\", -1]]\n",
        "listens = [[26120, 5001], [27550, 5001], [27550, 4052], [111, 000]]\n",
        "df_sud = pd.DataFrame(student_arr, columns=[\"MatrNr\", \"Name\", \"Semester\"])\n",
        "df_list = pd.DataFrame(listens, columns=[\"MatrNr\", \"LectNr.\"])\n",
        "df_sud"
      ],
      "execution_count": null,
      "outputs": [
        {
          "output_type": "execute_result",
          "data": {
            "text/html": [
              "<div>\n",
              "<style scoped>\n",
              "    .dataframe tbody tr th:only-of-type {\n",
              "        vertical-align: middle;\n",
              "    }\n",
              "\n",
              "    .dataframe tbody tr th {\n",
              "        vertical-align: top;\n",
              "    }\n",
              "\n",
              "    .dataframe thead th {\n",
              "        text-align: right;\n",
              "    }\n",
              "</style>\n",
              "<table border=\"1\" class=\"dataframe\">\n",
              "  <thead>\n",
              "    <tr style=\"text-align: right;\">\n",
              "      <th></th>\n",
              "      <th>MatrNr</th>\n",
              "      <th>Name</th>\n",
              "      <th>Semester</th>\n",
              "    </tr>\n",
              "  </thead>\n",
              "  <tbody>\n",
              "    <tr>\n",
              "      <th>0</th>\n",
              "      <td>26120</td>\n",
              "      <td>Fichte</td>\n",
              "      <td>10</td>\n",
              "    </tr>\n",
              "    <tr>\n",
              "      <th>1</th>\n",
              "      <td>27550</td>\n",
              "      <td>Schopenhauer</td>\n",
              "      <td>6</td>\n",
              "    </tr>\n",
              "    <tr>\n",
              "      <th>2</th>\n",
              "      <td>222</td>\n",
              "      <td>Unbekannt</td>\n",
              "      <td>-1</td>\n",
              "    </tr>\n",
              "  </tbody>\n",
              "</table>\n",
              "</div>"
            ],
            "text/plain": [
              "   MatrNr          Name  Semester\n",
              "0   26120        Fichte        10\n",
              "1   27550  Schopenhauer         6\n",
              "2     222     Unbekannt        -1"
            ]
          },
          "metadata": {
            "tags": []
          },
          "execution_count": 92
        }
      ]
    },
    {
      "cell_type": "code",
      "metadata": {
        "colab": {
          "base_uri": "https://localhost:8080/",
          "height": 173
        },
        "id": "oRWHwswlUa3g",
        "outputId": "6fe9cea2-4658-4a5f-8131-5833ccfa6f36"
      },
      "source": [
        "df_list"
      ],
      "execution_count": null,
      "outputs": [
        {
          "output_type": "execute_result",
          "data": {
            "text/html": [
              "<div>\n",
              "<style scoped>\n",
              "    .dataframe tbody tr th:only-of-type {\n",
              "        vertical-align: middle;\n",
              "    }\n",
              "\n",
              "    .dataframe tbody tr th {\n",
              "        vertical-align: top;\n",
              "    }\n",
              "\n",
              "    .dataframe thead th {\n",
              "        text-align: right;\n",
              "    }\n",
              "</style>\n",
              "<table border=\"1\" class=\"dataframe\">\n",
              "  <thead>\n",
              "    <tr style=\"text-align: right;\">\n",
              "      <th></th>\n",
              "      <th>MatrNr</th>\n",
              "      <th>LectNr.</th>\n",
              "    </tr>\n",
              "  </thead>\n",
              "  <tbody>\n",
              "    <tr>\n",
              "      <th>0</th>\n",
              "      <td>26120</td>\n",
              "      <td>5001</td>\n",
              "    </tr>\n",
              "    <tr>\n",
              "      <th>1</th>\n",
              "      <td>27550</td>\n",
              "      <td>5001</td>\n",
              "    </tr>\n",
              "    <tr>\n",
              "      <th>2</th>\n",
              "      <td>27550</td>\n",
              "      <td>4052</td>\n",
              "    </tr>\n",
              "    <tr>\n",
              "      <th>3</th>\n",
              "      <td>111</td>\n",
              "      <td>0</td>\n",
              "    </tr>\n",
              "  </tbody>\n",
              "</table>\n",
              "</div>"
            ],
            "text/plain": [
              "   MatrNr  LectNr.\n",
              "0   26120     5001\n",
              "1   27550     5001\n",
              "2   27550     4052\n",
              "3     111        0"
            ]
          },
          "metadata": {
            "tags": []
          },
          "execution_count": 88
        }
      ]
    },
    {
      "cell_type": "markdown",
      "metadata": {
        "id": "jqh8MljJVcK2"
      },
      "source": [
        "### Kartesisches Produkt\n",
        "[source](https://www.geeksforgeeks.org/python-program-to-perform-cross-join-in-pandas/)"
      ]
    },
    {
      "cell_type": "code",
      "metadata": {
        "id": "mI1UjhWRVhay",
        "colab": {
          "base_uri": "https://localhost:8080/",
          "height": 421
        },
        "outputId": "54c152b0-4b66-44ef-8b77-b264b3dfb322"
      },
      "source": [
        "# no default method?\n",
        "df_sud['key'] = 1\n",
        "df_list['key'] = 1\n",
        "result = pd.merge(df_sud, df_list, on ='key').drop(\"key\", 1)\n",
        "result"
      ],
      "execution_count": null,
      "outputs": [
        {
          "output_type": "execute_result",
          "data": {
            "text/html": [
              "<div>\n",
              "<style scoped>\n",
              "    .dataframe tbody tr th:only-of-type {\n",
              "        vertical-align: middle;\n",
              "    }\n",
              "\n",
              "    .dataframe tbody tr th {\n",
              "        vertical-align: top;\n",
              "    }\n",
              "\n",
              "    .dataframe thead th {\n",
              "        text-align: right;\n",
              "    }\n",
              "</style>\n",
              "<table border=\"1\" class=\"dataframe\">\n",
              "  <thead>\n",
              "    <tr style=\"text-align: right;\">\n",
              "      <th></th>\n",
              "      <th>MatrNr_x</th>\n",
              "      <th>Name</th>\n",
              "      <th>Semester</th>\n",
              "      <th>MatrNr_y</th>\n",
              "      <th>LectNr.</th>\n",
              "    </tr>\n",
              "  </thead>\n",
              "  <tbody>\n",
              "    <tr>\n",
              "      <th>0</th>\n",
              "      <td>26120</td>\n",
              "      <td>Fichte</td>\n",
              "      <td>10</td>\n",
              "      <td>26120</td>\n",
              "      <td>5001</td>\n",
              "    </tr>\n",
              "    <tr>\n",
              "      <th>1</th>\n",
              "      <td>26120</td>\n",
              "      <td>Fichte</td>\n",
              "      <td>10</td>\n",
              "      <td>27550</td>\n",
              "      <td>5001</td>\n",
              "    </tr>\n",
              "    <tr>\n",
              "      <th>2</th>\n",
              "      <td>26120</td>\n",
              "      <td>Fichte</td>\n",
              "      <td>10</td>\n",
              "      <td>27550</td>\n",
              "      <td>4052</td>\n",
              "    </tr>\n",
              "    <tr>\n",
              "      <th>3</th>\n",
              "      <td>26120</td>\n",
              "      <td>Fichte</td>\n",
              "      <td>10</td>\n",
              "      <td>111</td>\n",
              "      <td>0</td>\n",
              "    </tr>\n",
              "    <tr>\n",
              "      <th>4</th>\n",
              "      <td>27550</td>\n",
              "      <td>Schopenhauer</td>\n",
              "      <td>6</td>\n",
              "      <td>26120</td>\n",
              "      <td>5001</td>\n",
              "    </tr>\n",
              "    <tr>\n",
              "      <th>5</th>\n",
              "      <td>27550</td>\n",
              "      <td>Schopenhauer</td>\n",
              "      <td>6</td>\n",
              "      <td>27550</td>\n",
              "      <td>5001</td>\n",
              "    </tr>\n",
              "    <tr>\n",
              "      <th>6</th>\n",
              "      <td>27550</td>\n",
              "      <td>Schopenhauer</td>\n",
              "      <td>6</td>\n",
              "      <td>27550</td>\n",
              "      <td>4052</td>\n",
              "    </tr>\n",
              "    <tr>\n",
              "      <th>7</th>\n",
              "      <td>27550</td>\n",
              "      <td>Schopenhauer</td>\n",
              "      <td>6</td>\n",
              "      <td>111</td>\n",
              "      <td>0</td>\n",
              "    </tr>\n",
              "    <tr>\n",
              "      <th>8</th>\n",
              "      <td>222</td>\n",
              "      <td>Unbekannt</td>\n",
              "      <td>-1</td>\n",
              "      <td>26120</td>\n",
              "      <td>5001</td>\n",
              "    </tr>\n",
              "    <tr>\n",
              "      <th>9</th>\n",
              "      <td>222</td>\n",
              "      <td>Unbekannt</td>\n",
              "      <td>-1</td>\n",
              "      <td>27550</td>\n",
              "      <td>5001</td>\n",
              "    </tr>\n",
              "    <tr>\n",
              "      <th>10</th>\n",
              "      <td>222</td>\n",
              "      <td>Unbekannt</td>\n",
              "      <td>-1</td>\n",
              "      <td>27550</td>\n",
              "      <td>4052</td>\n",
              "    </tr>\n",
              "    <tr>\n",
              "      <th>11</th>\n",
              "      <td>222</td>\n",
              "      <td>Unbekannt</td>\n",
              "      <td>-1</td>\n",
              "      <td>111</td>\n",
              "      <td>0</td>\n",
              "    </tr>\n",
              "  </tbody>\n",
              "</table>\n",
              "</div>"
            ],
            "text/plain": [
              "    MatrNr_x          Name  Semester  MatrNr_y  LectNr.\n",
              "0      26120        Fichte        10     26120     5001\n",
              "1      26120        Fichte        10     27550     5001\n",
              "2      26120        Fichte        10     27550     4052\n",
              "3      26120        Fichte        10       111        0\n",
              "4      27550  Schopenhauer         6     26120     5001\n",
              "5      27550  Schopenhauer         6     27550     5001\n",
              "6      27550  Schopenhauer         6     27550     4052\n",
              "7      27550  Schopenhauer         6       111        0\n",
              "8        222     Unbekannt        -1     26120     5001\n",
              "9        222     Unbekannt        -1     27550     5001\n",
              "10       222     Unbekannt        -1     27550     4052\n",
              "11       222     Unbekannt        -1       111        0"
            ]
          },
          "metadata": {
            "tags": []
          },
          "execution_count": 99
        }
      ]
    },
    {
      "cell_type": "markdown",
      "metadata": {
        "id": "XsWdXKwqUtmU"
      },
      "source": [
        "### Natürlicher Joint\n"
      ]
    },
    {
      "cell_type": "code",
      "metadata": {
        "colab": {
          "base_uri": "https://localhost:8080/",
          "height": 142
        },
        "id": "uB0TXl9cUxaf",
        "outputId": "bb43cb09-de93-4a6c-b930-2a886ccee916"
      },
      "source": [
        "pd.merge(df_sud,df_list)"
      ],
      "execution_count": null,
      "outputs": [
        {
          "output_type": "execute_result",
          "data": {
            "text/html": [
              "<div>\n",
              "<style scoped>\n",
              "    .dataframe tbody tr th:only-of-type {\n",
              "        vertical-align: middle;\n",
              "    }\n",
              "\n",
              "    .dataframe tbody tr th {\n",
              "        vertical-align: top;\n",
              "    }\n",
              "\n",
              "    .dataframe thead th {\n",
              "        text-align: right;\n",
              "    }\n",
              "</style>\n",
              "<table border=\"1\" class=\"dataframe\">\n",
              "  <thead>\n",
              "    <tr style=\"text-align: right;\">\n",
              "      <th></th>\n",
              "      <th>MatrNr</th>\n",
              "      <th>Name</th>\n",
              "      <th>Semester</th>\n",
              "      <th>LectNr.</th>\n",
              "    </tr>\n",
              "  </thead>\n",
              "  <tbody>\n",
              "    <tr>\n",
              "      <th>0</th>\n",
              "      <td>26120</td>\n",
              "      <td>Fichte</td>\n",
              "      <td>10</td>\n",
              "      <td>5001</td>\n",
              "    </tr>\n",
              "    <tr>\n",
              "      <th>1</th>\n",
              "      <td>27550</td>\n",
              "      <td>Schopenhauer</td>\n",
              "      <td>6</td>\n",
              "      <td>5001</td>\n",
              "    </tr>\n",
              "    <tr>\n",
              "      <th>2</th>\n",
              "      <td>27550</td>\n",
              "      <td>Schopenhauer</td>\n",
              "      <td>6</td>\n",
              "      <td>4052</td>\n",
              "    </tr>\n",
              "  </tbody>\n",
              "</table>\n",
              "</div>"
            ],
            "text/plain": [
              "   MatrNr          Name  Semester  LectNr.\n",
              "0   26120        Fichte        10     5001\n",
              "1   27550  Schopenhauer         6     5001\n",
              "2   27550  Schopenhauer         6     4052"
            ]
          },
          "metadata": {
            "tags": []
          },
          "execution_count": 45
        }
      ]
    },
    {
      "cell_type": "markdown",
      "metadata": {
        "id": "Y_AEhxzgVH76"
      },
      "source": [
        "### Allgemeiner Joint"
      ]
    },
    {
      "cell_type": "code",
      "metadata": {
        "colab": {
          "base_uri": "https://localhost:8080/",
          "height": 142
        },
        "id": "PYcN-htxVKwe",
        "outputId": "512715d8-b840-4e0e-fcdb-365ab4b0c270"
      },
      "source": [
        "pd.merge(df_sud,df_list,on='MatrNr')"
      ],
      "execution_count": null,
      "outputs": [
        {
          "output_type": "execute_result",
          "data": {
            "text/html": [
              "<div>\n",
              "<style scoped>\n",
              "    .dataframe tbody tr th:only-of-type {\n",
              "        vertical-align: middle;\n",
              "    }\n",
              "\n",
              "    .dataframe tbody tr th {\n",
              "        vertical-align: top;\n",
              "    }\n",
              "\n",
              "    .dataframe thead th {\n",
              "        text-align: right;\n",
              "    }\n",
              "</style>\n",
              "<table border=\"1\" class=\"dataframe\">\n",
              "  <thead>\n",
              "    <tr style=\"text-align: right;\">\n",
              "      <th></th>\n",
              "      <th>MatrNr</th>\n",
              "      <th>Name</th>\n",
              "      <th>Semester</th>\n",
              "      <th>LectNr.</th>\n",
              "    </tr>\n",
              "  </thead>\n",
              "  <tbody>\n",
              "    <tr>\n",
              "      <th>0</th>\n",
              "      <td>26120</td>\n",
              "      <td>Fichte</td>\n",
              "      <td>10</td>\n",
              "      <td>5001</td>\n",
              "    </tr>\n",
              "    <tr>\n",
              "      <th>1</th>\n",
              "      <td>27550</td>\n",
              "      <td>Schopenhauer</td>\n",
              "      <td>6</td>\n",
              "      <td>5001</td>\n",
              "    </tr>\n",
              "    <tr>\n",
              "      <th>2</th>\n",
              "      <td>27550</td>\n",
              "      <td>Schopenhauer</td>\n",
              "      <td>6</td>\n",
              "      <td>4052</td>\n",
              "    </tr>\n",
              "  </tbody>\n",
              "</table>\n",
              "</div>"
            ],
            "text/plain": [
              "   MatrNr          Name  Semester  LectNr.\n",
              "0   26120        Fichte        10     5001\n",
              "1   27550  Schopenhauer         6     5001\n",
              "2   27550  Schopenhauer         6     4052"
            ]
          },
          "metadata": {
            "tags": []
          },
          "execution_count": 46
        }
      ]
    },
    {
      "cell_type": "code",
      "metadata": {
        "colab": {
          "base_uri": "https://localhost:8080/",
          "height": 142
        },
        "id": "gnpbYwnOVSFm",
        "outputId": "35a5b525-dbff-441f-e75c-88c0015e2bcc"
      },
      "source": [
        "pd.merge(df_sud,df_list,left_on='MatrNr',right_on='MatrNr')"
      ],
      "execution_count": null,
      "outputs": [
        {
          "output_type": "execute_result",
          "data": {
            "text/html": [
              "<div>\n",
              "<style scoped>\n",
              "    .dataframe tbody tr th:only-of-type {\n",
              "        vertical-align: middle;\n",
              "    }\n",
              "\n",
              "    .dataframe tbody tr th {\n",
              "        vertical-align: top;\n",
              "    }\n",
              "\n",
              "    .dataframe thead th {\n",
              "        text-align: right;\n",
              "    }\n",
              "</style>\n",
              "<table border=\"1\" class=\"dataframe\">\n",
              "  <thead>\n",
              "    <tr style=\"text-align: right;\">\n",
              "      <th></th>\n",
              "      <th>MatrNr</th>\n",
              "      <th>Name</th>\n",
              "      <th>Semester</th>\n",
              "      <th>LectNr.</th>\n",
              "    </tr>\n",
              "  </thead>\n",
              "  <tbody>\n",
              "    <tr>\n",
              "      <th>0</th>\n",
              "      <td>26120</td>\n",
              "      <td>Fichte</td>\n",
              "      <td>10</td>\n",
              "      <td>5001</td>\n",
              "    </tr>\n",
              "    <tr>\n",
              "      <th>1</th>\n",
              "      <td>27550</td>\n",
              "      <td>Schopenhauer</td>\n",
              "      <td>6</td>\n",
              "      <td>5001</td>\n",
              "    </tr>\n",
              "    <tr>\n",
              "      <th>2</th>\n",
              "      <td>27550</td>\n",
              "      <td>Schopenhauer</td>\n",
              "      <td>6</td>\n",
              "      <td>4052</td>\n",
              "    </tr>\n",
              "  </tbody>\n",
              "</table>\n",
              "</div>"
            ],
            "text/plain": [
              "   MatrNr          Name  Semester  LectNr.\n",
              "0   26120        Fichte        10     5001\n",
              "1   27550  Schopenhauer         6     5001\n",
              "2   27550  Schopenhauer         6     4052"
            ]
          },
          "metadata": {
            "tags": []
          },
          "execution_count": 47
        }
      ]
    },
    {
      "cell_type": "markdown",
      "metadata": {
        "id": "ClhGVqRZYSRI"
      },
      "source": [
        "### Natürlicher Linker äußerer Joint"
      ]
    },
    {
      "cell_type": "code",
      "metadata": {
        "colab": {
          "base_uri": "https://localhost:8080/",
          "height": 173
        },
        "id": "jHQK4gxcYWv-",
        "outputId": "0ab13d58-0e57-42b8-d7a1-c46d9934afbb"
      },
      "source": [
        "pd.merge(df_sud,df_list,on='MatrNr',how='left')"
      ],
      "execution_count": null,
      "outputs": [
        {
          "output_type": "execute_result",
          "data": {
            "text/html": [
              "<div>\n",
              "<style scoped>\n",
              "    .dataframe tbody tr th:only-of-type {\n",
              "        vertical-align: middle;\n",
              "    }\n",
              "\n",
              "    .dataframe tbody tr th {\n",
              "        vertical-align: top;\n",
              "    }\n",
              "\n",
              "    .dataframe thead th {\n",
              "        text-align: right;\n",
              "    }\n",
              "</style>\n",
              "<table border=\"1\" class=\"dataframe\">\n",
              "  <thead>\n",
              "    <tr style=\"text-align: right;\">\n",
              "      <th></th>\n",
              "      <th>MatrNr</th>\n",
              "      <th>Name</th>\n",
              "      <th>Semester</th>\n",
              "      <th>LectNr.</th>\n",
              "    </tr>\n",
              "  </thead>\n",
              "  <tbody>\n",
              "    <tr>\n",
              "      <th>0</th>\n",
              "      <td>26120</td>\n",
              "      <td>Fichte</td>\n",
              "      <td>10</td>\n",
              "      <td>5001.0</td>\n",
              "    </tr>\n",
              "    <tr>\n",
              "      <th>1</th>\n",
              "      <td>27550</td>\n",
              "      <td>Schopenhauer</td>\n",
              "      <td>6</td>\n",
              "      <td>5001.0</td>\n",
              "    </tr>\n",
              "    <tr>\n",
              "      <th>2</th>\n",
              "      <td>27550</td>\n",
              "      <td>Schopenhauer</td>\n",
              "      <td>6</td>\n",
              "      <td>4052.0</td>\n",
              "    </tr>\n",
              "    <tr>\n",
              "      <th>3</th>\n",
              "      <td>222</td>\n",
              "      <td>Unbekannt</td>\n",
              "      <td>-1</td>\n",
              "      <td>NaN</td>\n",
              "    </tr>\n",
              "  </tbody>\n",
              "</table>\n",
              "</div>"
            ],
            "text/plain": [
              "   MatrNr          Name  Semester  LectNr.\n",
              "0   26120        Fichte        10   5001.0\n",
              "1   27550  Schopenhauer         6   5001.0\n",
              "2   27550  Schopenhauer         6   4052.0\n",
              "3     222     Unbekannt        -1      NaN"
            ]
          },
          "metadata": {
            "tags": []
          },
          "execution_count": 48
        }
      ]
    },
    {
      "cell_type": "markdown",
      "metadata": {
        "id": "cvSKIdaBYmA5"
      },
      "source": [
        "### Natürlicher Rechter äußerer Joint"
      ]
    },
    {
      "cell_type": "code",
      "metadata": {
        "colab": {
          "base_uri": "https://localhost:8080/",
          "height": 173
        },
        "id": "4IQ07NRaYr3l",
        "outputId": "9f51e8fa-187c-4439-f9e1-9dd2dcd83e9b"
      },
      "source": [
        "pd.merge(df_sud,df_list,how='right')"
      ],
      "execution_count": null,
      "outputs": [
        {
          "output_type": "execute_result",
          "data": {
            "text/html": [
              "<div>\n",
              "<style scoped>\n",
              "    .dataframe tbody tr th:only-of-type {\n",
              "        vertical-align: middle;\n",
              "    }\n",
              "\n",
              "    .dataframe tbody tr th {\n",
              "        vertical-align: top;\n",
              "    }\n",
              "\n",
              "    .dataframe thead th {\n",
              "        text-align: right;\n",
              "    }\n",
              "</style>\n",
              "<table border=\"1\" class=\"dataframe\">\n",
              "  <thead>\n",
              "    <tr style=\"text-align: right;\">\n",
              "      <th></th>\n",
              "      <th>MatrNr</th>\n",
              "      <th>Name</th>\n",
              "      <th>Semester</th>\n",
              "      <th>LectNr.</th>\n",
              "    </tr>\n",
              "  </thead>\n",
              "  <tbody>\n",
              "    <tr>\n",
              "      <th>0</th>\n",
              "      <td>26120</td>\n",
              "      <td>Fichte</td>\n",
              "      <td>10.0</td>\n",
              "      <td>5001</td>\n",
              "    </tr>\n",
              "    <tr>\n",
              "      <th>1</th>\n",
              "      <td>27550</td>\n",
              "      <td>Schopenhauer</td>\n",
              "      <td>6.0</td>\n",
              "      <td>5001</td>\n",
              "    </tr>\n",
              "    <tr>\n",
              "      <th>2</th>\n",
              "      <td>27550</td>\n",
              "      <td>Schopenhauer</td>\n",
              "      <td>6.0</td>\n",
              "      <td>4052</td>\n",
              "    </tr>\n",
              "    <tr>\n",
              "      <th>3</th>\n",
              "      <td>111</td>\n",
              "      <td>NaN</td>\n",
              "      <td>NaN</td>\n",
              "      <td>0</td>\n",
              "    </tr>\n",
              "  </tbody>\n",
              "</table>\n",
              "</div>"
            ],
            "text/plain": [
              "   MatrNr          Name  Semester  LectNr.\n",
              "0   26120        Fichte      10.0     5001\n",
              "1   27550  Schopenhauer       6.0     5001\n",
              "2   27550  Schopenhauer       6.0     4052\n",
              "3     111           NaN       NaN        0"
            ]
          },
          "metadata": {
            "tags": []
          },
          "execution_count": 75
        }
      ]
    },
    {
      "cell_type": "code",
      "metadata": {
        "colab": {
          "base_uri": "https://localhost:8080/",
          "height": 173
        },
        "id": "huWxJu4KY0NG",
        "outputId": "d6b326f0-333e-4ca5-9a9e-28584421c03a"
      },
      "source": [
        "pd.merge(df_sud,df_list,on='MatrNr', how='right') # Können auch die Verbindungsspalte spezifizieren"
      ],
      "execution_count": null,
      "outputs": [
        {
          "output_type": "execute_result",
          "data": {
            "text/html": [
              "<div>\n",
              "<style scoped>\n",
              "    .dataframe tbody tr th:only-of-type {\n",
              "        vertical-align: middle;\n",
              "    }\n",
              "\n",
              "    .dataframe tbody tr th {\n",
              "        vertical-align: top;\n",
              "    }\n",
              "\n",
              "    .dataframe thead th {\n",
              "        text-align: right;\n",
              "    }\n",
              "</style>\n",
              "<table border=\"1\" class=\"dataframe\">\n",
              "  <thead>\n",
              "    <tr style=\"text-align: right;\">\n",
              "      <th></th>\n",
              "      <th>MatrNr</th>\n",
              "      <th>Name</th>\n",
              "      <th>Semester</th>\n",
              "      <th>LectNr.</th>\n",
              "    </tr>\n",
              "  </thead>\n",
              "  <tbody>\n",
              "    <tr>\n",
              "      <th>0</th>\n",
              "      <td>26120</td>\n",
              "      <td>Fichte</td>\n",
              "      <td>10.0</td>\n",
              "      <td>5001</td>\n",
              "    </tr>\n",
              "    <tr>\n",
              "      <th>1</th>\n",
              "      <td>27550</td>\n",
              "      <td>Schopenhauer</td>\n",
              "      <td>6.0</td>\n",
              "      <td>5001</td>\n",
              "    </tr>\n",
              "    <tr>\n",
              "      <th>2</th>\n",
              "      <td>27550</td>\n",
              "      <td>Schopenhauer</td>\n",
              "      <td>6.0</td>\n",
              "      <td>4052</td>\n",
              "    </tr>\n",
              "    <tr>\n",
              "      <th>3</th>\n",
              "      <td>111</td>\n",
              "      <td>NaN</td>\n",
              "      <td>NaN</td>\n",
              "      <td>0</td>\n",
              "    </tr>\n",
              "  </tbody>\n",
              "</table>\n",
              "</div>"
            ],
            "text/plain": [
              "   MatrNr          Name  Semester  LectNr.\n",
              "0   26120        Fichte      10.0     5001\n",
              "1   27550  Schopenhauer       6.0     5001\n",
              "2   27550  Schopenhauer       6.0     4052\n",
              "3     111           NaN       NaN        0"
            ]
          },
          "metadata": {
            "tags": []
          },
          "execution_count": 50
        }
      ]
    },
    {
      "cell_type": "markdown",
      "metadata": {
        "id": "ClqxMkvPZoEX"
      },
      "source": [
        "### Äußerer Joint"
      ]
    },
    {
      "cell_type": "code",
      "metadata": {
        "colab": {
          "base_uri": "https://localhost:8080/",
          "height": 204
        },
        "id": "NmIEeUorZj2Y",
        "outputId": "e72802aa-6c2f-4d8a-bb35-94af21a3b743"
      },
      "source": [
        "pd.merge(df_sud,df_list,on='MatrNr', how='outer')"
      ],
      "execution_count": null,
      "outputs": [
        {
          "output_type": "execute_result",
          "data": {
            "text/html": [
              "<div>\n",
              "<style scoped>\n",
              "    .dataframe tbody tr th:only-of-type {\n",
              "        vertical-align: middle;\n",
              "    }\n",
              "\n",
              "    .dataframe tbody tr th {\n",
              "        vertical-align: top;\n",
              "    }\n",
              "\n",
              "    .dataframe thead th {\n",
              "        text-align: right;\n",
              "    }\n",
              "</style>\n",
              "<table border=\"1\" class=\"dataframe\">\n",
              "  <thead>\n",
              "    <tr style=\"text-align: right;\">\n",
              "      <th></th>\n",
              "      <th>MatrNr</th>\n",
              "      <th>Name</th>\n",
              "      <th>Semester</th>\n",
              "      <th>LectNr.</th>\n",
              "    </tr>\n",
              "  </thead>\n",
              "  <tbody>\n",
              "    <tr>\n",
              "      <th>0</th>\n",
              "      <td>26120</td>\n",
              "      <td>Fichte</td>\n",
              "      <td>10.0</td>\n",
              "      <td>5001.0</td>\n",
              "    </tr>\n",
              "    <tr>\n",
              "      <th>1</th>\n",
              "      <td>27550</td>\n",
              "      <td>Schopenhauer</td>\n",
              "      <td>6.0</td>\n",
              "      <td>5001.0</td>\n",
              "    </tr>\n",
              "    <tr>\n",
              "      <th>2</th>\n",
              "      <td>27550</td>\n",
              "      <td>Schopenhauer</td>\n",
              "      <td>6.0</td>\n",
              "      <td>4052.0</td>\n",
              "    </tr>\n",
              "    <tr>\n",
              "      <th>3</th>\n",
              "      <td>222</td>\n",
              "      <td>Unbekannt</td>\n",
              "      <td>-1.0</td>\n",
              "      <td>NaN</td>\n",
              "    </tr>\n",
              "    <tr>\n",
              "      <th>4</th>\n",
              "      <td>111</td>\n",
              "      <td>NaN</td>\n",
              "      <td>NaN</td>\n",
              "      <td>0.0</td>\n",
              "    </tr>\n",
              "  </tbody>\n",
              "</table>\n",
              "</div>"
            ],
            "text/plain": [
              "   MatrNr          Name  Semester  LectNr.\n",
              "0   26120        Fichte      10.0   5001.0\n",
              "1   27550  Schopenhauer       6.0   5001.0\n",
              "2   27550  Schopenhauer       6.0   4052.0\n",
              "3     222     Unbekannt      -1.0      NaN\n",
              "4     111           NaN       NaN      0.0"
            ]
          },
          "metadata": {
            "tags": []
          },
          "execution_count": 51
        }
      ]
    },
    {
      "cell_type": "markdown",
      "metadata": {
        "id": "i8T7C1RUbU_u"
      },
      "source": [
        "### Linker Semi-Join\n"
      ]
    },
    {
      "cell_type": "code",
      "metadata": {
        "colab": {
          "base_uri": "https://localhost:8080/",
          "height": 111
        },
        "id": "A_sGRvgKbX7w",
        "outputId": "2d3e704f-101d-40f2-c163-7e5ec663878b"
      },
      "source": [
        "semi = pd.merge(df_sud,df_list)\n",
        "#semi.loc[semi['MatrNr'].isin(df_sud['MatrNr'])]\n",
        "# get columns of other relation\n",
        "# take for right semi joint\n",
        "cols_other = df_list.columns\n",
        "\n",
        "# drop columns of other relation\n",
        "for c in cols_other:\n",
        "  if not c in df_sud:\n",
        "    semi = semi.drop([c], axis=1)\n",
        "# eliminate potential duplicates\n",
        "semi.drop_duplicates(inplace=True)\n",
        "semi"
      ],
      "execution_count": null,
      "outputs": [
        {
          "output_type": "execute_result",
          "data": {
            "text/html": [
              "<div>\n",
              "<style scoped>\n",
              "    .dataframe tbody tr th:only-of-type {\n",
              "        vertical-align: middle;\n",
              "    }\n",
              "\n",
              "    .dataframe tbody tr th {\n",
              "        vertical-align: top;\n",
              "    }\n",
              "\n",
              "    .dataframe thead th {\n",
              "        text-align: right;\n",
              "    }\n",
              "</style>\n",
              "<table border=\"1\" class=\"dataframe\">\n",
              "  <thead>\n",
              "    <tr style=\"text-align: right;\">\n",
              "      <th></th>\n",
              "      <th>MatrNr</th>\n",
              "      <th>Name</th>\n",
              "      <th>Semester</th>\n",
              "    </tr>\n",
              "  </thead>\n",
              "  <tbody>\n",
              "    <tr>\n",
              "      <th>0</th>\n",
              "      <td>26120</td>\n",
              "      <td>Fichte</td>\n",
              "      <td>10</td>\n",
              "    </tr>\n",
              "    <tr>\n",
              "      <th>1</th>\n",
              "      <td>27550</td>\n",
              "      <td>Schopenhauer</td>\n",
              "      <td>6</td>\n",
              "    </tr>\n",
              "  </tbody>\n",
              "</table>\n",
              "</div>"
            ],
            "text/plain": [
              "   MatrNr          Name  Semester\n",
              "0   26120        Fichte        10\n",
              "1   27550  Schopenhauer         6"
            ]
          },
          "metadata": {
            "tags": []
          },
          "execution_count": 67
        }
      ]
    },
    {
      "cell_type": "markdown",
      "metadata": {
        "id": "4DgrYD7R6exL"
      },
      "source": [
        "## Übung zu Pandas\n",
        "Nun wollen wir das gelernte anwenden. Als erstes möchten wir zwei Dataframes erstellen. Hierzu haben wir dir zwei CSV Dateien zur Verfügung gestellt.\n",
        "\n",
        "Alle Daten sind von folgender Website:\n",
        "[https://wetter.htw-berlin.de/Download](https://wetter.htw-berlin.de/Download)\n",
        "\n",
        "Die beiden Dateien sind:\n",
        "1. Temperature.csv: Dieser Datensatz enthällt die Temperatur zu Beginn jeder Woche von 2016-12-08 00:00:00 bis 2021-05-27 00:00:00. Die ersten beiden Zeilen sind Überschriften (Header) gefolgt von den eigentlichen Daten:\n",
        "\n",
        "```\n",
        "time,Ambient Temperature \n",
        "yyyy-mm-dd hh:mm:ss,°C\n",
        "2016-12-08 00:00:00,-19.43231169871795\n",
        "```\n",
        "\n",
        "2. Humidity.csv: Diese Daten sind sehr ähnlich aufgebaut, enthalten jedoch statt der Temperatur die Luftfeuchtigkeit in %.\n",
        "\n",
        "```\n",
        "time,Relative Humidity\n",
        "yyyy-mm-dd hh:mm:ss,%\n",
        "2016-12-08 00:00:00,29.870362580128205\n",
        "```\n",
        "AUFGABE:\n",
        "\n",
        "Lade als erstes die Daten in jeweils einen Dataframe. Denke daran die skiprows zu setzten `skiprows=` um den Header nicht mit den Daten zu vermischen. Der Pfad ist der folgende:\n",
        "* Humidity: Humidity.csv\n",
        "* Temperature: Temperature.csv\n",
        "\n",
        "Gebe den Dataframes auch Spaltennamen wie date, hum, temp. Benutze hierzu den Parameter `names=[\"name1\", ..]`\n",
        "\n",
        "Tipp: Benenne die Datumsspalte gleich, das wird das Verbinden der Dataframes leichter machen. [Doku](https://pandas.pydata.org/pandas-docs/stable/reference/api/pandas.read_csv.html)"
      ]
    },
    {
      "cell_type": "code",
      "metadata": {
        "id": "FzHUrVxfGx41",
        "colab": {
          "base_uri": "https://localhost:8080/",
          "height": 204
        },
        "outputId": "cea7c1a2-605e-4abe-97d3-86b4f680fcfe"
      },
      "source": [
        "df_hum = pd.read_csv('Humidity.csv', skiprows=2, names=['date', 'hum'])  \n",
        "df_temp = pd.read_csv('Temperature.csv', skiprows=2, names=['date', 'temp']) \n",
        "df_temp.head()"
      ],
      "execution_count": null,
      "outputs": [
        {
          "output_type": "execute_result",
          "data": {
            "text/html": [
              "<div>\n",
              "<style scoped>\n",
              "    .dataframe tbody tr th:only-of-type {\n",
              "        vertical-align: middle;\n",
              "    }\n",
              "\n",
              "    .dataframe tbody tr th {\n",
              "        vertical-align: top;\n",
              "    }\n",
              "\n",
              "    .dataframe thead th {\n",
              "        text-align: right;\n",
              "    }\n",
              "</style>\n",
              "<table border=\"1\" class=\"dataframe\">\n",
              "  <thead>\n",
              "    <tr style=\"text-align: right;\">\n",
              "      <th></th>\n",
              "      <th>date</th>\n",
              "      <th>temp</th>\n",
              "    </tr>\n",
              "  </thead>\n",
              "  <tbody>\n",
              "    <tr>\n",
              "      <th>0</th>\n",
              "      <td>2016-12-08 00:00:00</td>\n",
              "      <td>-19.432312</td>\n",
              "    </tr>\n",
              "    <tr>\n",
              "      <th>1</th>\n",
              "      <td>2016-12-15 00:00:00</td>\n",
              "      <td>2.461716</td>\n",
              "    </tr>\n",
              "    <tr>\n",
              "      <th>2</th>\n",
              "      <td>2016-12-22 00:00:00</td>\n",
              "      <td>6.566069</td>\n",
              "    </tr>\n",
              "    <tr>\n",
              "      <th>3</th>\n",
              "      <td>2016-12-29 00:00:00</td>\n",
              "      <td>1.875387</td>\n",
              "    </tr>\n",
              "    <tr>\n",
              "      <th>4</th>\n",
              "      <td>2017-01-05 00:00:00</td>\n",
              "      <td>-3.206540</td>\n",
              "    </tr>\n",
              "  </tbody>\n",
              "</table>\n",
              "</div>"
            ],
            "text/plain": [
              "                  date       temp\n",
              "0  2016-12-08 00:00:00 -19.432312\n",
              "1  2016-12-15 00:00:00   2.461716\n",
              "2  2016-12-22 00:00:00   6.566069\n",
              "3  2016-12-29 00:00:00   1.875387\n",
              "4  2017-01-05 00:00:00  -3.206540"
            ]
          },
          "metadata": {
            "tags": []
          },
          "execution_count": 102
        }
      ]
    },
    {
      "cell_type": "markdown",
      "metadata": {
        "id": "tAIxicTLIw8j"
      },
      "source": [
        "Nun möchten wir diese beiden Datensätze verbinden. Das Attribut über die wir die beiden Tabellen zu einer verbinden ist das Datum, da es bei beiden Tabellen gleich ist sowie eindeutig jeden Datensatz beschreibt.\n",
        "\n",
        "Erstelle einen neuen Dataframe mit den drei `Spalten Datum|Temperatur|Luftfeuchtigkeit`.\n",
        "\n",
        "Tipp: Benutze hierzu die Funktion `pd.merge`. [Doku](https://pandas.pydata.org/pandas-docs/stable/reference/api/pandas.DataFrame.merge.html)"
      ]
    },
    {
      "cell_type": "code",
      "metadata": {
        "colab": {
          "base_uri": "https://localhost:8080/",
          "height": 204
        },
        "id": "OROlq_4XI3Qg",
        "outputId": "70b5b327-9fc9-417d-f39b-fab4a57af61d"
      },
      "source": [
        "weather = pd.merge(df_temp,df_hum,on='date')\n",
        "weather.head()\n"
      ],
      "execution_count": null,
      "outputs": [
        {
          "output_type": "execute_result",
          "data": {
            "text/html": [
              "<div>\n",
              "<style scoped>\n",
              "    .dataframe tbody tr th:only-of-type {\n",
              "        vertical-align: middle;\n",
              "    }\n",
              "\n",
              "    .dataframe tbody tr th {\n",
              "        vertical-align: top;\n",
              "    }\n",
              "\n",
              "    .dataframe thead th {\n",
              "        text-align: right;\n",
              "    }\n",
              "</style>\n",
              "<table border=\"1\" class=\"dataframe\">\n",
              "  <thead>\n",
              "    <tr style=\"text-align: right;\">\n",
              "      <th></th>\n",
              "      <th>date</th>\n",
              "      <th>temp</th>\n",
              "      <th>hum</th>\n",
              "    </tr>\n",
              "  </thead>\n",
              "  <tbody>\n",
              "    <tr>\n",
              "      <th>0</th>\n",
              "      <td>2016-12-08 00:00:00</td>\n",
              "      <td>-19.432312</td>\n",
              "      <td>29.870363</td>\n",
              "    </tr>\n",
              "    <tr>\n",
              "      <th>1</th>\n",
              "      <td>2016-12-15 00:00:00</td>\n",
              "      <td>2.461716</td>\n",
              "      <td>90.193641</td>\n",
              "    </tr>\n",
              "    <tr>\n",
              "      <th>2</th>\n",
              "      <td>2016-12-22 00:00:00</td>\n",
              "      <td>6.566069</td>\n",
              "      <td>85.620861</td>\n",
              "    </tr>\n",
              "    <tr>\n",
              "      <th>3</th>\n",
              "      <td>2016-12-29 00:00:00</td>\n",
              "      <td>1.875387</td>\n",
              "      <td>89.362004</td>\n",
              "    </tr>\n",
              "    <tr>\n",
              "      <th>4</th>\n",
              "      <td>2017-01-05 00:00:00</td>\n",
              "      <td>-3.206540</td>\n",
              "      <td>84.545522</td>\n",
              "    </tr>\n",
              "  </tbody>\n",
              "</table>\n",
              "</div>"
            ],
            "text/plain": [
              "                  date       temp        hum\n",
              "0  2016-12-08 00:00:00 -19.432312  29.870363\n",
              "1  2016-12-15 00:00:00   2.461716  90.193641\n",
              "2  2016-12-22 00:00:00   6.566069  85.620861\n",
              "3  2016-12-29 00:00:00   1.875387  89.362004\n",
              "4  2017-01-05 00:00:00  -3.206540  84.545522"
            ]
          },
          "metadata": {
            "tags": []
          },
          "execution_count": 103
        }
      ]
    },
    {
      "cell_type": "markdown",
      "metadata": {
        "id": "qBj0iq2AGA58"
      },
      "source": [
        "Der Einfachheit halter wollen wir nur volle Jahre betrachten. Dies macht später das Filtern einfacher. Lösche dazu alle Daten die vor dem 01.01.2017 sind sowie nach dem 31.12.2020. Fällt dir ein Problem mit einem Datentypen auf? Benutze die Funktion drop zum Löschen von Zeilen: [Doku](https://pandas.pydata.org/pandas-docs/stable/reference/api/pandas.DataFrame.drop.html)\n",
        "\n",
        "Tipp: \n",
        "1. Finde zuerst alle Indexe, die gelöscht werden müssen, ertelle eine Liste dessen und lösche sie.\n",
        "2. Es können die Parameter `labels=indexe` und `axis=0` (Zeilen) verwendet werden."
      ]
    },
    {
      "cell_type": "code",
      "metadata": {
        "colab": {
          "base_uri": "https://localhost:8080/",
          "height": 222
        },
        "id": "7E1k2lYdJHXN",
        "outputId": "31d7ca0a-074f-4e3a-c7c7-e11c99faf16d"
      },
      "source": [
        "# total dataframe has 233 rows (01.01.2021 - 27.05.2021 are 20 weeks)\n",
        "# check\n",
        "print(weather['date'][233-20]) # first week of 2021\n",
        "indx = [i for i in range(233, 233-21, -1)]\n",
        "indx.extend([0,1,2,3])\n",
        "weather = weather.drop(labels=indx, axis=0)\n",
        "# reindex to start at 0 again\n",
        "weather.index = [i for i in range(len(weather['date']))]\n",
        "weather.head()"
      ],
      "execution_count": null,
      "outputs": [
        {
          "output_type": "stream",
          "text": [
            "2021-01-07 00:00:00\n"
          ],
          "name": "stdout"
        },
        {
          "output_type": "execute_result",
          "data": {
            "text/html": [
              "<div>\n",
              "<style scoped>\n",
              "    .dataframe tbody tr th:only-of-type {\n",
              "        vertical-align: middle;\n",
              "    }\n",
              "\n",
              "    .dataframe tbody tr th {\n",
              "        vertical-align: top;\n",
              "    }\n",
              "\n",
              "    .dataframe thead th {\n",
              "        text-align: right;\n",
              "    }\n",
              "</style>\n",
              "<table border=\"1\" class=\"dataframe\">\n",
              "  <thead>\n",
              "    <tr style=\"text-align: right;\">\n",
              "      <th></th>\n",
              "      <th>date</th>\n",
              "      <th>temp</th>\n",
              "      <th>hum</th>\n",
              "    </tr>\n",
              "  </thead>\n",
              "  <tbody>\n",
              "    <tr>\n",
              "      <th>0</th>\n",
              "      <td>2017-01-05 00:00:00</td>\n",
              "      <td>-3.206540</td>\n",
              "      <td>84.545522</td>\n",
              "    </tr>\n",
              "    <tr>\n",
              "      <th>1</th>\n",
              "      <td>2017-01-12 00:00:00</td>\n",
              "      <td>0.004206</td>\n",
              "      <td>89.050605</td>\n",
              "    </tr>\n",
              "    <tr>\n",
              "      <th>2</th>\n",
              "      <td>2017-01-19 00:00:00</td>\n",
              "      <td>-0.364067</td>\n",
              "      <td>92.611538</td>\n",
              "    </tr>\n",
              "    <tr>\n",
              "      <th>3</th>\n",
              "      <td>2017-01-26 00:00:00</td>\n",
              "      <td>0.399752</td>\n",
              "      <td>80.030575</td>\n",
              "    </tr>\n",
              "    <tr>\n",
              "      <th>4</th>\n",
              "      <td>2017-02-02 00:00:00</td>\n",
              "      <td>0.331429</td>\n",
              "      <td>87.416002</td>\n",
              "    </tr>\n",
              "  </tbody>\n",
              "</table>\n",
              "</div>"
            ],
            "text/plain": [
              "                  date      temp        hum\n",
              "0  2017-01-05 00:00:00 -3.206540  84.545522\n",
              "1  2017-01-12 00:00:00  0.004206  89.050605\n",
              "2  2017-01-19 00:00:00 -0.364067  92.611538\n",
              "3  2017-01-26 00:00:00  0.399752  80.030575\n",
              "4  2017-02-02 00:00:00  0.331429  87.416002"
            ]
          },
          "metadata": {
            "tags": []
          },
          "execution_count": 90
        }
      ]
    },
    {
      "cell_type": "markdown",
      "metadata": {
        "id": "wF4y2pEnJ5A7"
      },
      "source": [
        "Uns ist ein Fehler in den Daten unterlaufen, am 21.12.2017 waren es ein Grad wärmer als es in der Datei angegebn ist. Korrigiere diesen Fehler.\n",
        "\n",
        "Tipp: Um den Index eines Elementes zu finden kann dies helfen: [kite.com](https://www.kite.com/python/answers/how-to-get-the-indices-of-rows-in-a-pandas-dataframe-which-satisfy-a-given-condition-in-python)\n",
        "\n",
        "Falls eine Warnung erschein, schaue dir diese Webseite an: [Doku](https://pandas.pydata.org/pandas-docs/stable/user_guide/indexing.html#returning-a-view-versus-a-copy)"
      ]
    },
    {
      "cell_type": "code",
      "metadata": {
        "colab": {
          "base_uri": "https://localhost:8080/"
        },
        "id": "usHIQkGmKHCp",
        "outputId": "d9c29044-7b48-41ff-c58c-12014239f584"
      },
      "source": [
        "# find index of date\n",
        "condition = weather[\"date\"] == '2017-12-21 00:00:00'\n",
        "indx = weather.index[condition][0]\n",
        "\n",
        "# add one to the temperature\n",
        "weather.loc[indx, 'temp'] += 1\n",
        "weather['temp'][indx]"
      ],
      "execution_count": null,
      "outputs": [
        {
          "output_type": "execute_result",
          "data": {
            "text/plain": [
              "6.500902777777778"
            ]
          },
          "metadata": {
            "tags": []
          },
          "execution_count": 91
        }
      ]
    },
    {
      "cell_type": "markdown",
      "metadata": {
        "id": "BV-ukG0DJHm4"
      },
      "source": [
        "Auch wenn 4 Jahre sehr warscheinlich nicht statistisch relevant genug sind, um Rückschlüsse auf das Klima zu ziehen, wollen wir uns anschauen, wann die wärmsten Monate waren. Beginne diese Analyse indem du einen Dataframe erstellst, der jeweils den Mittelwert der Temperatur als auch den Mittelwert der Luftfeuchtigkeit für alle 4 Wochen abspeichert (ca. 1 Monat). Als Datum soll immer die Erste Woche genommen werden."
      ]
    },
    {
      "cell_type": "code",
      "metadata": {
        "colab": {
          "base_uri": "https://localhost:8080/",
          "height": 204
        },
        "id": "8GxL6PUyKpzV",
        "outputId": "5122f48d-e7fa-42ae-d6d2-b9fe48ea00c6"
      },
      "source": [
        "# create means\n",
        "means_t = []\n",
        "means_h = []\n",
        "date = []\n",
        "for i in range(0, len(weather['temp'])-4, 4):\n",
        "  means_t.append(np.mean([weather['temp'][i+off] for off in range(4)]))\n",
        "  means_h.append(np.mean([weather['temp'][i+off] for off in range(4)]))\n",
        "  date.append(weather['date'][i])\n",
        "\n",
        "# create cols array because pandas wants it in a weird way\n",
        "data = [[date[i], means_t[i], means_h[i]] for i in range(len(date))]\n",
        "\n",
        "# create Dataframe\n",
        "mean_df = pd.DataFrame(data, columns=['date', 'temp', 'hum'])\n",
        "mean_df.head()"
      ],
      "execution_count": null,
      "outputs": [
        {
          "output_type": "execute_result",
          "data": {
            "text/html": [
              "<div>\n",
              "<style scoped>\n",
              "    .dataframe tbody tr th:only-of-type {\n",
              "        vertical-align: middle;\n",
              "    }\n",
              "\n",
              "    .dataframe tbody tr th {\n",
              "        vertical-align: top;\n",
              "    }\n",
              "\n",
              "    .dataframe thead th {\n",
              "        text-align: right;\n",
              "    }\n",
              "</style>\n",
              "<table border=\"1\" class=\"dataframe\">\n",
              "  <thead>\n",
              "    <tr style=\"text-align: right;\">\n",
              "      <th></th>\n",
              "      <th>date</th>\n",
              "      <th>temp</th>\n",
              "      <th>hum</th>\n",
              "    </tr>\n",
              "  </thead>\n",
              "  <tbody>\n",
              "    <tr>\n",
              "      <th>0</th>\n",
              "      <td>2017-01-05 00:00:00</td>\n",
              "      <td>-0.791662</td>\n",
              "      <td>-0.791662</td>\n",
              "    </tr>\n",
              "    <tr>\n",
              "      <th>1</th>\n",
              "      <td>2017-02-02 00:00:00</td>\n",
              "      <td>2.933003</td>\n",
              "      <td>2.933003</td>\n",
              "    </tr>\n",
              "    <tr>\n",
              "      <th>2</th>\n",
              "      <td>2017-03-02 00:00:00</td>\n",
              "      <td>7.957874</td>\n",
              "      <td>7.957874</td>\n",
              "    </tr>\n",
              "    <tr>\n",
              "      <th>3</th>\n",
              "      <td>2017-03-30 00:00:00</td>\n",
              "      <td>9.538013</td>\n",
              "      <td>9.538013</td>\n",
              "    </tr>\n",
              "    <tr>\n",
              "      <th>4</th>\n",
              "      <td>2017-04-27 00:00:00</td>\n",
              "      <td>13.793388</td>\n",
              "      <td>13.793388</td>\n",
              "    </tr>\n",
              "  </tbody>\n",
              "</table>\n",
              "</div>"
            ],
            "text/plain": [
              "                  date       temp        hum\n",
              "0  2017-01-05 00:00:00  -0.791662  -0.791662\n",
              "1  2017-02-02 00:00:00   2.933003   2.933003\n",
              "2  2017-03-02 00:00:00   7.957874   7.957874\n",
              "3  2017-03-30 00:00:00   9.538013   9.538013\n",
              "4  2017-04-27 00:00:00  13.793388  13.793388"
            ]
          },
          "metadata": {
            "tags": []
          },
          "execution_count": 110
        }
      ]
    },
    {
      "cell_type": "markdown",
      "metadata": {
        "id": "z7IWTSujKp_B"
      },
      "source": [
        "Erstelle nun einen Dataframe, der aus dreizehn Zeilen besteht und für jede Zeile das Jahr abspeichert, in dem der Monat am wärmsten war und in dem die Luftfeuchtigkeit am höchsten war. Auch wenn es performanter ist, erst ein Array mit all den Daten zu erstellen und daraus dann ein Dataframe zu erstellen, wollen wir hier zur Übung den Dataframe mit dem ersten Datensatz initialisieren und dannach mit jeweils einer Zeile ergänzen. Benutze hierzu: `max_df.loc[i] = data` wobei data ein Array mit den Werten ist.\n",
        "\n",
        "\n",
        "\n",
        "Tipps: \n",
        "* Um jede n-te Zeile zu bekommen benutze Modulo. \n",
        "* `.idxmax()` gibt den index des maximalen Wertes zurück\n",
        "* `.split('-')` an einem String könnte behilflich sein, das Jahr zu erhalten\n",
        "* Ein leerer Dataframe kann mit `pd.DataFrame(columns=[...])` erstellt werden."
      ]
    },
    {
      "cell_type": "code",
      "metadata": {
        "colab": {
          "base_uri": "https://localhost:8080/",
          "height": 421
        },
        "id": "Wf0TokjhLCue",
        "outputId": "745c2e53-ef1d-4f43-8b8e-d385a349fa0e"
      },
      "source": [
        "# init empy\n",
        "max_df = pd.DataFrame(columns=['date', 'temp', 'hum'])\n",
        "# append the rest\n",
        "for i in range(1, 13):\n",
        "  idx_t = mean_df[mean_df.index % 13 == i]['temp'].idxmax()\n",
        "  idx_h = mean_df[mean_df.index % 13 == i]['hum'].idxmax()\n",
        "  # get year\n",
        "  y_t = int(mean_df['date'][idx_t].split('-')[0])\n",
        "  y_h = int(mean_df['date'][idx_h].split('-')[0])\n",
        "  data = [mean_df['date'][i], y_t, y_h]\n",
        "  max_df.loc[i] = data\n",
        "max_df"
      ],
      "execution_count": null,
      "outputs": [
        {
          "output_type": "execute_result",
          "data": {
            "text/html": [
              "<div>\n",
              "<style scoped>\n",
              "    .dataframe tbody tr th:only-of-type {\n",
              "        vertical-align: middle;\n",
              "    }\n",
              "\n",
              "    .dataframe tbody tr th {\n",
              "        vertical-align: top;\n",
              "    }\n",
              "\n",
              "    .dataframe thead th {\n",
              "        text-align: right;\n",
              "    }\n",
              "</style>\n",
              "<table border=\"1\" class=\"dataframe\">\n",
              "  <thead>\n",
              "    <tr style=\"text-align: right;\">\n",
              "      <th></th>\n",
              "      <th>date</th>\n",
              "      <th>temp</th>\n",
              "      <th>hum</th>\n",
              "    </tr>\n",
              "  </thead>\n",
              "  <tbody>\n",
              "    <tr>\n",
              "      <th>1</th>\n",
              "      <td>2017-02-02 00:00:00</td>\n",
              "      <td>2020</td>\n",
              "      <td>2020</td>\n",
              "    </tr>\n",
              "    <tr>\n",
              "      <th>2</th>\n",
              "      <td>2017-03-02 00:00:00</td>\n",
              "      <td>2017</td>\n",
              "      <td>2017</td>\n",
              "    </tr>\n",
              "    <tr>\n",
              "      <th>3</th>\n",
              "      <td>2017-03-30 00:00:00</td>\n",
              "      <td>2018</td>\n",
              "      <td>2018</td>\n",
              "    </tr>\n",
              "    <tr>\n",
              "      <th>4</th>\n",
              "      <td>2017-04-27 00:00:00</td>\n",
              "      <td>2018</td>\n",
              "      <td>2018</td>\n",
              "    </tr>\n",
              "    <tr>\n",
              "      <th>5</th>\n",
              "      <td>2017-05-25 00:00:00</td>\n",
              "      <td>2018</td>\n",
              "      <td>2018</td>\n",
              "    </tr>\n",
              "    <tr>\n",
              "      <th>6</th>\n",
              "      <td>2017-06-22 00:00:00</td>\n",
              "      <td>2019</td>\n",
              "      <td>2019</td>\n",
              "    </tr>\n",
              "    <tr>\n",
              "      <th>7</th>\n",
              "      <td>2017-07-20 00:00:00</td>\n",
              "      <td>2018</td>\n",
              "      <td>2018</td>\n",
              "    </tr>\n",
              "    <tr>\n",
              "      <th>8</th>\n",
              "      <td>2017-08-17 00:00:00</td>\n",
              "      <td>2019</td>\n",
              "      <td>2019</td>\n",
              "    </tr>\n",
              "    <tr>\n",
              "      <th>9</th>\n",
              "      <td>2017-09-14 00:00:00</td>\n",
              "      <td>2020</td>\n",
              "      <td>2020</td>\n",
              "    </tr>\n",
              "    <tr>\n",
              "      <th>10</th>\n",
              "      <td>2017-10-12 00:00:00</td>\n",
              "      <td>2019</td>\n",
              "      <td>2019</td>\n",
              "    </tr>\n",
              "    <tr>\n",
              "      <th>11</th>\n",
              "      <td>2017-11-09 00:00:00</td>\n",
              "      <td>2020</td>\n",
              "      <td>2020</td>\n",
              "    </tr>\n",
              "    <tr>\n",
              "      <th>12</th>\n",
              "      <td>2017-12-07 00:00:00</td>\n",
              "      <td>2018</td>\n",
              "      <td>2018</td>\n",
              "    </tr>\n",
              "  </tbody>\n",
              "</table>\n",
              "</div>"
            ],
            "text/plain": [
              "                   date  temp   hum\n",
              "1   2017-02-02 00:00:00  2020  2020\n",
              "2   2017-03-02 00:00:00  2017  2017\n",
              "3   2017-03-30 00:00:00  2018  2018\n",
              "4   2017-04-27 00:00:00  2018  2018\n",
              "5   2017-05-25 00:00:00  2018  2018\n",
              "6   2017-06-22 00:00:00  2019  2019\n",
              "7   2017-07-20 00:00:00  2018  2018\n",
              "8   2017-08-17 00:00:00  2019  2019\n",
              "9   2017-09-14 00:00:00  2020  2020\n",
              "10  2017-10-12 00:00:00  2019  2019\n",
              "11  2017-11-09 00:00:00  2020  2020\n",
              "12  2017-12-07 00:00:00  2018  2018"
            ]
          },
          "metadata": {
            "tags": []
          },
          "execution_count": 134
        }
      ]
    },
    {
      "cell_type": "markdown",
      "metadata": {
        "id": "yDMNqE8ef-ux"
      },
      "source": [
        "Abschließend wollen wir nun noch zählen wie oft jedes Jahr vorkommt.\n",
        "Tipp: [How to let pandas do the work ;)](https://pandas.pydata.org/pandas-docs/stable/reference/api/pandas.Series.value_counts.html)"
      ]
    },
    {
      "cell_type": "code",
      "metadata": {
        "colab": {
          "base_uri": "https://localhost:8080/"
        },
        "id": "KPW2nATEgN0k",
        "outputId": "bfd18d32-eace-4b4d-a148-868b4fd2181a"
      },
      "source": [
        "occ_temp = max_df['temp'].value_counts()\n",
        "occ_hum = max_df['hum'].value_counts()\n",
        "print(occ_temp)\n",
        "print(occ_hum)"
      ],
      "execution_count": null,
      "outputs": [
        {
          "output_type": "stream",
          "text": [
            "2018    5\n",
            "2020    3\n",
            "2019    3\n",
            "2017    1\n",
            "Name: temp, dtype: int64\n",
            "2018    5\n",
            "2020    3\n",
            "2019    3\n",
            "2017    1\n",
            "Name: hum, dtype: int64\n"
          ],
          "name": "stdout"
        }
      ]
    },
    {
      "cell_type": "markdown",
      "metadata": {
        "id": "Pxs5jMBjrSTB"
      },
      "source": [
        "# Matplotlib"
      ]
    },
    {
      "cell_type": "markdown",
      "metadata": {
        "id": "s1-2lStU3gPs"
      },
      "source": [
        "Matplotlib ist eine library fürs Erstellen von Visualisierungen in Python. Vor allem ist es nützlich fürs Erstellen von Grafiken.\n",
        "\n",
        "Grundsätzlich arbeitet man mit den Funktionen aus matplotlib.pyplot "
      ]
    },
    {
      "cell_type": "code",
      "metadata": {
        "id": "6M9HHPzArVK4"
      },
      "source": [
        "import matplotlib.pyplot as plt"
      ],
      "execution_count": 2,
      "outputs": []
    },
    {
      "cell_type": "markdown",
      "metadata": {
        "id": "7fSFRXYv3n4g"
      },
      "source": [
        "Hierarchie der Objekte\n",
        "\n",
        "![](https://files.realpython.com/media/fig_map.bc8c7cabd823.png)\n",
        "\n",
        "\"Figure\" ist der äußerste Container für eine matplotlib Graphik. Diese kann eins oder mehrere Axes Objekte beinhalten. \n",
        "\n",
        "Eine mögliche Quelle der Verwirrung ist der Begriff \"Axes\". \n",
        "Was damit gemeint ist, ist eine Grafik, nicht nur die X und Y Axen.\n",
        "\n",
        "Hier ist ein Bespiel für eine \"Figure\" mit 2 \"Axes\".\n",
        "\n",
        "![](https://files.realpython.com/media/twosubplot.e76bf825d7a2.png)\n",
        "\n"
      ]
    },
    {
      "cell_type": "markdown",
      "metadata": {
        "id": "A_MqzxGZ7938"
      },
      "source": [
        "## Einfache Figure: Linie\n",
        "\n",
        "Erste Liste: X axis  \n",
        "Zweite Liste: Y axis\n",
        "\n",
        "plt.show() braucht ihr hier in google colab notebook nocht zwangsläufig, aber diese wird in einer .py Datei benötigt um eure Grafik tatsächlich zu darstellen."
      ]
    },
    {
      "cell_type": "code",
      "metadata": {
        "colab": {
          "base_uri": "https://localhost:8080/",
          "height": 265
        },
        "id": "IiZD1kJA8UzW",
        "outputId": "f7525184-a8cd-46f1-ac49-19d8547387ec"
      },
      "source": [
        "plt.plot([1, 2, 3, 4], [1, 4, 9, 16])\n",
        "plt.show()"
      ],
      "execution_count": 4,
      "outputs": [
        {
          "output_type": "display_data",
          "data": {
            "image/png": "[encoded data removed]",
            "text/plain": [
              "<Figure size 432x288 with 1 Axes>"
            ]
          },
          "metadata": {
            "tags": [],
            "needs_background": "light"
          }
        }
      ]
    },
    {
      "cell_type": "markdown",
      "metadata": {
        "id": "Y0nzOO8h948P"
      },
      "source": [
        "Eigentlich geht es noch einfacher:\n",
        "wenn du nur eine Liste eingibts, diese wird als Y Axe interpretiert.   \n",
        "Die X Axe wird automatisch generiert (einfach aufeinanderfolgende Zahlen, angefangen mit 0)"
      ]
    },
    {
      "cell_type": "code",
      "metadata": {
        "colab": {
          "base_uri": "https://localhost:8080/",
          "height": 265
        },
        "id": "ybqB6Brj98A9",
        "outputId": "1d46d4ac-a323-40b7-dc0c-5c9c4c86da5f"
      },
      "source": [
        "plt.plot([1, 2, 3, 4, 5, 6])\n",
        "plt.show()"
      ],
      "execution_count": 5,
      "outputs": [
        {
          "output_type": "display_data",
          "data": {
            "image/png": "[encoded data removed]",
            "text/plain": [
              "<Figure size 432x288 with 1 Axes>"
            ]
          },
          "metadata": {
            "tags": [],
            "needs_background": "light"
          }
        }
      ]
    },
    {
      "cell_type": "markdown",
      "metadata": {
        "id": "77mQ8A-moEdB"
      },
      "source": [
        "Was hier zu beachten ist: Normalerweise gibt man die X und Y Arrays an. Diese müssen gleich groß sein"
      ]
    },
    {
      "cell_type": "markdown",
      "metadata": {
        "id": "RsoTJZ94oiuY"
      },
      "source": [
        "Nun erstelle einen graph für die Wahlbeteilugung, der darstellt in welchem "
      ]
    },
    {
      "cell_type": "code",
      "metadata": {
        "id": "_BjPBJDeohaV"
      },
      "source": [
        "# Falls der Kerner inzwischen neugestartet ist\n",
        "data = np.genfromtxt('wahlbeteiligung.csv', delimiter=',', skip_header=1)\n",
        "voter_turnout = data[:,1]\n",
        "election_year = data[:,0]"
      ],
      "execution_count": 6,
      "outputs": []
    },
    {
      "cell_type": "code",
      "metadata": {
        "id": "pcW6FVy7rDEn"
      },
      "source": [
        "# //// dein code"
      ],
      "execution_count": 48,
      "outputs": []
    },
    {
      "cell_type": "markdown",
      "metadata": {
        "id": "4hV7NAyE_lq9"
      },
      "source": [
        "## Titel, Legende, Art der Markierung"
      ]
    },
    {
      "cell_type": "markdown",
      "metadata": {
        "id": "pAwPHiOU--lP"
      },
      "source": [
        "Und jetzt können wir unser Graph besser machen, indem wir immer mehr Details spezifizieren."
      ]
    },
    {
      "cell_type": "markdown",
      "metadata": {
        "id": "MN7xExqU5NUE"
      },
      "source": [
        "\n",
        "![](https://files.realpython.com/media/anatomy.7d033ebbfbc8.png)"
      ]
    },
    {
      "cell_type": "code",
      "metadata": {
        "colab": {
          "base_uri": "https://localhost:8080/",
          "height": 295
        },
        "id": "xjwCVRms3m9d",
        "outputId": "c3fb5612-2e10-413b-bd25-17d7913dac6c"
      },
      "source": [
        "# Titel, Labels\n",
        "plt.plot(election_year, voter_turnout)\n",
        "plt.title('Wahlbeteiligung')\n",
        "plt.xlabel('Jahr')\n",
        "plt.ylabel('Beteiligung')\n",
        "plt.show()"
      ],
      "execution_count": 8,
      "outputs": [
        {
          "output_type": "display_data",
          "data": {
            "image/png": "[encoded data removed]",
            "text/plain": [
              "<Figure size 432x288 with 1 Axes>"
            ]
          },
          "metadata": {
            "tags": [],
            "needs_background": "light"
          }
        }
      ]
    },
    {
      "cell_type": "markdown",
      "metadata": {
        "id": "CMYJT-rwGRwI"
      },
      "source": [
        "Wir wir sehen können, es werden verschiedene Zustände über Funktionsaufrufe hinweg beibehalten.   \n",
        "Grafikfunktionen werden auf dei aktuelle Grafik ausgerichtet"
      ]
    },
    {
      "cell_type": "markdown",
      "metadata": {
        "id": "VSpB0MgKHOuF"
      },
      "source": [
        "Was wir jetzt machen können ist die Größe der Graphik zu verändern. Dafür verwenden wir die Methode `figure()` mit dem Parameter `figsize`.  \n",
        "Probiert unterschiedliche Größen aus. Die erst Zahl ist die Breite und die zweite ist die Höhe."
      ]
    },
    {
      "cell_type": "code",
      "metadata": {
        "colab": {
          "base_uri": "https://localhost:8080/",
          "height": 320
        },
        "id": "WtWbbds1HNvA",
        "outputId": "e07365ae-7780-4af8-e823-f7d91e0a9bb9"
      },
      "source": [
        "plt.figure(figsize=(15,5))  # //// deine Veränderungen\n",
        "plt.plot(election_year, voter_turnout)\n",
        "plt.show()"
      ],
      "execution_count": 9,
      "outputs": [
        {
          "output_type": "display_data",
          "data": {
            "image/png": "[encoded data removed]",
            "text/plain": [
              "<Figure size 1080x360 with 1 Axes>"
            ]
          },
          "metadata": {
            "tags": [],
            "needs_background": "light"
          }
        }
      ]
    },
    {
      "cell_type": "code",
      "metadata": {
        "id": "d0r_8ZKTKMMv"
      },
      "source": [
        "# Lass uns election_year als x und voter_turnout als y speichern\n",
        "x,y = election_year, voter_turnout"
      ],
      "execution_count": 10,
      "outputs": []
    },
    {
      "cell_type": "markdown",
      "metadata": {
        "id": "sdvxhNgUKB9j"
      },
      "source": [
        "Ihr könnt die Form der Markierungen, die Art der Linie sowie die Farbe verändern, in dem ihr ein drittes Parameter in die `plt.plot` Methode übergibt.   \n",
        "\n",
        "Es können auch z.B. rote Punkte statt einer Linie sein.\n",
        "Oder auch magenta Sternchen. \n"
      ]
    },
    {
      "cell_type": "code",
      "metadata": {
        "colab": {
          "base_uri": "https://localhost:8080/",
          "height": 295
        },
        "id": "NeSeglEVAbAD",
        "outputId": "f2f2434a-72e4-4e72-8427-98a1ceb7f952"
      },
      "source": [
        "plt.plot(x,y, 'ro')   # 'gs' green squares, 'm*' magenta star\n",
        "plt.title('Wahlbeteiligung')\n",
        "plt.xlabel('Jahr')\n",
        "plt.ylabel('Beteiligung')\n",
        "plt.show()"
      ],
      "execution_count": 11,
      "outputs": [
        {
          "output_type": "display_data",
          "data": {
            "image/png": "[encoded data removed]",
            "text/plain": [
              "<Figure size 432x288 with 1 Axes>"
            ]
          },
          "metadata": {
            "tags": [],
            "needs_background": "light"
          }
        }
      ]
    },
    {
      "cell_type": "markdown",
      "metadata": {
        "id": "piBNI5VWQR_2"
      },
      "source": [
        "Der Parameter besteht aus 3 Komponenten `[marker][line][color]`. Alle 3 sind optional. \n",
        "\n",
        "Der Standard ist eine blaue Linie, die mit `-b` bezeichnet wird. Hier steht das `b` für blau und das `-` für Linie. Die Art der Markierungen ist nicht spezifiziert. Normalerweise ist die Standardmarkierung ein Kreis, außer hier bei der Linie: hier ist standardmäßig keine Markierung.\n",
        "\n",
        "Andere Kombinationen wie `[color][marker][line]` werden ebenfalls unterstützt, aber in der Dokumentation steht, dass dann das Ergebnis mehrdeutig sein kann.\n",
        "\n",
        "Also in diesem Fall `b-` wird auch funktionieren. "
      ]
    },
    {
      "cell_type": "markdown",
      "metadata": {
        "id": "fh8B-ydHA3ku"
      },
      "source": [
        "Hier findest du die vorhandenen Möglichkeiten zur Veränderung der Markierungen, Farben und Linienarten: \n",
        "https://matplotlib.org/stable/api/_as_gen/matplotlib.pyplot.plot.html#matplotlib.pyplot.plot\n",
        "\n",
        "\n",
        "Verändere die folgende Grafik so, dass die aus magenta gepunkteter Linie besteht.    \n",
        "Experementiere mit unterschiedlichen Variationen.   "
      ]
    },
    {
      "cell_type": "code",
      "metadata": {
        "id": "3N8u3OYfNDIk"
      },
      "source": [
        "plt.plot(x,y, 'ro')   # ////// deine Veränderung hier\n",
        "plt.title('Wahlbeteiligung')\n",
        "plt.xlabel('Jahr')\n",
        "plt.ylabel('Beteiligung')\n",
        "plt.show()"
      ],
      "execution_count": null,
      "outputs": []
    },
    {
      "cell_type": "markdown",
      "metadata": {
        "id": "YMyoexJlRr73"
      },
      "source": [
        "Und jetzt lass uns mehr Linien auf einer Grafik darstellen. Dafür müssen wir `plt.plot` mehrmals aufrufen. \n",
        "\n",
        "Z.b. angenommen, wir hätten Zahlen aus einem anderen Land und wollten die Wahlbeteiligung vergleichen. Hierfür bleibt unsere `x` Axe, also das Jahr, gleich, aber die `y` Axe ist eine andere Beteiligung. \n",
        "\n",
        "Das können wir simulieren in dem wir eine zufällige Zahl zwischen -5 und 5 zu jeder Zahl in `y` hinfügen"
      ]
    },
    {
      "cell_type": "code",
      "metadata": {
        "id": "J9kbLPZwSURS"
      },
      "source": [
        "import random\n",
        "y2 = [beteiligung + random.randrange(-5, 5) for beteiligung in y]"
      ],
      "execution_count": 13,
      "outputs": []
    },
    {
      "cell_type": "code",
      "metadata": {
        "colab": {
          "base_uri": "https://localhost:8080/",
          "height": 295
        },
        "id": "Gr9bPt_IQ_9j",
        "outputId": "217734d0-5e91-4377-c782-a00b5f72ca53"
      },
      "source": [
        "plt.plot(x,y)   \n",
        "plt.plot(x, y2, 'm:')\n",
        "plt.title('Wahlbeteiligung')\n",
        "plt.xlabel('Jahr')\n",
        "plt.ylabel('Beteiligung')\n",
        "plt.show()"
      ],
      "execution_count": 14,
      "outputs": [
        {
          "output_type": "display_data",
          "data": {
            "image/png": "[encoded data removed]",
            "text/plain": [
              "<Figure size 432x288 with 1 Axes>"
            ]
          },
          "metadata": {
            "tags": [],
            "needs_background": "light"
          }
        }
      ]
    },
    {
      "cell_type": "markdown",
      "metadata": {
        "id": "Xx2GgIy0TIum"
      },
      "source": [
        "So, jetzt wollen wir eine Legende erstellen. Dafür wird die Methode `plt.legend` verwendet. Zusätzlich, wird ein weiteres Parameter `label` der `plt.plot` Methode übergeben, die eine Bezeichnung für die Linie beinhaltet.  "
      ]
    },
    {
      "cell_type": "code",
      "metadata": {
        "colab": {
          "base_uri": "https://localhost:8080/",
          "height": 295
        },
        "id": "Zemu_TPzUdIJ",
        "outputId": "2cbf5e8b-d4e3-4164-b46f-1f4de3e88c32"
      },
      "source": [
        "plt.plot(x,y, label='Deutschland')   \n",
        "plt.plot(x, y2, 'm:', label='Anderes Land')\n",
        "plt.title('Wahlbeteiligung')\n",
        "plt.xlabel('Jahr')\n",
        "plt.ylabel('Beteiligung')\n",
        "plt.legend()\n",
        "plt.show()"
      ],
      "execution_count": 15,
      "outputs": [
        {
          "output_type": "display_data",
          "data": {
            "image/png": "[encoded data removed]",
            "text/plain": [
              "<Figure size 432x288 with 1 Axes>"
            ]
          },
          "metadata": {
            "tags": [],
            "needs_background": "light"
          }
        }
      ]
    },
    {
      "cell_type": "markdown",
      "metadata": {
        "id": "2mtQF148U0mN"
      },
      "source": [
        "Man kann die Platzierung der Legende verändern in dem man den Prameter `loc`  übergibt. Z.b. 'upper right', 'lower left', 'center left', 'center'. \n",
        "\n",
        "Verändert `plt.legend()` so, dass die Legende unten links steht. "
      ]
    },
    {
      "cell_type": "code",
      "metadata": {
        "id": "ZX6Awpv-VIwB"
      },
      "source": [
        "plt.plot(x,y, label='Deutschland')   \n",
        "plt.plot(x, y2, 'm:', label='Anderes Land')\n",
        "plt.title('Wahlbeteiligung')\n",
        "plt.xlabel('Jahr')\n",
        "plt.ylabel('Beteiligung')\n",
        "plt.legend()  # //// deine Veränderung hier\n",
        "plt.show()"
      ],
      "execution_count": null,
      "outputs": []
    },
    {
      "cell_type": "markdown",
      "metadata": {
        "id": "JluRFhHL0Cfu"
      },
      "source": [
        "## Speichern der Grafiken"
      ]
    },
    {
      "cell_type": "markdown",
      "metadata": {
        "id": "fKT2KxZs0rjN"
      },
      "source": [
        "Hinweis: `plt.savefig()` soll vor `plt.show()` gesetzt werden.   \n",
        "Schaut nun links unter `Files` (Symbol eines Ordners) ob eure Grafiken da sind."
      ]
    },
    {
      "cell_type": "code",
      "metadata": {
        "colab": {
          "base_uri": "https://localhost:8080/",
          "height": 295
        },
        "id": "xbo9NFGv0Hcp",
        "outputId": "a8308e2b-af71-43fd-9a70-6dafe5d0f138"
      },
      "source": [
        "plt.plot(x,y, label='Deutschland')   \n",
        "plt.plot(x, y2, 'm:', label='Anderes Land')\n",
        "plt.title('Wahlbeteiligung')\n",
        "plt.xlabel('Jahr')\n",
        "plt.ylabel('Beteiligung')\n",
        "plt.legend(loc='lower left')\n",
        "plt.savefig('filename.png')\n",
        "plt.show()"
      ],
      "execution_count": 17,
      "outputs": [
        {
          "output_type": "display_data",
          "data": {
            "image/png": "[encoded data removed]",
            "text/plain": [
              "<Figure size 432x288 with 1 Axes>"
            ]
          },
          "metadata": {
            "tags": [],
            "needs_background": "light"
          }
        }
      ]
    },
    {
      "cell_type": "markdown",
      "metadata": {
        "id": "6Vjfjqrwo3QR"
      },
      "source": [
        "## Styles\n",
        "\n",
        "Es gibt eine Menge styles die man verwenden kann. Hier ist die Liste:\n",
        "\n",
        "https://matplotlib.org/stable/gallery/style_sheets/style_sheets_reference.html\n",
        "\n",
        "bzw. `plt.style.available``\n",
        "\n",
        "Experimentiere mit styles und wähle dir eins. Alle folgende Grafiken werden in dem style gemacht."
      ]
    },
    {
      "cell_type": "code",
      "metadata": {
        "colab": {
          "base_uri": "https://localhost:8080/",
          "height": 296
        },
        "id": "XrX9U-b4pHzj",
        "outputId": "495fcf76-a6cd-45be-9826-f0ffd522dcce"
      },
      "source": [
        "plt.style.use('bmh')        # ///// deine Veränderungen hier\n",
        "plt.plot(x,y, label='Deutschland')   \n",
        "plt.plot(x, y2, 'm:', label='Anderes Land')\n",
        "plt.title('Wahlbeteiligung')\n",
        "plt.xlabel('Jahr')\n",
        "plt.ylabel('Beteiligung')\n",
        "plt.legend(loc='lower left')\n",
        "plt.show()"
      ],
      "execution_count": 18,
      "outputs": [
        {
          "output_type": "display_data",
          "data": {
            "image/png": "[encoded data removed]",
            "text/plain": [
              "<Figure size 432x288 with 1 Axes>"
            ]
          },
          "metadata": {
            "tags": [],
            "needs_background": "light"
          }
        }
      ]
    },
    {
      "cell_type": "code",
      "metadata": {
        "colab": {
          "base_uri": "https://localhost:8080/"
        },
        "id": "ivRZsf8fpjD9",
        "outputId": "4f3af5d2-8767-4060-90b3-dcc32764d205"
      },
      "source": [
        "plt.style.available"
      ],
      "execution_count": 19,
      "outputs": [
        {
          "output_type": "execute_result",
          "data": {
            "text/plain": [
              "['Solarize_Light2',\n",
              " '_classic_test_patch',\n",
              " 'bmh',\n",
              " 'classic',\n",
              " 'dark_background',\n",
              " 'fast',\n",
              " 'fivethirtyeight',\n",
              " 'ggplot',\n",
              " 'grayscale',\n",
              " 'seaborn',\n",
              " 'seaborn-bright',\n",
              " 'seaborn-colorblind',\n",
              " 'seaborn-dark',\n",
              " 'seaborn-dark-palette',\n",
              " 'seaborn-darkgrid',\n",
              " 'seaborn-deep',\n",
              " 'seaborn-muted',\n",
              " 'seaborn-notebook',\n",
              " 'seaborn-paper',\n",
              " 'seaborn-pastel',\n",
              " 'seaborn-poster',\n",
              " 'seaborn-talk',\n",
              " 'seaborn-ticks',\n",
              " 'seaborn-white',\n",
              " 'seaborn-whitegrid',\n",
              " 'tableau-colorblind10']"
            ]
          },
          "metadata": {
            "tags": []
          },
          "execution_count": 19
        }
      ]
    },
    {
      "cell_type": "markdown",
      "metadata": {
        "id": "0Qzh2eB_wIkE"
      },
      "source": [
        "## Subplots"
      ]
    },
    {
      "cell_type": "markdown",
      "metadata": {
        "id": "KWUT4cqWucde"
      },
      "source": [
        "Wir können auch mehrere Grafiken neben einander haben, die zu einer `Figur` gehören.\n",
        "Dafür wird die Methode `subplots()` verewendet. Die Parameter `nrows` und `ncols` werden verwendet um zu spezifizieren wie viele Grafiken in einer Reihe und in einer Kolumne sein müssen. Stellt euch es so vor, als ob wir einen Raster haben. \n",
        "\n",
        "Z.B. Wenn wir drei Grafiken nebeneinander haben wollen, werden wir `nrow` = 1 und `ncols` = 3 setzen. \n",
        "\n",
        "Zusätzlich können wir die Größe der Grafik mit dem Parameter `figsize` setzen. "
      ]
    },
    {
      "cell_type": "code",
      "metadata": {
        "colab": {
          "base_uri": "https://localhost:8080/",
          "height": 320
        },
        "id": "bI32Jxpiub26",
        "outputId": "3994748a-6e7c-471a-9073-253be4a4dfd9"
      },
      "source": [
        "plt.subplots(nrows=1, ncols=3, figsize=(15,5))\n",
        "plt.show()"
      ],
      "execution_count": 20,
      "outputs": [
        {
          "output_type": "display_data",
          "data": {
            "image/png": "[encoded data removed]",
            "text/plain": [
              "<Figure size 1080x360 with 3 Axes>"
            ]
          },
          "metadata": {
            "tags": [],
            "needs_background": "light"
          }
        }
      ]
    },
    {
      "cell_type": "markdown",
      "metadata": {
        "id": "aEjNy_QbyM7R"
      },
      "source": [
        "Erstellt eine Figur mit 4 Grafiken: 2 in der ersten Reihe und 2 in der zweiten Reihe. Die `figsize` könnt ihr frei auswählen. "
      ]
    },
    {
      "cell_type": "code",
      "metadata": {
        "id": "vMot09IfyKU1"
      },
      "source": [
        "# ///// dein code hier"
      ],
      "execution_count": null,
      "outputs": []
    },
    {
      "cell_type": "markdown",
      "metadata": {
        "id": "hglNCRM-3S2O"
      },
      "source": [
        "Es gibt auch einen \"shortcut\" um einface subplots zu erstellen: wir sagen nur an wie viele subplot wir wollen, und diese werden irgendwie dargestellt. "
      ]
    },
    {
      "cell_type": "code",
      "metadata": {
        "colab": {
          "base_uri": "https://localhost:8080/",
          "height": 266
        },
        "id": "yQ9VHaLE3Sh7",
        "outputId": "4765687f-45d3-45a8-8a3c-1005a335d64c"
      },
      "source": [
        "fig, ax = plt.subplots(2) \n",
        "plt.show()"
      ],
      "execution_count": 22,
      "outputs": [
        {
          "output_type": "display_data",
          "data": {
            "image/png": "[encoded data removed]",
            "text/plain": [
              "<Figure size 432x288 with 2 Axes>"
            ]
          },
          "metadata": {
            "tags": [],
            "needs_background": "light"
          }
        }
      ]
    },
    {
      "cell_type": "markdown",
      "metadata": {
        "id": "TEhUFg-lwk5m"
      },
      "source": [
        "Damit wir auf einzelne Grafiken zugreifen können, speichern wir den output der `plt.subplots()` Methode unter Variablen. Oft werden diese `fig` und `ax` genannt. \n",
        "\n",
        "`fig` bezeichnet die ganze Figur. Über `ax` können wir auf die einzelnen Grafiken zugreifen.\n",
        "\n",
        "Im Beispiel mit nur einer Reihe, brauchen wir nur ein index: z.B. `ax[0]` bezeichnet die erste Grafik"
      ]
    },
    {
      "cell_type": "code",
      "metadata": {
        "colab": {
          "base_uri": "https://localhost:8080/",
          "height": 337
        },
        "id": "EffJhHVMwxjn",
        "outputId": "ff2e3bd5-b150-4422-e08d-2aa485bee736"
      },
      "source": [
        "fig, ax = plt.subplots(nrows=1, ncols=3, figsize=(15,5))\n",
        "\n",
        "ax[0].plot(x,y)"
      ],
      "execution_count": 23,
      "outputs": [
        {
          "output_type": "execute_result",
          "data": {
            "text/plain": [
              "[<matplotlib.lines.Line2D at 0x7f01dfd515d0>]"
            ]
          },
          "metadata": {
            "tags": []
          },
          "execution_count": 23
        },
        {
          "output_type": "display_data",
          "data": {
            "image/png": "[encoded data removed]",
            "text/plain": [
              "<Figure size 1080x360 with 3 Axes>"
            ]
          },
          "metadata": {
            "tags": [],
            "needs_background": "light"
          }
        }
      ]
    },
    {
      "cell_type": "markdown",
      "metadata": {
        "id": "Bp3_t8uC2mnl"
      },
      "source": [
        "Wenn wir mehrere Reihen haben, müssen wir die Reihe und die Spalte spezifizieren. `ax[0,1]` steht für die Grafik in der 0. Reihe, in der 1. Spalte"
      ]
    },
    {
      "cell_type": "code",
      "metadata": {
        "colab": {
          "base_uri": "https://localhost:8080/",
          "height": 337
        },
        "id": "wKNcifGg2wUq",
        "outputId": "56f1ffd8-5b63-4b68-c203-9c2eb9500176"
      },
      "source": [
        "fig, ax = plt.subplots(nrows=2, ncols=2, figsize=(15,5))\n",
        "\n",
        "ax[0,1].plot(x,y)"
      ],
      "execution_count": 24,
      "outputs": [
        {
          "output_type": "execute_result",
          "data": {
            "text/plain": [
              "[<matplotlib.lines.Line2D at 0x7f01df873d90>]"
            ]
          },
          "metadata": {
            "tags": []
          },
          "execution_count": 24
        },
        {
          "output_type": "display_data",
          "data": {
            "image/png": "[encoded data removed]",
            "text/plain": [
              "<Figure size 1080x360 with 4 Axes>"
            ]
          },
          "metadata": {
            "tags": [],
            "needs_background": "light"
          }
        }
      ]
    },
    {
      "cell_type": "markdown",
      "metadata": {
        "id": "KJ2mAg_P5v-w"
      },
      "source": [
        "Um Titel und weitere Informationen hinzufügen verwenden wir die `set_title` Methode"
      ]
    },
    {
      "cell_type": "code",
      "metadata": {
        "colab": {
          "base_uri": "https://localhost:8080/",
          "height": 513
        },
        "id": "Haj0YlMh586U",
        "outputId": "61ff63e1-a63c-4ac5-b69f-81df275de429"
      },
      "source": [
        "fig, ax = plt.subplots(2, 2, figsize=(15,8))\n",
        "ax[0, 0].plot(x, y)\n",
        "ax[0, 0].set_title('Axis [0,0]')\n",
        "ax[0, 1].plot(x, y, 'orange')\n",
        "ax[0, 1].set_title('Axis [0,1]')\n",
        "ax[1, 0].plot(x, -y, 'green')\n",
        "ax[1, 0].set_title('Axis [1,0]')\n",
        "ax[1, 1].plot(x, -y, 'red')\n",
        "ax[1, 1].set_title('Axis [1,1]')"
      ],
      "execution_count": 25,
      "outputs": [
        {
          "output_type": "execute_result",
          "data": {
            "text/plain": [
              "Text(0.5, 1.0, 'Axis [1,1]')"
            ]
          },
          "metadata": {
            "tags": []
          },
          "execution_count": 25
        },
        {
          "output_type": "display_data",
          "data": {
            "image/png": "[encoded data removed]",
            "text/plain": [
              "<Figure size 1080x576 with 4 Axes>"
            ]
          },
          "metadata": {
            "tags": [],
            "needs_background": "light"
          }
        }
      ]
    },
    {
      "cell_type": "markdown",
      "metadata": {
        "id": "Maj-TiQi4acV"
      },
      "source": [
        "Man kann die einzelne Grafiken auch benennen"
      ]
    },
    {
      "cell_type": "code",
      "metadata": {
        "colab": {
          "base_uri": "https://localhost:8080/",
          "height": 337
        },
        "id": "HxlyrbE43tvY",
        "outputId": "5d6e4f30-bf16-4a4e-eac8-e48ad1d003c8"
      },
      "source": [
        "fig, (germany, anderes_land) = plt.subplots(nrows=1, ncols=2, figsize=(15,5))\n",
        "\n",
        "germany.plot(x,y)"
      ],
      "execution_count": 26,
      "outputs": [
        {
          "output_type": "execute_result",
          "data": {
            "text/plain": [
              "[<matplotlib.lines.Line2D at 0x7f01dfe1aa10>]"
            ]
          },
          "metadata": {
            "tags": []
          },
          "execution_count": 26
        },
        {
          "output_type": "display_data",
          "data": {
            "image/png": "[encoded data removed]",
            "text/plain": [
              "<Figure size 1080x360 with 2 Axes>"
            ]
          },
          "metadata": {
            "tags": [],
            "needs_background": "light"
          }
        }
      ]
    },
    {
      "cell_type": "markdown",
      "metadata": {
        "id": "_N6yqeJp5qo-"
      },
      "source": [
        "Benennung der Grafiken mit mehreren Reihen (reihenweise):"
      ]
    },
    {
      "cell_type": "code",
      "metadata": {
        "colab": {
          "base_uri": "https://localhost:8080/",
          "height": 333
        },
        "id": "s7-C8oFi5VRR",
        "outputId": "7321202a-b141-4fb2-9a08-10941548e16b"
      },
      "source": [
        "fig, ((germany, anderes_land), (land_3, land_4)) = plt.subplots(nrows=2, ncols=2, figsize=(15,5))\n",
        "\n",
        "germany.plot(x,y)\n",
        "anderes_land.plot(x,y)"
      ],
      "execution_count": 27,
      "outputs": [
        {
          "output_type": "execute_result",
          "data": {
            "text/plain": [
              "[<matplotlib.lines.Line2D at 0x7f01df9d5050>]"
            ]
          },
          "metadata": {
            "tags": []
          },
          "execution_count": 27
        },
        {
          "output_type": "display_data",
          "data": {
            "image/png": "[encoded data removed]",
            "text/plain": [
              "<Figure size 1080x360 with 4 Axes>"
            ]
          },
          "metadata": {
            "tags": [],
            "needs_background": "light"
          }
        }
      ]
    },
    {
      "cell_type": "markdown",
      "metadata": {
        "id": "FGoTDL6G8Ptc"
      },
      "source": [
        "Ertelle ein Figur aus 2 Grafiken, eine mit der Informationen über die Wahlbeteiligung in Deutschland (`y`), und die andere im zweiten fiktiven Land `y2`. \n",
        "\n",
        "Benenne die einzelnen Grafiken, also verwende `fig`, `(name1, name2)`, wenn du willst."
      ]
    },
    {
      "cell_type": "code",
      "metadata": {
        "id": "CiYpN58Q7raG"
      },
      "source": [
        "# ///// dein code hier "
      ],
      "execution_count": null,
      "outputs": []
    },
    {
      "cell_type": "markdown",
      "metadata": {
        "id": "g9qI74lE9yId"
      },
      "source": [
        "Um weitere Informationen zu spezifizieren, benutze die Methode `set`. \n",
        "Der Titel kann auch mit `set` erstellt werden. "
      ]
    },
    {
      "cell_type": "code",
      "metadata": {
        "colab": {
          "base_uri": "https://localhost:8080/",
          "height": 350
        },
        "id": "Yu81rw5A97TV",
        "outputId": "ee2ec565-20d0-454d-efff-10cafd919c9f"
      },
      "source": [
        "fig, (germany, other_country) = plt.subplots(1, 2, figsize=(15,5))\n",
        "\n",
        "germany.plot(x,y)\n",
        "germany.set(title=\"Deutschland\", xlabel='Jaht', ylabel='Wahlbeteiligung')\n",
        "plt.show()"
      ],
      "execution_count": 29,
      "outputs": [
        {
          "output_type": "display_data",
          "data": {
            "image/png": "[encoded data removed]",
            "text/plain": [
              "<Figure size 1080x360 with 2 Axes>"
            ]
          },
          "metadata": {
            "tags": [],
            "needs_background": "light"
          }
        }
      ]
    },
    {
      "cell_type": "markdown",
      "metadata": {
        "id": "eLaNQnWX3EKk"
      },
      "source": [
        "Mehr zu den `subplots` findest du hier https://matplotlib.org/stable/api/_as_gen/matplotlib.pyplot.subplots.html"
      ]
    },
    {
      "cell_type": "markdown",
      "metadata": {
        "id": "cLYo84uSD8cr"
      },
      "source": [
        "## Pie Chart"
      ]
    },
    {
      "cell_type": "code",
      "metadata": {
        "colab": {
          "base_uri": "https://localhost:8080/",
          "height": 265
        },
        "id": "nnldz2EtWnkA",
        "outputId": "e908b5b0-6ec6-4b7d-de1f-d29f5986a79c"
      },
      "source": [
        "y = [35, 25, 25, 15]\n",
        "\n",
        "plt.pie(y, labels=y)\n",
        "plt.title('Zahlen')\n",
        "plt.show() "
      ],
      "execution_count": 30,
      "outputs": [
        {
          "output_type": "display_data",
          "data": {
            "image/png": "[encoded data removed]",
            "text/plain": [
              "<Figure size 432x288 with 1 Axes>"
            ]
          },
          "metadata": {
            "tags": []
          }
        }
      ]
    },
    {
      "cell_type": "markdown",
      "metadata": {
        "id": "817F7GfZAmUn"
      },
      "source": [
        "`explode` ist rein optischer Parameter. Damit wird ein Teil des Kreises leicht nach Außen bewegt. \n",
        "\n",
        "`autopct` ermöglicht die Anzeige des Prozentwerts. Wir verwenden hier die Python-String-Formatierung (zwischen `%`und `f` können wir die Anzahl der Nachkommastellen festlegen)"
      ]
    },
    {
      "cell_type": "code",
      "metadata": {
        "colab": {
          "base_uri": "https://localhost:8080/",
          "height": 248
        },
        "id": "q_Yiegwr_HGw",
        "outputId": "4400daa2-cbed-42dc-b5e0-a99b7a2a868e"
      },
      "source": [
        "plt.style.use('seaborn-muted')\n",
        "y = np.array([35, 25, 25, 15])\n",
        "labels = [\"Apples\", \"Bananas\", \"Cherries\", \"Dates\"]\n",
        "explode = [0.2, 0, 0, 0]\n",
        "\n",
        "plt.pie(y, labels = labels, shadow=True, explode=explode, autopct='%.1f',)\n",
        "plt.show() "
      ],
      "execution_count": 31,
      "outputs": [
        {
          "output_type": "display_data",
          "data": {
            "image/png": "[encoded data removed]",
            "text/plain": [
              "<Figure size 432x288 with 1 Axes>"
            ]
          },
          "metadata": {
            "tags": []
          }
        }
      ]
    },
    {
      "cell_type": "code",
      "metadata": {
        "colab": {
          "base_uri": "https://localhost:8080/"
        },
        "id": "JjBFwrM3BoTz",
        "outputId": "e5ed2cd9-6b80-42c4-bdbb-9c4ea63e6f8d"
      },
      "source": [
        "print(f'Die Wahlbeteiligung liegt zwischen {voter_turnout.min()} und {voter_turnout.max()}')"
      ],
      "execution_count": 32,
      "outputs": [
        {
          "output_type": "stream",
          "text": [
            "Die Wahlbeteiligung liegt zwischen 70.8 und 91.1\n"
          ],
          "name": "stdout"
        }
      ]
    },
    {
      "cell_type": "markdown",
      "metadata": {
        "id": "YaT0ZL4ZB_xR"
      },
      "source": [
        "Also lass uns die Wahlbeteiligung in 3 Teile teilen: 70.0-79.9, 80.0-8.9, 90.0-99.9. Und dann eine Kuchengrafik erstellen mit den 3 Teilen.   Führe den code einfach aus."
      ]
    },
    {
      "cell_type": "code",
      "metadata": {
        "colab": {
          "base_uri": "https://localhost:8080/"
        },
        "id": "uISJgzjiDyWS",
        "outputId": "eea8d96c-c9c4-4370-8502-d4416ea28f20"
      },
      "source": [
        "seventies, eighties, nineties = [], [], []\n",
        "for turnout in voter_turnout:\n",
        "    if turnout <= 79.9:\n",
        "        seventies.append(turnout)\n",
        "    elif turnout >79.9 and turnout <= 89.9:\n",
        "        eighties.append(turnout)\n",
        "    else:\n",
        "        nineties.append(turnout)\n",
        "\n",
        "print(seventies)\n",
        "print(eighties)\n",
        "print(nineties)\n",
        "\n",
        "y = [len(seventies), len(eighties), len(nineties)]"
      ],
      "execution_count": 49,
      "outputs": [
        {
          "output_type": "stream",
          "text": [
            "[78.5, 77.8, 79.0, 79.1, 77.7, 70.8, 71.5, 76.2]\n",
            "[86.0, 87.8, 87.7, 86.8, 86.7, 88.6, 89.1, 84.3, 82.2]\n",
            "[91.1, 90.7]\n"
          ],
          "name": "stdout"
        }
      ]
    },
    {
      "cell_type": "markdown",
      "metadata": {
        "id": "io9UVyg9Hsiy"
      },
      "source": [
        "Erstelle ein Kuchendiagramm, der die Wahlbeteiligung als diese 3 Klassen darstellt. \n",
        "\n",
        "Tipp: du kannst den Titel genauso mit dem Parameter `titel` setzen. \n",
        "\n",
        "Tipp: `labels` schreibst du auch selbst, also erstelle eine Liste mit 3 Strings -- Seventies, Eighties, Nineties, bzw. anderen Namen, die dir besser gefallen."
      ]
    },
    {
      "cell_type": "code",
      "metadata": {
        "id": "-4ppJ4BTFA14"
      },
      "source": [
        "# //// dein code hier "
      ],
      "execution_count": null,
      "outputs": []
    },
    {
      "cell_type": "markdown",
      "metadata": {
        "id": "395usx0bKGWs"
      },
      "source": [
        "## Barplot"
      ]
    },
    {
      "cell_type": "code",
      "metadata": {
        "colab": {
          "base_uri": "https://localhost:8080/",
          "height": 262
        },
        "id": "lMt4NRzQLwfi",
        "outputId": "a673d80f-9b35-4df4-9610-a83342bfd163"
      },
      "source": [
        "labels = ['C', 'C++', 'Java', 'Python', 'PHP']\n",
        "students = [23,17,35,29,12]\n",
        "plt.bar(labels, students)\n",
        "plt.show()"
      ],
      "execution_count": 35,
      "outputs": [
        {
          "output_type": "display_data",
          "data": {
            "image/png": "[encoded data removed]",
            "text/plain": [
              "<Figure size 432x288 with 1 Axes>"
            ]
          },
          "metadata": {
            "tags": [],
            "needs_background": "light"
          }
        }
      ]
    },
    {
      "cell_type": "markdown",
      "metadata": {
        "id": "ivBHGCKmLk_F"
      },
      "source": [
        "Erstelle eine Grafik mit der Wahlbeteiligung nach Jahrzenten. Verwede die `labels` und die `y` aus der vorherigen Kuchendiagrammaufgabe.\n",
        "\n",
        "Bennene die X und die Y Axen mit `plt.xlabel` und `plt.ylabel`"
      ]
    },
    {
      "cell_type": "code",
      "metadata": {
        "colab": {
          "base_uri": "https://localhost:8080/",
          "height": 296
        },
        "id": "vZtKJE6OKIWi",
        "outputId": "116203c4-e17e-46d5-b34b-1fc711fcf7b0"
      },
      "source": [
        "y = [len(seventies), len(eighties), len(nineties)]\n",
        "labels = [\"Seventies\", \"Eighties\", \"Nineties\"]\n",
        "plt.bar(labels, y)\n",
        "plt.title(\"Wahlbeteiligung\", fontsize=14)\n",
        "plt.xlabel(\"Jahrzehnt\")\n",
        "plt.ylabel(\"Anzahl der Wahlen\")\n",
        "plt.show()"
      ],
      "execution_count": 36,
      "outputs": [
        {
          "output_type": "display_data",
          "data": {
            "image/png": "[encoded data removed]",
            "text/plain": [
              "<Figure size 432x288 with 1 Axes>"
            ]
          },
          "metadata": {
            "tags": [],
            "needs_background": "light"
          }
        }
      ]
    },
    {
      "cell_type": "markdown",
      "metadata": {
        "id": "26dWRExJDsdx"
      },
      "source": [
        "## Histogram"
      ]
    },
    {
      "cell_type": "markdown",
      "metadata": {
        "id": "jnVaudWwJdJX"
      },
      "source": [
        "Ein Histogramm ist ein großartiges Werkzeug zur schnellen Beurteilung einer Wahrscheinlichkeitsverteilung"
      ]
    },
    {
      "cell_type": "code",
      "metadata": {
        "colab": {
          "base_uri": "https://localhost:8080/",
          "height": 296
        },
        "id": "79QyJhJMI_fU",
        "outputId": "565a8af7-84dd-483d-ed53-c687581ec1a4"
      },
      "source": [
        "plt.hist(voter_turnout, bins = 5) # ///// deine Veränderungen hier\n",
        "plt.title(\"Wahlbeteiligung\", fontsize=14)\n",
        "plt.xlabel(\"Wahlbeteiligung\")\n",
        "plt.ylabel(\"Anzahl an Wahlen\")\n",
        "plt.show()"
      ],
      "execution_count": 37,
      "outputs": [
        {
          "output_type": "display_data",
          "data": {
            "image/png": "[encoded data removed]",
            "text/plain": [
              "<Figure size 432x288 with 1 Axes>"
            ]
          },
          "metadata": {
            "tags": [],
            "needs_background": "light"
          }
        }
      ]
    },
    {
      "cell_type": "markdown",
      "metadata": {
        "id": "JJNTa51WJ9Kq"
      },
      "source": [
        "Experimentiert mit dem Parameter `bins`. `auto` ist auch eine Möglichkeit."
      ]
    },
    {
      "cell_type": "markdown",
      "metadata": {
        "id": "dsnlioTLrX2f"
      },
      "source": [
        "# Scikit-Learn"
      ]
    },
    {
      "cell_type": "markdown",
      "metadata": {
        "id": "P1zfXWyQMboK"
      },
      "source": [
        "Nun machen wir eine kurze Eunführung ins Modul `sklearn`\n",
        "\n",
        "Sklearn beinhaltet effiziente Werkzeuge für die prädiktive Datenanalyse. \n",
        "Verwendungsbeispliele: Klassifizierung von allen möglichen Dingen, Clustern, Vorhersagen über Preise, Krankheiten, Anzahl an Upvotes.\n",
        "\n",
        "Wir schauen uns einen Datensatz an, in dem es Informationen über Menschen gibt, die Diabetes haben oder nicht haben. Und anhang der verfügbaren Informationen machen wir Vorhersagen ob die Menschen die Krankheit haben oder nicht. "
      ]
    },
    {
      "cell_type": "markdown",
      "metadata": {
        "id": "BACa2rOWKhuM"
      },
      "source": [
        "### Linear Classification\n",
        "\n"
      ]
    },
    {
      "cell_type": "markdown",
      "metadata": {
        "id": "Fu97TFG5G-KN"
      },
      "source": [
        "![](https://raw.githubusercontent.com/alyonavyshnevska/datasets/main/img/linear.png)\n",
        "\n",
        "Unser Ziel ist es, die Werte m (slope) und b (y-intercept) in der Gleichung einer Geraden zu berechnen:\n",
        "\n",
        "y = mx + b\n",
        "\n",
        "\n",
        "m = Slope (wie Steil die Linie ist).   \n",
        "b = the Y Intercept (wo die Linie die Y-Axe kreuzt)\n",
        "\n",
        "\n",
        "Die statistische Methode die diese Formel berechnen kann heißt \"Least Squares\"\n",
        "\n",
        "\n",
        "![](https://raw.githubusercontent.com/alyonavyshnevska/datasets/main/img/least_squares.png)\n",
        "\n",
        "Mehr zu den Formeln: https://www.mathsisfun.com/data/least-squares-regression.html (die Abbildungen sind auch von dort)"
      ]
    },
    {
      "cell_type": "markdown",
      "metadata": {
        "id": "NUtG5Bsa54gn"
      },
      "source": [
        "### Diabetes Datensatz"
      ]
    },
    {
      "cell_type": "code",
      "metadata": {
        "id": "SF2qreI40wCH"
      },
      "source": [
        "# get dataset\n",
        "!wget -q https://raw.githubusercontent.com/alyonavyshnevska/datasets/main/diabetes.csv"
      ],
      "execution_count": 38,
      "outputs": []
    },
    {
      "cell_type": "markdown",
      "metadata": {
        "id": "8cIk0pJQDxFk"
      },
      "source": [
        "Wir machen rin Pandas Dataframe daraus. Jetzt könnten wir alle mögliche Funktionen von vorher hier verwenden um unsere Daten kennenzulernen, z.B. Mittelwert, min, max Werte, Kolumnen etc.\n"
      ]
    },
    {
      "cell_type": "code",
      "metadata": {
        "colab": {
          "base_uri": "https://localhost:8080/"
        },
        "id": "7Rj2t8XN1EKZ",
        "outputId": "89e4e3a1-1b3d-4df3-f409-c5b8c5085b7b"
      },
      "source": [
        "diabetes = pd.read_csv('diabetes.csv')\n",
        "diabetes.columns "
      ],
      "execution_count": 39,
      "outputs": [
        {
          "output_type": "execute_result",
          "data": {
            "text/plain": [
              "Index(['Pregnancies', 'Glucose', 'BloodPressure', 'SkinThickness', 'Insulin',\n",
              "       'BMI', 'DiabetesPedigreeFunction', 'Age', 'Outcome'],\n",
              "      dtype='object')"
            ]
          },
          "metadata": {
            "tags": []
          },
          "execution_count": 39
        }
      ]
    },
    {
      "cell_type": "markdown",
      "metadata": {
        "id": "5Yo1aHWSE1qs"
      },
      "source": [
        "Wir räumen ein wenig auf und löschen die Zeilen wo viele wichtige Informationen gleichzeitig fehlen"
      ]
    },
    {
      "cell_type": "code",
      "metadata": {
        "colab": {
          "base_uri": "https://localhost:8080/"
        },
        "id": "7YOVMm001ZXT",
        "outputId": "2032af1c-e25c-48cc-f15c-20616e4fef81"
      },
      "source": [
        "diabetes = diabetes[(diabetes.BloodPressure != 0) & (diabetes.BMI != 0) & (diabetes.Glucose != 0)]\n",
        "print(diabetes.shape)"
      ],
      "execution_count": 40,
      "outputs": [
        {
          "output_type": "stream",
          "text": [
            "(724, 9)\n"
          ],
          "name": "stdout"
        }
      ]
    },
    {
      "cell_type": "markdown",
      "metadata": {
        "id": "3g9xFx3iR1ZU"
      },
      "source": [
        "## Features"
      ]
    },
    {
      "cell_type": "markdown",
      "metadata": {
        "id": "w-Z9J1jjFY2k"
      },
      "source": [
        "Die Eingabeparameter (Features) und die Zielwerte (richtige Antworten) sind bereits bekannt in unserem Datensatz.  \n",
        "\n",
        "\n",
        "X: Daten, die wir für die Vorhersage verwenden.  \n",
        "Y: 0 - kein Diabetes, 1 - Diabetes"
      ]
    },
    {
      "cell_type": "code",
      "metadata": {
        "id": "-ZzFldsU1eDe",
        "colab": {
          "base_uri": "https://localhost:8080/"
        },
        "outputId": "7767fbd4-b7fd-48fc-8fb2-be48f8c6a304"
      },
      "source": [
        "feature_names = ['Pregnancies', 'Glucose', 'BloodPressure', 'SkinThickness', 'Insulin', 'BMI', 'DiabetesPedigreeFunction', 'Age']\n",
        "X = diabetes[feature_names]\n",
        "y = diabetes.Outcome\n",
        "print(X.shape)\n",
        "print(y.shape)"
      ],
      "execution_count": 41,
      "outputs": [
        {
          "output_type": "stream",
          "text": [
            "(724, 8)\n",
            "(724,)\n"
          ],
          "name": "stdout"
        }
      ]
    },
    {
      "cell_type": "markdown",
      "metadata": {
        "id": "SJEOnCdkSZ8p"
      },
      "source": [
        "## Trainingsdaten"
      ]
    },
    {
      "cell_type": "markdown",
      "metadata": {
        "id": "0U46JjFpSQZ0"
      },
      "source": [
        "Mit Hilfe von Trainingsdaten wird dann ein Modell gebildet, welches in der Lage ist für neue unbekannte Eingangsdaten eine entsprechende Prognose zu berechnen. \n",
        "\n",
        "Beim Trainieren des Modells sieht das System sowohl die Features als auch die Zielwerte -- und versucht diese zu veralgemeinern.\n",
        "\n",
        "Die neuen unbekannten Daten heißen \"Testing Data\".\n",
        "\n",
        "Vereinfacht ausgedrückt lernt das System ähnliche Eingangsdaten ähnlichen Zielwerten zuzuordnen. \n",
        "\n",
        "Test Size: 25%\n",
        "\n"
      ]
    },
    {
      "cell_type": "code",
      "metadata": {
        "id": "TrqkLUI41mid",
        "colab": {
          "base_uri": "https://localhost:8080/"
        },
        "outputId": "7b34ad87-d213-4c5b-dcb0-8aa8571440ce"
      },
      "source": [
        "from sklearn.model_selection import train_test_split\n",
        "X_train, X_test, y_train, y_test = train_test_split(X, y, test_size=0.25, random_state=0)\n",
        "print(X_train.shape)\n",
        "print(X_test.shape)"
      ],
      "execution_count": 42,
      "outputs": [
        {
          "output_type": "stream",
          "text": [
            "(543, 8)\n",
            "(181, 8)\n"
          ],
          "name": "stdout"
        }
      ]
    },
    {
      "cell_type": "markdown",
      "metadata": {
        "id": "rjy4GkZNWfEV"
      },
      "source": [
        "## Training"
      ]
    },
    {
      "cell_type": "markdown",
      "metadata": {
        "id": "iOSm3aUxPp0L"
      },
      "source": [
        "RidgeClassifier: ein simples lineares Modell, dass Least Squares Function + L2 Normalisation verwendet. \n",
        "\n",
        "L2 Normalisierung: Es normalisiert jede Zeile in der X-Matrix, so dass die Summe der quadrierten Elemente 1 ergibt\n",
        "\n",
        "\n",
        "https://scikit-learn.org/stable/modules/generated/sklearn.linear_model.Ridge.html"
      ]
    },
    {
      "cell_type": "code",
      "metadata": {
        "colab": {
          "base_uri": "https://localhost:8080/"
        },
        "id": "2DFl7m5o16SC",
        "outputId": "cc858b30-3343-49ae-879b-d7cdd14ffd61"
      },
      "source": [
        "from sklearn.linear_model import RidgeClassifier\n",
        "from sklearn.metrics import accuracy_score\n",
        "\n",
        "model = RidgeClassifier()\n",
        "model.fit(X_train, y_train)"
      ],
      "execution_count": 43,
      "outputs": [
        {
          "output_type": "execute_result",
          "data": {
            "text/plain": [
              "RidgeClassifier(alpha=1.0, class_weight=None, copy_X=True, fit_intercept=True,\n",
              "                max_iter=None, normalize=False, random_state=None,\n",
              "                solver='auto', tol=0.001)"
            ]
          },
          "metadata": {
            "tags": []
          },
          "execution_count": 43
        }
      ]
    },
    {
      "cell_type": "markdown",
      "metadata": {
        "id": "K0ZsuUZiTLaj"
      },
      "source": [
        "Das Modell ist trainiert."
      ]
    },
    {
      "cell_type": "markdown",
      "metadata": {
        "id": "PN6FxELRWiCW"
      },
      "source": [
        "## Vorhersagen"
      ]
    },
    {
      "cell_type": "markdown",
      "metadata": {
        "id": "snAFyqvp0-DQ"
      },
      "source": [
        "Accuracy: Wie viel Prozent der Labels in y_test entspricht genau den Labels in y_pred. Also für wie viel Prozent der Menschen eine korrekte Diagnose (Ja/Nein Diabetes) vorhergesagt wurde. "
      ]
    },
    {
      "cell_type": "code",
      "metadata": {
        "colab": {
          "base_uri": "https://localhost:8080/"
        },
        "id": "qXIWXFiRRJj6",
        "outputId": "fae97121-4a60-456c-c509-fb354a348b02"
      },
      "source": [
        "y_pred = model.predict(X_test)\n",
        "print(\"Accuracy:\", accuracy_score(y_test, y_pred))"
      ],
      "execution_count": 44,
      "outputs": [
        {
          "output_type": "stream",
          "text": [
            "Accuracy: 0.7734806629834254\n"
          ],
          "name": "stdout"
        }
      ]
    },
    {
      "cell_type": "markdown",
      "metadata": {
        "id": "O9MLoy_TWUmi"
      },
      "source": [
        "Falls ihr die confusion matrix kennt:"
      ]
    },
    {
      "cell_type": "code",
      "metadata": {
        "colab": {
          "base_uri": "https://localhost:8080/",
          "height": 279
        },
        "id": "4vA1PZmt09Up",
        "outputId": "ed5b329c-f707-4e26-953e-069499579036"
      },
      "source": [
        "from sklearn.metrics import confusion_matrix, plot_confusion_matrix\n",
        "plot_confusion_matrix(model, X_test, y_test) \n",
        "plt.show()"
      ],
      "execution_count": 45,
      "outputs": [
        {
          "output_type": "display_data",
          "data": {
            "image/png": "[encoded data removed]",
            "text/plain": [
              "<Figure size 432x288 with 2 Axes>"
            ]
          },
          "metadata": {
            "tags": [],
            "needs_background": "light"
          }
        }
      ]
    },
    {
      "cell_type": "code",
      "metadata": {
        "colab": {
          "base_uri": "https://localhost:8080/"
        },
        "id": "VD5VR-Nt2mNm",
        "outputId": "dae045bc-2d8a-4619-98ef-8abd792a0aa3"
      },
      "source": [
        "from sklearn.metrics import classification_report\n",
        "print(classification_report(y_test, y_pred))"
      ],
      "execution_count": 46,
      "outputs": [
        {
          "output_type": "stream",
          "text": [
            "              precision    recall  f1-score   support\n",
            "\n",
            "           0       0.84      0.82      0.83       121\n",
            "           1       0.65      0.68      0.67        60\n",
            "\n",
            "    accuracy                           0.77       181\n",
            "   macro avg       0.74      0.75      0.75       181\n",
            "weighted avg       0.78      0.77      0.77       181\n",
            "\n"
          ],
          "name": "stdout"
        }
      ]
    },
    {
      "cell_type": "markdown",
      "metadata": {
        "id": "eFPd0JCdWlkY"
      },
      "source": [
        "## Andere Modelle"
      ]
    },
    {
      "cell_type": "markdown",
      "metadata": {
        "id": "z_3-rLoyJgTO"
      },
      "source": [
        "Jetzt können wir den Rifge Classifier ganz einfach austauschen \n",
        "https://scikit-learn.org/stable/supervised_learning.html#supervised-learning"
      ]
    },
    {
      "cell_type": "code",
      "metadata": {
        "colab": {
          "base_uri": "https://localhost:8080/"
        },
        "id": "0AbYSdwE1sVk",
        "outputId": "61ef8c60-9897-442f-cceb-25caa5b6aab4"
      },
      "source": [
        "from sklearn.neighbors import KNeighborsClassifier\n",
        "from sklearn.svm import SVC\n",
        "from sklearn.tree import DecisionTreeClassifier\n",
        "from sklearn.naive_bayes import GaussianNB\n",
        "from sklearn.ensemble import RandomForestClassifier\n",
        "from sklearn.ensemble import GradientBoostingClassifier\n",
        "\n",
        "models = []\n",
        "models.append(('KNN', KNeighborsClassifier()))\n",
        "models.append(('SVC', SVC()))\n",
        "models.append(('DT', DecisionTreeClassifier()))\n",
        "models.append(('GNB', GaussianNB()))\n",
        "models.append(('RF', RandomForestClassifier()))\n",
        "models.append(('GB', GradientBoostingClassifier()))\n",
        "\n",
        "\n",
        "names = []\n",
        "scores = []\n",
        "for name, model in models:\n",
        "    model.fit(X_train, y_train)\n",
        "    y_pred = model.predict(X_test)\n",
        "    scores.append(accuracy_score(y_test, y_pred))\n",
        "    names.append(name)\n",
        "tr_split = pd.DataFrame({'Name': names, 'Score': scores})\n",
        "print(tr_split)"
      ],
      "execution_count": 47,
      "outputs": [
        {
          "output_type": "stream",
          "text": [
            "  Name     Score\n",
            "0  KNN  0.701657\n",
            "1  SVC  0.751381\n",
            "2   DT  0.685083\n",
            "3  GNB  0.734807\n",
            "4   RF  0.740331\n",
            "5   GB  0.734807\n"
          ],
          "name": "stdout"
        }
      ]
    },
    {
      "cell_type": "markdown",
      "metadata": {
        "id": "csrdjWcO7MKK"
      },
      "source": [
        "Classifier Vergleich: https://scikit-learn.org/stable/auto_examples/classification/plot_classifier_comparison.html"
      ]
    }
  ]
}